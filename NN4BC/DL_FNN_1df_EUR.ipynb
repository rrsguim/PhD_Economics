{
  "nbformat": 4,
  "nbformat_minor": 0,
  "metadata": {
    "colab": {
      "name": "DL_FNN_1df_EUR.ipynb",
      "provenance": [],
      "collapsed_sections": [],
      "toc_visible": true,
      "include_colab_link": true
    },
    "kernelspec": {
      "display_name": "Python 3",
      "name": "python3"
    }
  },
  "cells": [
    {
      "cell_type": "markdown",
      "metadata": {
        "id": "view-in-github",
        "colab_type": "text"
      },
      "source": [
        "<a href=\"https://colab.research.google.com/github/rrsguim/PhD_Economics/blob/master/DL_FNN_1df_EUR.ipynb\" target=\"_parent\"><img src=\"https://colab.research.google.com/assets/colab-badge.svg\" alt=\"Open In Colab\"/></a>"
      ]
    },
    {
      "cell_type": "markdown",
      "metadata": {
        "id": "dUeKVCYTbcyT"
      },
      "source": [
        "------------------------------------------------------------------------------------------------------\n",
        "Copyright (c) 2020 Rafael Guimaraes\n",
        "\n",
        "This work was done when I was at the University of California, Riverside, USA. \n",
        "\n",
        "It is part of my doctoral thesis in Economics at the Federal University of \n",
        "\n",
        "Rio Grande do Sul, Porto Alegre, Brazil.\n",
        "\n",
        "\n",
        "See full material at https://github.com/rrsguim/PhD_Economics\n",
        "\n",
        "The code below, under the Apache License, was inspired by\n",
        "\n",
        "*Classification on imbalanced data*, and \n",
        "\n",
        "*Introduction to the Keras Tuner*\n",
        "\n",
        "Copyright 2020 The TensorFlow Authors\n",
        "\n",
        "https://www.tensorflow.org/tutorials/structured_data/imbalanced_data\n",
        "\n",
        "https://www.tensorflow.org/tutorials/keras/keras_tuner\n",
        "\n",
        "-------------------------------------------------------------------------"
      ]
    },
    {
      "cell_type": "markdown",
      "metadata": {
        "id": "gJT7cOb44eDi"
      },
      "source": [
        "# Transfer Learning for Business Cycle Identification"
      ]
    },
    {
      "cell_type": "markdown",
      "metadata": {
        "id": "CJW6mqC85CRP"
      },
      "source": [
        "##Setup"
      ]
    },
    {
      "cell_type": "code",
      "metadata": {
        "id": "yJHVo_K_v20i"
      },
      "source": [
        "from __future__ import absolute_import, division, print_function, unicode_literals"
      ],
      "execution_count": null,
      "outputs": []
    },
    {
      "cell_type": "code",
      "metadata": {
        "id": "fYBlUQ5FvzxP"
      },
      "source": [
        "try:\n",
        "  # %tensorflow_version only exists in Colab.\n",
        "  %tensorflow_version 2.x\n",
        "except Exception:\n",
        "  pass"
      ],
      "execution_count": null,
      "outputs": []
    },
    {
      "cell_type": "code",
      "metadata": {
        "id": "43tKdRoNecNy",
        "colab": {
          "base_uri": "https://localhost:8080/"
        },
        "outputId": "53cb6386-0c70-4aab-b87a-32404ac7364a"
      },
      "source": [
        "!pip install -U keras-tuner"
      ],
      "execution_count": null,
      "outputs": [
        {
          "output_type": "stream",
          "text": [
            "Requirement already up-to-date: keras-tuner in /usr/local/lib/python3.6/dist-packages (1.0.2)\n",
            "Requirement already satisfied, skipping upgrade: numpy in /usr/local/lib/python3.6/dist-packages (from keras-tuner) (1.18.5)\n",
            "Requirement already satisfied, skipping upgrade: tqdm in /usr/local/lib/python3.6/dist-packages (from keras-tuner) (4.41.1)\n",
            "Requirement already satisfied, skipping upgrade: scipy in /usr/local/lib/python3.6/dist-packages (from keras-tuner) (1.4.1)\n",
            "Requirement already satisfied, skipping upgrade: colorama in /usr/local/lib/python3.6/dist-packages (from keras-tuner) (0.4.4)\n",
            "Requirement already satisfied, skipping upgrade: requests in /usr/local/lib/python3.6/dist-packages (from keras-tuner) (2.23.0)\n",
            "Requirement already satisfied, skipping upgrade: tabulate in /usr/local/lib/python3.6/dist-packages (from keras-tuner) (0.8.7)\n",
            "Requirement already satisfied, skipping upgrade: terminaltables in /usr/local/lib/python3.6/dist-packages (from keras-tuner) (3.1.0)\n",
            "Requirement already satisfied, skipping upgrade: packaging in /usr/local/lib/python3.6/dist-packages (from keras-tuner) (20.4)\n",
            "Requirement already satisfied, skipping upgrade: future in /usr/local/lib/python3.6/dist-packages (from keras-tuner) (0.16.0)\n",
            "Requirement already satisfied, skipping upgrade: scikit-learn in /usr/local/lib/python3.6/dist-packages (from keras-tuner) (0.22.2.post1)\n",
            "Requirement already satisfied, skipping upgrade: idna<3,>=2.5 in /usr/local/lib/python3.6/dist-packages (from requests->keras-tuner) (2.10)\n",
            "Requirement already satisfied, skipping upgrade: certifi>=2017.4.17 in /usr/local/lib/python3.6/dist-packages (from requests->keras-tuner) (2020.11.8)\n",
            "Requirement already satisfied, skipping upgrade: chardet<4,>=3.0.2 in /usr/local/lib/python3.6/dist-packages (from requests->keras-tuner) (3.0.4)\n",
            "Requirement already satisfied, skipping upgrade: urllib3!=1.25.0,!=1.25.1,<1.26,>=1.21.1 in /usr/local/lib/python3.6/dist-packages (from requests->keras-tuner) (1.24.3)\n",
            "Requirement already satisfied, skipping upgrade: six in /usr/local/lib/python3.6/dist-packages (from packaging->keras-tuner) (1.15.0)\n",
            "Requirement already satisfied, skipping upgrade: pyparsing>=2.0.2 in /usr/local/lib/python3.6/dist-packages (from packaging->keras-tuner) (2.4.7)\n",
            "Requirement already satisfied, skipping upgrade: joblib>=0.11 in /usr/local/lib/python3.6/dist-packages (from scikit-learn->keras-tuner) (0.17.0)\n"
          ],
          "name": "stdout"
        }
      ]
    },
    {
      "cell_type": "code",
      "metadata": {
        "id": "JM7hDSNClfoK"
      },
      "source": [
        "import tensorflow as tf\n",
        "from tensorflow import keras\n",
        "\n",
        "import IPython\n",
        "\n",
        "import kerastuner as kt\n",
        "from kerastuner import RandomSearch\n",
        "\n",
        "import os\n",
        "import tempfile\n",
        "\n",
        "import matplotlib as mpl\n",
        "import matplotlib.pyplot as plt\n",
        "import numpy as np\n",
        "import pandas as pd\n",
        "import seaborn as sns\n",
        "\n",
        "import sklearn\n",
        "from sklearn.metrics import confusion_matrix\n",
        "from sklearn.model_selection import train_test_split\n",
        "from sklearn.preprocessing import StandardScaler"
      ],
      "execution_count": null,
      "outputs": []
    },
    {
      "cell_type": "code",
      "metadata": {
        "id": "c8o1FHzD-_y_"
      },
      "source": [
        "mpl.rcParams['figure.figsize'] = (12, 10)\n",
        "colors = plt.rcParams['axes.prop_cycle'].by_key()['color']"
      ],
      "execution_count": null,
      "outputs": []
    },
    {
      "cell_type": "markdown",
      "metadata": {
        "id": "7JfLUlawto_D"
      },
      "source": [
        "## Deep Learning | EUR"
      ]
    },
    {
      "cell_type": "markdown",
      "metadata": {
        "id": "oG4spZ-K5MkL"
      },
      "source": [
        "###Data loading and pre-processing"
      ]
    },
    {
      "cell_type": "markdown",
      "metadata": {
        "id": "mEkRw6GUWX0H"
      },
      "source": [
        "#### Data\n",
        "\n",
        "All data refer to Euro area from 2005Q1 to 2019Q4.\n",
        "\n",
        ">Column| Source| Description| Feature Type | Data Type\n",
        ">------------|--------------------|----------------------|-----------------|----------------\n",
        ">GDP | FRED-MD | CLVMNACSCAB1GQEA19 - Real Gross Domestic Product (19 countries), s.a. | Numerical | float\n",
        ">Income | FRED-MD | NAEXKP02EZQ189S - Private Final Consumption Expenditure, s.a. | Numerical | float\n",
        ">Employment | FRED-MD | LFESEETTEZQ647S - Employees, s.a. | Numerical | float\n",
        ">Industry | FRED-MD | PRMNTO01EZQ657S - Total Manufacturing Production, s.a. | Numerical | float\n",
        ">Sales | FRED-MD | SLRTTO01EZQ657S - Volume of Total Retail Trade sales, s.a. | Numerical | float\n",
        ">Target | CEPR | CEPR based Recession Indicator (1 = true; 0 = false) | Classification | integer"
      ]
    },
    {
      "cell_type": "code",
      "metadata": {
        "id": "pR_SnbMArXr7"
      },
      "source": [
        "file = tf.keras.utils\n",
        "raw_data = pd.read_csv('https://raw.githubusercontent.com/rrsguim/PhD_Economics/master/NN4BC/TL4BC_Euro_data_2005.csv')"
      ],
      "execution_count": null,
      "outputs": []
    },
    {
      "cell_type": "code",
      "metadata": {
        "id": "rGVtGyAas2Hz"
      },
      "source": [
        "raw_data.index = raw_data['DATE']\n",
        "drop_DATE = raw_data.pop('DATE')\n",
        "raw_data.index = pd.to_datetime(raw_data.index,infer_datetime_format=True)\n",
        "raw_data.index = raw_data.index.to_period(\"Q\")"
      ],
      "execution_count": null,
      "outputs": []
    },
    {
      "cell_type": "markdown",
      "metadata": {
        "id": "ABKRH0il6j3f"
      },
      "source": [
        "#### Examine the class label imbalance"
      ]
    },
    {
      "cell_type": "code",
      "metadata": {
        "id": "HCJFrtuY2iLF",
        "colab": {
          "base_uri": "https://localhost:8080/"
        },
        "outputId": "69f3cb27-8b29-4d1e-8f5e-ebf3c74059fc"
      },
      "source": [
        "neg, pos = np.bincount(raw_data['CEPR'])\n",
        "total = neg + pos\n",
        "print('Examples:\\n    Total: {}\\n    Positive: {} ({:.2f}% of total)\\n'.format(\n",
        "    total, pos, 100 * pos / total))"
      ],
      "execution_count": null,
      "outputs": [
        {
          "output_type": "stream",
          "text": [
            "Examples:\n",
            "    Total: 60\n",
            "    Positive: 11 (18.33% of total)\n",
            "\n"
          ],
          "name": "stdout"
        }
      ]
    },
    {
      "cell_type": "markdown",
      "metadata": {
        "id": "pScKKNZn66QT"
      },
      "source": [
        "#### Transform the features into log first difference."
      ]
    },
    {
      "cell_type": "code",
      "metadata": {
        "id": "Ef42jTuxEjnj"
      },
      "source": [
        "log_data = raw_data.copy()\n",
        "\n",
        "log_data['GDP'] = np.log(log_data['GDP'])\n",
        "log_data['Income'] = np.log(log_data['Income'])\n",
        "log_data['Employment'] = np.log(log_data['Employment'])\n",
        "log_data['Industry'] = np.log(log_data['Industry'])\n",
        "log_data['Sales'] = np.log(log_data['Sales'])"
      ],
      "execution_count": null,
      "outputs": []
    },
    {
      "cell_type": "code",
      "metadata": {
        "id": "qdiR9AXrMwI-"
      },
      "source": [
        "log_1df = log_data.copy()\n",
        "\n",
        "log_1df['GDP'] = log_data['GDP'] - log_data['GDP'].shift(1)\n",
        "log_1df['Income'] = log_data['Income'] - log_data['Income'].shift(1)\n",
        "log_1df['Employment'] = log_data['Employment'] - log_data['Employment'].shift(1)\n",
        "log_1df['Industry'] = log_data['Industry'] - log_data['Industry'].shift(1)\n",
        "log_1df['Sales'] = log_data['Sales'] - log_data['Sales'].shift(1)"
      ],
      "execution_count": null,
      "outputs": []
    },
    {
      "cell_type": "markdown",
      "metadata": {
        "id": "XD4o60p47wlD"
      },
      "source": [
        "Cut the first line because of NaN in lag features and observe last lines of the adjusted dataset."
      ]
    },
    {
      "cell_type": "code",
      "metadata": {
        "id": "OqJOIP2AY5RJ",
        "colab": {
          "base_uri": "https://localhost:8080/",
          "height": 235
        },
        "outputId": "ac3b765e-19b6-4740-a824-42b08c786998"
      },
      "source": [
        "log_1df = log_1df[1:]\n",
        "log_1df.tail()"
      ],
      "execution_count": null,
      "outputs": [
        {
          "output_type": "execute_result",
          "data": {
            "text/html": [
              "<div>\n",
              "<style scoped>\n",
              "    .dataframe tbody tr th:only-of-type {\n",
              "        vertical-align: middle;\n",
              "    }\n",
              "\n",
              "    .dataframe tbody tr th {\n",
              "        vertical-align: top;\n",
              "    }\n",
              "\n",
              "    .dataframe thead th {\n",
              "        text-align: right;\n",
              "    }\n",
              "</style>\n",
              "<table border=\"1\" class=\"dataframe\">\n",
              "  <thead>\n",
              "    <tr style=\"text-align: right;\">\n",
              "      <th></th>\n",
              "      <th>GDP</th>\n",
              "      <th>Income</th>\n",
              "      <th>Employment</th>\n",
              "      <th>Industry</th>\n",
              "      <th>Sales</th>\n",
              "      <th>CEPR</th>\n",
              "    </tr>\n",
              "    <tr>\n",
              "      <th>DATE</th>\n",
              "      <th></th>\n",
              "      <th></th>\n",
              "      <th></th>\n",
              "      <th></th>\n",
              "      <th></th>\n",
              "      <th></th>\n",
              "    </tr>\n",
              "  </thead>\n",
              "  <tbody>\n",
              "    <tr>\n",
              "      <th>2018Q4</th>\n",
              "      <td>0.004040</td>\n",
              "      <td>0.004252</td>\n",
              "      <td>0.002690</td>\n",
              "      <td>-0.006618</td>\n",
              "      <td>0.008472</td>\n",
              "      <td>0</td>\n",
              "    </tr>\n",
              "    <tr>\n",
              "      <th>2019Q1</th>\n",
              "      <td>0.005007</td>\n",
              "      <td>0.005031</td>\n",
              "      <td>0.003210</td>\n",
              "      <td>0.000978</td>\n",
              "      <td>0.007781</td>\n",
              "      <td>0</td>\n",
              "    </tr>\n",
              "    <tr>\n",
              "      <th>2019Q2</th>\n",
              "      <td>0.000958</td>\n",
              "      <td>0.002016</td>\n",
              "      <td>0.003068</td>\n",
              "      <td>-0.007640</td>\n",
              "      <td>0.005257</td>\n",
              "      <td>0</td>\n",
              "    </tr>\n",
              "    <tr>\n",
              "      <th>2019Q3</th>\n",
              "      <td>0.002983</td>\n",
              "      <td>0.004284</td>\n",
              "      <td>0.002983</td>\n",
              "      <td>-0.004796</td>\n",
              "      <td>0.005229</td>\n",
              "      <td>0</td>\n",
              "    </tr>\n",
              "    <tr>\n",
              "      <th>2019Q4</th>\n",
              "      <td>0.000601</td>\n",
              "      <td>0.001409</td>\n",
              "      <td>0.004518</td>\n",
              "      <td>-0.010876</td>\n",
              "      <td>0.002757</td>\n",
              "      <td>0</td>\n",
              "    </tr>\n",
              "  </tbody>\n",
              "</table>\n",
              "</div>"
            ],
            "text/plain": [
              "             GDP    Income  Employment  Industry     Sales  CEPR\n",
              "DATE                                                            \n",
              "2018Q4  0.004040  0.004252    0.002690 -0.006618  0.008472     0\n",
              "2019Q1  0.005007  0.005031    0.003210  0.000978  0.007781     0\n",
              "2019Q2  0.000958  0.002016    0.003068 -0.007640  0.005257     0\n",
              "2019Q3  0.002983  0.004284    0.002983 -0.004796  0.005229     0\n",
              "2019Q4  0.000601  0.001409    0.004518 -0.010876  0.002757     0"
            ]
          },
          "metadata": {
            "tags": []
          },
          "execution_count": 11
        }
      ]
    },
    {
      "cell_type": "markdown",
      "metadata": {
        "id": "A9UejVk58KJ-"
      },
      "source": [
        "#### Inspect pre-processed data"
      ]
    },
    {
      "cell_type": "code",
      "metadata": {
        "id": "brunxYyx8Nje",
        "colab": {
          "base_uri": "https://localhost:8080/",
          "height": 593
        },
        "outputId": "1d84cab4-1f4c-4de9-f4e1-725d34cc0b10"
      },
      "source": [
        "plt.plot(drop_DATE[1:], log_1df['GDP'], label='GDP')\n",
        "plt.plot(drop_DATE[1:], log_1df['Income'], label='Income')\n",
        "plt.plot(drop_DATE[1:], log_1df['Employment'], label='Employment')\n",
        "plt.plot(drop_DATE[1:], log_1df['Industry'], label='Industry')\n",
        "plt.plot(drop_DATE[1:], log_1df['Sales'], label='Sales')\n",
        "plt.bar(drop_DATE, raw_data['CEPR']/-20, width=1, linewidth=1, align='center', color=\"lightgray\", label='CEPR') \n",
        "plt.legend()\n",
        "plt.show()"
      ],
      "execution_count": null,
      "outputs": [
        {
          "output_type": "display_data",
          "data": {
            "image/png": "[encoded data removed]",
            "text/plain": [
              "<Figure size 864x720 with 1 Axes>"
            ]
          },
          "metadata": {
            "tags": [],
            "needs_background": "light"
          }
        }
      ]
    },
    {
      "cell_type": "markdown",
      "metadata": {
        "id": "n9RDMZQq8sV9"
      },
      "source": [
        "#### Split and shuffle\n",
        "\n",
        "Split the dataset into train, validation, and test sets. The validation set is used during the model fitting to evaluate the loss and any metrics, however, the model is not fit with this data. The test set is completely unused during the training phase and is only used at the end to evaluate how well the model generalizes to new data. This is especially important with imbalanced datasets where overfitting is a significant concern from the lack of training data."
      ]
    },
    {
      "cell_type": "code",
      "metadata": {
        "id": "xfxhKg7Yr1-b"
      },
      "source": [
        "# Use a utility from sklearn to split and shuffle our dataset.\n",
        "train_df, test_df = train_test_split(log_1df, test_size=0.3, random_state=0)  \n",
        "train_df, val_df = train_test_split(train_df, test_size=0.3, random_state=0)  \n",
        "\n",
        "# Form np arrays of labels and features.\n",
        "train_labels = np.array(train_df.pop('CEPR'))\n",
        "#bool_train_labels = train_labels != 0\n",
        "val_labels = np.array(val_df.pop('CEPR'))\n",
        "test_labels = np.array(test_df.pop('CEPR'))\n",
        "\n",
        "train_features = np.array(train_df)\n",
        "val_features = np.array(val_df)\n",
        "test_features = np.array(test_df)"
      ],
      "execution_count": null,
      "outputs": []
    },
    {
      "cell_type": "markdown",
      "metadata": {
        "id": "a7rZsWJ89bdf"
      },
      "source": [
        "#### Normalize\n",
        "\n",
        "Normalize the input features using the sklearn StandardScaler.\n",
        "This will set the mean to 0 and standard deviation to 1.\n",
        "\n",
        "Note: The `StandardScaler` is only fit using the `train_features` to be sure the model is not peeking at the validation or test sets. "
      ]
    },
    {
      "cell_type": "code",
      "metadata": {
        "id": "IO-qEUmJ5JQg"
      },
      "source": [
        "scaler = StandardScaler()\n",
        "train_features = scaler.fit_transform(train_features)\n",
        "\n",
        "val_features = scaler.transform(val_features)\n",
        "test_features = scaler.transform(test_features)\n",
        "\n",
        "train_features = np.clip(train_features, -5, 5)\n",
        "val_features = np.clip(val_features, -5, 5)\n",
        "test_features = np.clip(test_features, -5, 5)\n"
      ],
      "execution_count": null,
      "outputs": []
    },
    {
      "cell_type": "markdown",
      "metadata": {
        "id": "ciKNINi7-dFB"
      },
      "source": [
        "#### Initial bias\n",
        "\n",
        "The correct bias to set can be derived from:\n",
        "\n",
        "$$ p_0 = pos/(pos + neg) = 1/(1+e^{-b_0}) $$\n",
        "$$ b_0 = -log_e(1/p_0 - 1) $$\n",
        "$$ b_0 = log_e(pos/neg)$$\n",
        "\n",
        "Set that as the initial bias, and the model will give much more reasonable initial guesses."
      ]
    },
    {
      "cell_type": "code",
      "metadata": {
        "id": "F5KWPSjjstUS"
      },
      "source": [
        "initial_bias = np.log([pos/neg])"
      ],
      "execution_count": null,
      "outputs": []
    },
    {
      "cell_type": "markdown",
      "metadata": {
        "id": "lRgMMwGp-6cP"
      },
      "source": [
        "### Define the model and metrics\n",
        "\n",
        "Define a function that creates a simple neural network with a densly connected hidden layer, a [dropout](https://developers.google.com/machine-learning/glossary/#dropout_regularization) layer to reduce overfitting, and an output sigmoid layer that returns the probability of recession. Also, pick the optimal set of hyperparameters with [Keras Tunner](https://www.tensorflow.org/tutorials/keras/keras_tuner)."
      ]
    },
    {
      "cell_type": "code",
      "metadata": {
        "id": "3JQDzUqT3UYG"
      },
      "source": [
        "METRICS = [\n",
        "      keras.metrics.TruePositives(name='tp'),\n",
        "      keras.metrics.FalsePositives(name='fp'),\n",
        "      keras.metrics.TrueNegatives(name='tn'),\n",
        "      keras.metrics.FalseNegatives(name='fn'), \n",
        "      keras.metrics.BinaryAccuracy(name='accuracy'),\n",
        "      keras.metrics.Precision(name='precision'),\n",
        "      keras.metrics.Recall(name='recall'),\n",
        "      keras.metrics.AUC(name='auc'),\n",
        "]\n",
        "\n",
        "\n",
        "def make_model(hp, metrics = METRICS, output_bias = initial_bias):  \n",
        "  output_bias = tf.keras.initializers.Constant(output_bias)\n",
        "\n",
        "  model = keras.Sequential()\n",
        "  model.add(keras.layers.Flatten(input_shape=(train_features.shape[-1],))) \n",
        "  \n",
        "  # Tune the number of units in the Dense layers\n",
        "  # Choose an optimal value between 16-256\n",
        "  hp_units = hp.Int('units', min_value = 16, max_value = 256, step = 16)\n",
        "  \n",
        "  model.add(keras.layers.Dense(units = hp_units, activation = 'relu')) #Dense layer 1\n",
        "  model.add(keras.layers.Dense(units = hp_units, activation = 'relu')) #Dense layer 2\n",
        "  model.add(keras.layers.Dense(units = hp_units, activation = 'relu')) #Dense layer 3\n",
        "  #model.add(keras.layers.Dense(units = hp_units, activation = 'relu')) #Dense layer 4\n",
        "\n",
        "  model.add(keras.layers.Dropout(0.5)) # To prevent overfiting\n",
        "\n",
        "  model.add(keras.layers.Dense(1, activation='sigmoid', bias_initializer=output_bias)) # Output layer\n",
        "\n",
        "  # Tune the learning rate for the optimizer \n",
        "  # Choose an optimal value from 0.01, 0.001, or 0.0001\n",
        "  hp_learning_rate = hp.Choice('learning_rate', values = [1e-2, 1e-3, 1e-4])\n",
        "\n",
        "  model.compile(optimizer = keras.optimizers.Adam(learning_rate = hp_learning_rate),\n",
        "                loss = keras.losses.BinaryCrossentropy(),\n",
        "                #loss = keras.losses.SquaredHinge(), \n",
        "                metrics = metrics)\n",
        "  \n",
        "  return model\n"
      ],
      "execution_count": null,
      "outputs": []
    },
    {
      "cell_type": "code",
      "metadata": {
        "id": "Lu5g3-g6T7q0"
      },
      "source": [
        "tuner = kt.Hyperband(make_model,\n",
        "                     kt.Objective('val_auc', direction='max'), # Maximizes Area Under the ROC Curve\n",
        "                     max_epochs = 10,\n",
        "                     factor = 3,)\n",
        "                     #project_name = 'TL4BC')"
      ],
      "execution_count": null,
      "outputs": []
    },
    {
      "cell_type": "markdown",
      "metadata": {
        "id": "XBkamfpAAG-Y"
      },
      "source": [
        "#### Understanding useful metrics\n",
        "\n",
        "Notice that there are a few metrics defined above that can be computed by the model that will be helpful when evaluating the performance.\n",
        "\n",
        "\n",
        "\n",
        "*   **False** negatives and **false** positives are samples that were **incorrectly** classified\n",
        "*   **True** negatives and **true** positives are samples that were **correctly** classified\n",
        "*   **Accuracy** is the percentage of examples correctly classified\n",
        ">   $\\frac{\\text{true samples}}{\\text{total samples}}$\n",
        "*   **Precision** is the percentage of **predicted** positives that were correctly classified\n",
        ">   $\\frac{\\text{true positives}}{\\text{true positives + false positives}}$\n",
        "*   **Recall** is the percentage of **actual** positives that were correctly classified\n",
        ">   $\\frac{\\text{true positives}}{\\text{true positives + false negatives}}$\n",
        "*   **AUC** refers to the Area Under the Curve of a Receiver Operating Characteristic curve (ROC-AUC). This metric is equal to the probability that a classifier will rank a random positive sample higher than than a random negative sample.\n",
        "\n",
        "\n",
        "Read more:\n",
        "*  [True vs. False and Positive vs. Negative](https://developers.google.com/machine-learning/crash-course/classification/true-false-positive-negative)\n",
        "*  [Accuracy](https://developers.google.com/machine-learning/crash-course/classification/accuracy)\n",
        "*   [Precision and Recall](https://developers.google.com/machine-learning/crash-course/classification/precision-and-recall)\n",
        "*   [ROC-AUC](https://developers.google.com/machine-learning/crash-course/classification/roc-and-auc)"
      ]
    },
    {
      "cell_type": "markdown",
      "metadata": {
        "id": "CrOWQtQuIoz9"
      },
      "source": [
        "### Train the model"
      ]
    },
    {
      "cell_type": "markdown",
      "metadata": {
        "id": "4hKix_JPH5lq"
      },
      "source": [
        "Before running the hyperparameter search, define a callback to clear the training outputs at the end of every training step."
      ]
    },
    {
      "cell_type": "code",
      "metadata": {
        "id": "0vbL_9RaH6Xv"
      },
      "source": [
        "class ClearTrainingOutput(tf.keras.callbacks.Callback):\n",
        "  def on_train_end(*args, **kwargs):\n",
        "    IPython.display.clear_output(wait = True)"
      ],
      "execution_count": null,
      "outputs": []
    },
    {
      "cell_type": "markdown",
      "metadata": {
        "id": "LIzOvr5AIT8L"
      },
      "source": [
        "Run the hyperparameter search. The arguments for the search method are the same as those used for tf.keras.model.fit in addition to the callback above."
      ]
    },
    {
      "cell_type": "code",
      "metadata": {
        "id": "sA-2VTjfIUfL",
        "colab": {
          "base_uri": "https://localhost:8080/"
        },
        "outputId": "c00af576-3212-4ac7-efe2-1fb012f1abaa"
      },
      "source": [
        "tuner.search(train_features, train_labels,\n",
        "             epochs=50,\n",
        "             validation_data=(val_features, val_labels), callbacks = [ClearTrainingOutput()])\n",
        "\n",
        "# Get the optimal hyperparameters\n",
        "best_hps = tuner.get_best_hyperparameters(num_trials = 1)[0]\n",
        "\n",
        "print(f\"\"\"\n",
        "The hyperparameter search is complete. The optimal number of units in the densely-connected\n",
        "layers is {best_hps.get('units')}, and the optimal learning rate for the optimizer\n",
        "is {best_hps.get('learning_rate')}.\n",
        "\"\"\")"
      ],
      "execution_count": null,
      "outputs": [
        {
          "output_type": "stream",
          "text": [
            "Trial 30 Complete [00h 00m 03s]\n",
            "val_auc: 1.0\n",
            "\n",
            "Best val_auc So Far: 1.0\n",
            "Total elapsed time: 00h 01m 34s\n",
            "INFO:tensorflow:Oracle triggered exit\n",
            "\n",
            "The hyperparameter search is complete. The optimal number of units in the densely-connected\n",
            "layers is 112, and the optimal learning rate for the optimizer\n",
            "is 0.01.\n",
            "\n"
          ],
          "name": "stdout"
        }
      ]
    },
    {
      "cell_type": "markdown",
      "metadata": {
        "id": "cVPnf6mIJodT"
      },
      "source": [
        "Retrain the model with the optimal hyperparameters from the search."
      ]
    },
    {
      "cell_type": "code",
      "metadata": {
        "id": "LqLQQDGKJqkk",
        "colab": {
          "base_uri": "https://localhost:8080/"
        },
        "outputId": "f227248d-3d8c-4f88-eb4b-f1248a78effa"
      },
      "source": [
        "# Build the model with the optimal hyperparameters and train it on the data\n",
        "model = tuner.hypermodel.build(best_hps)\n",
        "baseline_history = model.fit(train_features, train_labels,\n",
        "             epochs=50,\n",
        "             validation_data=(val_features, val_labels))"
      ],
      "execution_count": null,
      "outputs": [
        {
          "output_type": "stream",
          "text": [
            "Epoch 1/50\n",
            "1/1 [==============================] - 1s 840ms/step - loss: 0.5375 - tp: 0.0000e+00 - fp: 0.0000e+00 - tn: 33.0000 - fn: 8.0000 - accuracy: 0.8049 - precision: 0.0000e+00 - recall: 0.0000e+00 - auc: 0.5455 - val_loss: 0.3581 - val_tp: 0.0000e+00 - val_fp: 0.0000e+00 - val_tn: 11.0000 - val_fn: 2.0000 - val_accuracy: 0.8462 - val_precision: 0.0000e+00 - val_recall: 0.0000e+00 - val_auc: 1.0000\n",
            "Epoch 2/50\n",
            "1/1 [==============================] - 0s 29ms/step - loss: 0.3474 - tp: 2.0000 - fp: 0.0000e+00 - tn: 22.0000 - fn: 4.0000 - accuracy: 0.8571 - precision: 1.0000 - recall: 0.3333 - auc: 0.9811 - val_loss: 0.2671 - val_tp: 0.0000e+00 - val_fp: 0.0000e+00 - val_tn: 11.0000 - val_fn: 2.0000 - val_accuracy: 0.8462 - val_precision: 0.0000e+00 - val_recall: 0.0000e+00 - val_auc: 1.0000\n",
            "Epoch 3/50\n",
            "1/1 [==============================] - 0s 22ms/step - loss: 0.2383 - tp: 3.0000 - fp: 0.0000e+00 - tn: 22.0000 - fn: 3.0000 - accuracy: 0.8929 - precision: 1.0000 - recall: 0.5000 - auc: 0.9848 - val_loss: 0.2177 - val_tp: 2.0000 - val_fp: 1.0000 - val_tn: 10.0000 - val_fn: 0.0000e+00 - val_accuracy: 0.9231 - val_precision: 0.6667 - val_recall: 1.0000 - val_auc: 1.0000\n",
            "Epoch 4/50\n",
            "1/1 [==============================] - 0s 23ms/step - loss: 0.1340 - tp: 6.0000 - fp: 1.0000 - tn: 21.0000 - fn: 0.0000e+00 - accuracy: 0.9643 - precision: 0.8571 - recall: 1.0000 - auc: 1.0000 - val_loss: 0.2105 - val_tp: 2.0000 - val_fp: 1.0000 - val_tn: 10.0000 - val_fn: 0.0000e+00 - val_accuracy: 0.9231 - val_precision: 0.6667 - val_recall: 1.0000 - val_auc: 1.0000\n",
            "Epoch 5/50\n",
            "1/1 [==============================] - 0s 21ms/step - loss: 0.0756 - tp: 6.0000 - fp: 0.0000e+00 - tn: 22.0000 - fn: 0.0000e+00 - accuracy: 1.0000 - precision: 1.0000 - recall: 1.0000 - auc: 1.0000 - val_loss: 0.2345 - val_tp: 2.0000 - val_fp: 1.0000 - val_tn: 10.0000 - val_fn: 0.0000e+00 - val_accuracy: 0.9231 - val_precision: 0.6667 - val_recall: 1.0000 - val_auc: 1.0000\n",
            "Epoch 6/50\n",
            "1/1 [==============================] - 0s 22ms/step - loss: 0.0309 - tp: 6.0000 - fp: 0.0000e+00 - tn: 22.0000 - fn: 0.0000e+00 - accuracy: 1.0000 - precision: 1.0000 - recall: 1.0000 - auc: 1.0000 - val_loss: 0.2813 - val_tp: 2.0000 - val_fp: 1.0000 - val_tn: 10.0000 - val_fn: 0.0000e+00 - val_accuracy: 0.9231 - val_precision: 0.6667 - val_recall: 1.0000 - val_auc: 1.0000\n",
            "Epoch 7/50\n",
            "1/1 [==============================] - 0s 22ms/step - loss: 0.0191 - tp: 6.0000 - fp: 0.0000e+00 - tn: 22.0000 - fn: 0.0000e+00 - accuracy: 1.0000 - precision: 1.0000 - recall: 1.0000 - auc: 1.0000 - val_loss: 0.3259 - val_tp: 2.0000 - val_fp: 1.0000 - val_tn: 10.0000 - val_fn: 0.0000e+00 - val_accuracy: 0.9231 - val_precision: 0.6667 - val_recall: 1.0000 - val_auc: 1.0000\n",
            "Epoch 8/50\n",
            "1/1 [==============================] - 0s 25ms/step - loss: 0.0444 - tp: 6.0000 - fp: 1.0000 - tn: 21.0000 - fn: 0.0000e+00 - accuracy: 0.9643 - precision: 0.8571 - recall: 1.0000 - auc: 1.0000 - val_loss: 0.3450 - val_tp: 2.0000 - val_fp: 1.0000 - val_tn: 10.0000 - val_fn: 0.0000e+00 - val_accuracy: 0.9231 - val_precision: 0.6667 - val_recall: 1.0000 - val_auc: 1.0000\n",
            "Epoch 9/50\n",
            "1/1 [==============================] - 0s 22ms/step - loss: 0.0164 - tp: 6.0000 - fp: 0.0000e+00 - tn: 22.0000 - fn: 0.0000e+00 - accuracy: 1.0000 - precision: 1.0000 - recall: 1.0000 - auc: 1.0000 - val_loss: 0.3361 - val_tp: 2.0000 - val_fp: 1.0000 - val_tn: 10.0000 - val_fn: 0.0000e+00 - val_accuracy: 0.9231 - val_precision: 0.6667 - val_recall: 1.0000 - val_auc: 1.0000\n",
            "Epoch 10/50\n",
            "1/1 [==============================] - 0s 22ms/step - loss: 0.0426 - tp: 5.0000 - fp: 0.0000e+00 - tn: 22.0000 - fn: 1.0000 - accuracy: 0.9643 - precision: 1.0000 - recall: 0.8333 - auc: 1.0000 - val_loss: 0.5488 - val_tp: 2.0000 - val_fp: 1.0000 - val_tn: 10.0000 - val_fn: 0.0000e+00 - val_accuracy: 0.9231 - val_precision: 0.6667 - val_recall: 1.0000 - val_auc: 0.9545\n",
            "Epoch 11/50\n",
            "1/1 [==============================] - 0s 26ms/step - loss: 0.0124 - tp: 6.0000 - fp: 0.0000e+00 - tn: 22.0000 - fn: 0.0000e+00 - accuracy: 1.0000 - precision: 1.0000 - recall: 1.0000 - auc: 1.0000 - val_loss: 0.7099 - val_tp: 2.0000 - val_fp: 1.0000 - val_tn: 10.0000 - val_fn: 0.0000e+00 - val_accuracy: 0.9231 - val_precision: 0.6667 - val_recall: 1.0000 - val_auc: 0.9545\n",
            "Epoch 12/50\n",
            "1/1 [==============================] - 0s 32ms/step - loss: 0.0553 - tp: 6.0000 - fp: 1.0000 - tn: 21.0000 - fn: 0.0000e+00 - accuracy: 0.9643 - precision: 0.8571 - recall: 1.0000 - auc: 1.0000 - val_loss: 0.6522 - val_tp: 2.0000 - val_fp: 1.0000 - val_tn: 10.0000 - val_fn: 0.0000e+00 - val_accuracy: 0.9231 - val_precision: 0.6667 - val_recall: 1.0000 - val_auc: 0.9545\n",
            "Epoch 13/50\n",
            "1/1 [==============================] - 0s 24ms/step - loss: 0.0094 - tp: 6.0000 - fp: 0.0000e+00 - tn: 22.0000 - fn: 0.0000e+00 - accuracy: 1.0000 - precision: 1.0000 - recall: 1.0000 - auc: 1.0000 - val_loss: 0.5119 - val_tp: 2.0000 - val_fp: 1.0000 - val_tn: 10.0000 - val_fn: 0.0000e+00 - val_accuracy: 0.9231 - val_precision: 0.6667 - val_recall: 1.0000 - val_auc: 0.9545\n",
            "Epoch 14/50\n",
            "1/1 [==============================] - 0s 22ms/step - loss: 0.0150 - tp: 6.0000 - fp: 0.0000e+00 - tn: 22.0000 - fn: 0.0000e+00 - accuracy: 1.0000 - precision: 1.0000 - recall: 1.0000 - auc: 1.0000 - val_loss: 0.5035 - val_tp: 2.0000 - val_fp: 1.0000 - val_tn: 10.0000 - val_fn: 0.0000e+00 - val_accuracy: 0.9231 - val_precision: 0.6667 - val_recall: 1.0000 - val_auc: 0.9545\n",
            "Epoch 15/50\n",
            "1/1 [==============================] - 0s 23ms/step - loss: 5.1381e-04 - tp: 6.0000 - fp: 0.0000e+00 - tn: 22.0000 - fn: 0.0000e+00 - accuracy: 1.0000 - precision: 1.0000 - recall: 1.0000 - auc: 1.0000 - val_loss: 0.4919 - val_tp: 2.0000 - val_fp: 1.0000 - val_tn: 10.0000 - val_fn: 0.0000e+00 - val_accuracy: 0.9231 - val_precision: 0.6667 - val_recall: 1.0000 - val_auc: 0.9545\n",
            "Epoch 16/50\n",
            "1/1 [==============================] - 0s 26ms/step - loss: 9.7799e-04 - tp: 6.0000 - fp: 0.0000e+00 - tn: 22.0000 - fn: 0.0000e+00 - accuracy: 1.0000 - precision: 1.0000 - recall: 1.0000 - auc: 1.0000 - val_loss: 0.4663 - val_tp: 2.0000 - val_fp: 1.0000 - val_tn: 10.0000 - val_fn: 0.0000e+00 - val_accuracy: 0.9231 - val_precision: 0.6667 - val_recall: 1.0000 - val_auc: 0.9545\n",
            "Epoch 17/50\n",
            "1/1 [==============================] - 0s 23ms/step - loss: 0.0013 - tp: 6.0000 - fp: 0.0000e+00 - tn: 22.0000 - fn: 0.0000e+00 - accuracy: 1.0000 - precision: 1.0000 - recall: 1.0000 - auc: 1.0000 - val_loss: 0.4833 - val_tp: 2.0000 - val_fp: 1.0000 - val_tn: 10.0000 - val_fn: 0.0000e+00 - val_accuracy: 0.9231 - val_precision: 0.6667 - val_recall: 1.0000 - val_auc: 0.9545\n",
            "Epoch 18/50\n",
            "1/1 [==============================] - 0s 26ms/step - loss: 1.7296e-04 - tp: 6.0000 - fp: 0.0000e+00 - tn: 22.0000 - fn: 0.0000e+00 - accuracy: 1.0000 - precision: 1.0000 - recall: 1.0000 - auc: 1.0000 - val_loss: 0.4983 - val_tp: 2.0000 - val_fp: 1.0000 - val_tn: 10.0000 - val_fn: 0.0000e+00 - val_accuracy: 0.9231 - val_precision: 0.6667 - val_recall: 1.0000 - val_auc: 0.9545\n",
            "Epoch 19/50\n",
            "1/1 [==============================] - 0s 27ms/step - loss: 0.0193 - tp: 6.0000 - fp: 0.0000e+00 - tn: 22.0000 - fn: 0.0000e+00 - accuracy: 1.0000 - precision: 1.0000 - recall: 1.0000 - auc: 1.0000 - val_loss: 0.8170 - val_tp: 2.0000 - val_fp: 1.0000 - val_tn: 10.0000 - val_fn: 0.0000e+00 - val_accuracy: 0.9231 - val_precision: 0.6667 - val_recall: 1.0000 - val_auc: 0.9545\n",
            "Epoch 20/50\n",
            "1/1 [==============================] - 0s 23ms/step - loss: 2.3905e-04 - tp: 6.0000 - fp: 0.0000e+00 - tn: 22.0000 - fn: 0.0000e+00 - accuracy: 1.0000 - precision: 1.0000 - recall: 1.0000 - auc: 1.0000 - val_loss: 1.0770 - val_tp: 2.0000 - val_fp: 1.0000 - val_tn: 10.0000 - val_fn: 0.0000e+00 - val_accuracy: 0.9231 - val_precision: 0.6667 - val_recall: 1.0000 - val_auc: 0.9545\n",
            "Epoch 21/50\n",
            "1/1 [==============================] - 0s 23ms/step - loss: 0.0016 - tp: 6.0000 - fp: 0.0000e+00 - tn: 22.0000 - fn: 0.0000e+00 - accuracy: 1.0000 - precision: 1.0000 - recall: 1.0000 - auc: 1.0000 - val_loss: 1.2834 - val_tp: 2.0000 - val_fp: 1.0000 - val_tn: 10.0000 - val_fn: 0.0000e+00 - val_accuracy: 0.9231 - val_precision: 0.6667 - val_recall: 1.0000 - val_auc: 0.9545\n",
            "Epoch 22/50\n",
            "1/1 [==============================] - 0s 24ms/step - loss: 0.0082 - tp: 6.0000 - fp: 0.0000e+00 - tn: 22.0000 - fn: 0.0000e+00 - accuracy: 1.0000 - precision: 1.0000 - recall: 1.0000 - auc: 1.0000 - val_loss: 1.3951 - val_tp: 2.0000 - val_fp: 1.0000 - val_tn: 10.0000 - val_fn: 0.0000e+00 - val_accuracy: 0.9231 - val_precision: 0.6667 - val_recall: 1.0000 - val_auc: 0.9545\n",
            "Epoch 23/50\n",
            "1/1 [==============================] - 0s 23ms/step - loss: 0.0019 - tp: 6.0000 - fp: 0.0000e+00 - tn: 22.0000 - fn: 0.0000e+00 - accuracy: 1.0000 - precision: 1.0000 - recall: 1.0000 - auc: 1.0000 - val_loss: 1.4772 - val_tp: 2.0000 - val_fp: 1.0000 - val_tn: 10.0000 - val_fn: 0.0000e+00 - val_accuracy: 0.9231 - val_precision: 0.6667 - val_recall: 1.0000 - val_auc: 0.9545\n",
            "Epoch 24/50\n",
            "1/1 [==============================] - 0s 23ms/step - loss: 0.0015 - tp: 6.0000 - fp: 0.0000e+00 - tn: 22.0000 - fn: 0.0000e+00 - accuracy: 1.0000 - precision: 1.0000 - recall: 1.0000 - auc: 1.0000 - val_loss: 1.5373 - val_tp: 2.0000 - val_fp: 1.0000 - val_tn: 10.0000 - val_fn: 0.0000e+00 - val_accuracy: 0.9231 - val_precision: 0.6667 - val_recall: 1.0000 - val_auc: 0.9545\n",
            "Epoch 25/50\n",
            "1/1 [==============================] - 0s 23ms/step - loss: 0.0014 - tp: 6.0000 - fp: 0.0000e+00 - tn: 22.0000 - fn: 0.0000e+00 - accuracy: 1.0000 - precision: 1.0000 - recall: 1.0000 - auc: 1.0000 - val_loss: 1.5782 - val_tp: 2.0000 - val_fp: 1.0000 - val_tn: 10.0000 - val_fn: 0.0000e+00 - val_accuracy: 0.9231 - val_precision: 0.6667 - val_recall: 1.0000 - val_auc: 0.9545\n",
            "Epoch 26/50\n",
            "1/1 [==============================] - 0s 23ms/step - loss: 0.0065 - tp: 6.0000 - fp: 0.0000e+00 - tn: 22.0000 - fn: 0.0000e+00 - accuracy: 1.0000 - precision: 1.0000 - recall: 1.0000 - auc: 1.0000 - val_loss: 1.5413 - val_tp: 2.0000 - val_fp: 1.0000 - val_tn: 10.0000 - val_fn: 0.0000e+00 - val_accuracy: 0.9231 - val_precision: 0.6667 - val_recall: 1.0000 - val_auc: 0.9545\n",
            "Epoch 27/50\n",
            "1/1 [==============================] - 0s 22ms/step - loss: 3.7294e-04 - tp: 6.0000 - fp: 0.0000e+00 - tn: 22.0000 - fn: 0.0000e+00 - accuracy: 1.0000 - precision: 1.0000 - recall: 1.0000 - auc: 1.0000 - val_loss: 1.5013 - val_tp: 2.0000 - val_fp: 1.0000 - val_tn: 10.0000 - val_fn: 0.0000e+00 - val_accuracy: 0.9231 - val_precision: 0.6667 - val_recall: 1.0000 - val_auc: 0.9545\n",
            "Epoch 28/50\n",
            "1/1 [==============================] - 0s 27ms/step - loss: 2.4079e-05 - tp: 6.0000 - fp: 0.0000e+00 - tn: 22.0000 - fn: 0.0000e+00 - accuracy: 1.0000 - precision: 1.0000 - recall: 1.0000 - auc: 1.0000 - val_loss: 1.4635 - val_tp: 2.0000 - val_fp: 1.0000 - val_tn: 10.0000 - val_fn: 0.0000e+00 - val_accuracy: 0.9231 - val_precision: 0.6667 - val_recall: 1.0000 - val_auc: 0.9545\n",
            "Epoch 29/50\n",
            "1/1 [==============================] - 0s 27ms/step - loss: 1.1620e-04 - tp: 6.0000 - fp: 0.0000e+00 - tn: 22.0000 - fn: 0.0000e+00 - accuracy: 1.0000 - precision: 1.0000 - recall: 1.0000 - auc: 1.0000 - val_loss: 1.4274 - val_tp: 2.0000 - val_fp: 1.0000 - val_tn: 10.0000 - val_fn: 0.0000e+00 - val_accuracy: 0.9231 - val_precision: 0.6667 - val_recall: 1.0000 - val_auc: 0.9545\n",
            "Epoch 30/50\n",
            "1/1 [==============================] - 0s 27ms/step - loss: 4.4981e-06 - tp: 6.0000 - fp: 0.0000e+00 - tn: 22.0000 - fn: 0.0000e+00 - accuracy: 1.0000 - precision: 1.0000 - recall: 1.0000 - auc: 1.0000 - val_loss: 1.3935 - val_tp: 2.0000 - val_fp: 1.0000 - val_tn: 10.0000 - val_fn: 0.0000e+00 - val_accuracy: 0.9231 - val_precision: 0.6667 - val_recall: 1.0000 - val_auc: 0.9545\n",
            "Epoch 31/50\n",
            "1/1 [==============================] - 0s 23ms/step - loss: 1.9804e-05 - tp: 6.0000 - fp: 0.0000e+00 - tn: 22.0000 - fn: 0.0000e+00 - accuracy: 1.0000 - precision: 1.0000 - recall: 1.0000 - auc: 1.0000 - val_loss: 1.3619 - val_tp: 2.0000 - val_fp: 1.0000 - val_tn: 10.0000 - val_fn: 0.0000e+00 - val_accuracy: 0.9231 - val_precision: 0.6667 - val_recall: 1.0000 - val_auc: 0.9545\n",
            "Epoch 32/50\n",
            "1/1 [==============================] - 0s 22ms/step - loss: 1.4959e-05 - tp: 6.0000 - fp: 0.0000e+00 - tn: 22.0000 - fn: 0.0000e+00 - accuracy: 1.0000 - precision: 1.0000 - recall: 1.0000 - auc: 1.0000 - val_loss: 1.3321 - val_tp: 2.0000 - val_fp: 1.0000 - val_tn: 10.0000 - val_fn: 0.0000e+00 - val_accuracy: 0.9231 - val_precision: 0.6667 - val_recall: 1.0000 - val_auc: 0.9545\n",
            "Epoch 33/50\n",
            "1/1 [==============================] - 0s 23ms/step - loss: 4.3567e-05 - tp: 6.0000 - fp: 0.0000e+00 - tn: 22.0000 - fn: 0.0000e+00 - accuracy: 1.0000 - precision: 1.0000 - recall: 1.0000 - auc: 1.0000 - val_loss: 1.3036 - val_tp: 2.0000 - val_fp: 1.0000 - val_tn: 10.0000 - val_fn: 0.0000e+00 - val_accuracy: 0.9231 - val_precision: 0.6667 - val_recall: 1.0000 - val_auc: 0.9545\n",
            "Epoch 34/50\n",
            "1/1 [==============================] - 0s 22ms/step - loss: 1.7446e-05 - tp: 6.0000 - fp: 0.0000e+00 - tn: 22.0000 - fn: 0.0000e+00 - accuracy: 1.0000 - precision: 1.0000 - recall: 1.0000 - auc: 1.0000 - val_loss: 1.2761 - val_tp: 2.0000 - val_fp: 1.0000 - val_tn: 10.0000 - val_fn: 0.0000e+00 - val_accuracy: 0.9231 - val_precision: 0.6667 - val_recall: 1.0000 - val_auc: 0.9545\n",
            "Epoch 35/50\n",
            "1/1 [==============================] - 0s 22ms/step - loss: 1.6881e-06 - tp: 6.0000 - fp: 0.0000e+00 - tn: 22.0000 - fn: 0.0000e+00 - accuracy: 1.0000 - precision: 1.0000 - recall: 1.0000 - auc: 1.0000 - val_loss: 1.2492 - val_tp: 2.0000 - val_fp: 1.0000 - val_tn: 10.0000 - val_fn: 0.0000e+00 - val_accuracy: 0.9231 - val_precision: 0.6667 - val_recall: 1.0000 - val_auc: 0.9545\n",
            "Epoch 36/50\n",
            "1/1 [==============================] - 0s 23ms/step - loss: 1.8410e-05 - tp: 6.0000 - fp: 0.0000e+00 - tn: 22.0000 - fn: 0.0000e+00 - accuracy: 1.0000 - precision: 1.0000 - recall: 1.0000 - auc: 1.0000 - val_loss: 1.2245 - val_tp: 2.0000 - val_fp: 1.0000 - val_tn: 10.0000 - val_fn: 0.0000e+00 - val_accuracy: 0.9231 - val_precision: 0.6667 - val_recall: 1.0000 - val_auc: 0.9545\n",
            "Epoch 37/50\n",
            "1/1 [==============================] - 0s 22ms/step - loss: 7.8150e-06 - tp: 6.0000 - fp: 0.0000e+00 - tn: 22.0000 - fn: 0.0000e+00 - accuracy: 1.0000 - precision: 1.0000 - recall: 1.0000 - auc: 1.0000 - val_loss: 1.2016 - val_tp: 2.0000 - val_fp: 1.0000 - val_tn: 10.0000 - val_fn: 0.0000e+00 - val_accuracy: 0.9231 - val_precision: 0.6667 - val_recall: 1.0000 - val_auc: 0.9545\n",
            "Epoch 38/50\n",
            "1/1 [==============================] - 0s 27ms/step - loss: 4.2733e-05 - tp: 6.0000 - fp: 0.0000e+00 - tn: 22.0000 - fn: 0.0000e+00 - accuracy: 1.0000 - precision: 1.0000 - recall: 1.0000 - auc: 1.0000 - val_loss: 1.1813 - val_tp: 2.0000 - val_fp: 1.0000 - val_tn: 10.0000 - val_fn: 0.0000e+00 - val_accuracy: 0.9231 - val_precision: 0.6667 - val_recall: 1.0000 - val_auc: 0.9545\n",
            "Epoch 39/50\n",
            "1/1 [==============================] - 0s 23ms/step - loss: 3.3825e-04 - tp: 6.0000 - fp: 0.0000e+00 - tn: 22.0000 - fn: 0.0000e+00 - accuracy: 1.0000 - precision: 1.0000 - recall: 1.0000 - auc: 1.0000 - val_loss: 1.1712 - val_tp: 2.0000 - val_fp: 1.0000 - val_tn: 10.0000 - val_fn: 0.0000e+00 - val_accuracy: 0.9231 - val_precision: 0.6667 - val_recall: 1.0000 - val_auc: 0.9545\n",
            "Epoch 40/50\n",
            "1/1 [==============================] - 0s 24ms/step - loss: 1.8155e-04 - tp: 6.0000 - fp: 0.0000e+00 - tn: 22.0000 - fn: 0.0000e+00 - accuracy: 1.0000 - precision: 1.0000 - recall: 1.0000 - auc: 1.0000 - val_loss: 1.1666 - val_tp: 2.0000 - val_fp: 1.0000 - val_tn: 10.0000 - val_fn: 0.0000e+00 - val_accuracy: 0.9231 - val_precision: 0.6667 - val_recall: 1.0000 - val_auc: 0.9545\n",
            "Epoch 41/50\n",
            "1/1 [==============================] - 0s 26ms/step - loss: 1.1136e-05 - tp: 6.0000 - fp: 0.0000e+00 - tn: 22.0000 - fn: 0.0000e+00 - accuracy: 1.0000 - precision: 1.0000 - recall: 1.0000 - auc: 1.0000 - val_loss: 1.1628 - val_tp: 2.0000 - val_fp: 1.0000 - val_tn: 10.0000 - val_fn: 0.0000e+00 - val_accuracy: 0.9231 - val_precision: 0.6667 - val_recall: 1.0000 - val_auc: 0.9545\n",
            "Epoch 42/50\n",
            "1/1 [==============================] - 0s 24ms/step - loss: 1.1119e-04 - tp: 6.0000 - fp: 0.0000e+00 - tn: 22.0000 - fn: 0.0000e+00 - accuracy: 1.0000 - precision: 1.0000 - recall: 1.0000 - auc: 1.0000 - val_loss: 1.1640 - val_tp: 2.0000 - val_fp: 1.0000 - val_tn: 10.0000 - val_fn: 0.0000e+00 - val_accuracy: 0.9231 - val_precision: 0.6667 - val_recall: 1.0000 - val_auc: 0.9545\n",
            "Epoch 43/50\n",
            "1/1 [==============================] - 0s 27ms/step - loss: 2.1959e-05 - tp: 6.0000 - fp: 0.0000e+00 - tn: 22.0000 - fn: 0.0000e+00 - accuracy: 1.0000 - precision: 1.0000 - recall: 1.0000 - auc: 1.0000 - val_loss: 1.1657 - val_tp: 2.0000 - val_fp: 1.0000 - val_tn: 10.0000 - val_fn: 0.0000e+00 - val_accuracy: 0.9231 - val_precision: 0.6667 - val_recall: 1.0000 - val_auc: 0.9545\n",
            "Epoch 44/50\n",
            "1/1 [==============================] - 0s 25ms/step - loss: 0.0103 - tp: 6.0000 - fp: 0.0000e+00 - tn: 22.0000 - fn: 0.0000e+00 - accuracy: 1.0000 - precision: 1.0000 - recall: 1.0000 - auc: 1.0000 - val_loss: 1.3939 - val_tp: 2.0000 - val_fp: 1.0000 - val_tn: 10.0000 - val_fn: 0.0000e+00 - val_accuracy: 0.9231 - val_precision: 0.6667 - val_recall: 1.0000 - val_auc: 0.9545\n",
            "Epoch 45/50\n",
            "1/1 [==============================] - 0s 30ms/step - loss: 1.3305e-07 - tp: 6.0000 - fp: 0.0000e+00 - tn: 22.0000 - fn: 0.0000e+00 - accuracy: 1.0000 - precision: 1.0000 - recall: 1.0000 - auc: 1.0000 - val_loss: 1.5808 - val_tp: 2.0000 - val_fp: 1.0000 - val_tn: 10.0000 - val_fn: 0.0000e+00 - val_accuracy: 0.9231 - val_precision: 0.6667 - val_recall: 1.0000 - val_auc: 0.9545\n",
            "Epoch 46/50\n",
            "1/1 [==============================] - 0s 25ms/step - loss: 4.4179e-06 - tp: 6.0000 - fp: 0.0000e+00 - tn: 22.0000 - fn: 0.0000e+00 - accuracy: 1.0000 - precision: 1.0000 - recall: 1.0000 - auc: 1.0000 - val_loss: 1.7487 - val_tp: 2.0000 - val_fp: 1.0000 - val_tn: 10.0000 - val_fn: 0.0000e+00 - val_accuracy: 0.9231 - val_precision: 0.6667 - val_recall: 1.0000 - val_auc: 0.9545\n",
            "Epoch 47/50\n",
            "1/1 [==============================] - 0s 28ms/step - loss: 2.0020e-06 - tp: 6.0000 - fp: 0.0000e+00 - tn: 22.0000 - fn: 0.0000e+00 - accuracy: 1.0000 - precision: 1.0000 - recall: 1.0000 - auc: 1.0000 - val_loss: 1.8926 - val_tp: 2.0000 - val_fp: 1.0000 - val_tn: 10.0000 - val_fn: 0.0000e+00 - val_accuracy: 0.9231 - val_precision: 0.6667 - val_recall: 1.0000 - val_auc: 0.9545\n",
            "Epoch 48/50\n",
            "1/1 [==============================] - 0s 23ms/step - loss: 1.0614e-05 - tp: 6.0000 - fp: 0.0000e+00 - tn: 22.0000 - fn: 0.0000e+00 - accuracy: 1.0000 - precision: 1.0000 - recall: 1.0000 - auc: 1.0000 - val_loss: 2.0217 - val_tp: 2.0000 - val_fp: 1.0000 - val_tn: 10.0000 - val_fn: 0.0000e+00 - val_accuracy: 0.9231 - val_precision: 0.6667 - val_recall: 1.0000 - val_auc: 0.9545\n",
            "Epoch 49/50\n",
            "1/1 [==============================] - 0s 22ms/step - loss: 1.0137e-05 - tp: 6.0000 - fp: 0.0000e+00 - tn: 22.0000 - fn: 0.0000e+00 - accuracy: 1.0000 - precision: 1.0000 - recall: 1.0000 - auc: 1.0000 - val_loss: 2.1398 - val_tp: 2.0000 - val_fp: 1.0000 - val_tn: 10.0000 - val_fn: 0.0000e+00 - val_accuracy: 0.9231 - val_precision: 0.6667 - val_recall: 1.0000 - val_auc: 0.9545\n",
            "Epoch 50/50\n",
            "1/1 [==============================] - 0s 23ms/step - loss: 1.7663e-04 - tp: 6.0000 - fp: 0.0000e+00 - tn: 22.0000 - fn: 0.0000e+00 - accuracy: 1.0000 - precision: 1.0000 - recall: 1.0000 - auc: 1.0000 - val_loss: 2.2412 - val_tp: 2.0000 - val_fp: 1.0000 - val_tn: 10.0000 - val_fn: 0.0000e+00 - val_accuracy: 0.9231 - val_precision: 0.6667 - val_recall: 1.0000 - val_auc: 0.9545\n"
          ],
          "name": "stdout"
        }
      ]
    },
    {
      "cell_type": "markdown",
      "metadata": {
        "id": "15V1uaAsM5bR"
      },
      "source": [
        "### Results"
      ]
    },
    {
      "cell_type": "markdown",
      "metadata": {
        "id": "SQez8dYQO4G2"
      },
      "source": [
        "#### Compare with CODACE"
      ]
    },
    {
      "cell_type": "code",
      "metadata": {
        "id": "z888rrtb6w9U"
      },
      "source": [
        "dataset_copy = log_1df\n",
        "y = dataset_copy.pop('CEPR')\n",
        "x = dataset_copy"
      ],
      "execution_count": null,
      "outputs": []
    },
    {
      "cell_type": "code",
      "metadata": {
        "id": "VXgYxb3vKE9F",
        "colab": {
          "base_uri": "https://localhost:8080/"
        },
        "outputId": "03582ca4-cce4-481a-c29d-13a97bac3d91"
      },
      "source": [
        "EUR_model = model.predict(scaler.fit_transform(x))\n",
        "time_axis = range(0,y.shape[0])\n",
        "plt.bar(time_axis, y.T, width=1, linewidth=1, align='center', color=\"lightgray\", label='CEPR') \n",
        "plt.plot(time_axis, EUR_model, 'b-', color=\"royalblue\", label='EUR_model')\n",
        "plt.legend()\n",
        "plt.show()"
      ],
      "execution_count": null,
      "outputs": [
        {
          "output_type": "display_data",
          "data": {
            "image/png": "[encoded data removed]",
            "text/plain": [
              "<Figure size 864x720 with 1 Axes>"
            ]
          },
          "metadata": {
            "tags": [],
            "needs_background": "light"
          }
        }
      ]
    },
    {
      "cell_type": "markdown",
      "metadata": {
        "id": "zjCmyIsVMuys"
      },
      "source": [
        "#### Confusion matrix\n",
        "\n",
        "We can use a [confusion matrix](https://developers.google.com/machine-learning/glossary/#confusion_matrix) to summarize the actual vs. predicted labels."
      ]
    },
    {
      "cell_type": "code",
      "metadata": {
        "id": "l5n43LqOM_vG"
      },
      "source": [
        "test_predictions_baseline = model.predict(test_features)"
      ],
      "execution_count": null,
      "outputs": []
    },
    {
      "cell_type": "code",
      "metadata": {
        "id": "4ugClbDuNNat"
      },
      "source": [
        "def plot_cm(labels, predictions, p=0.5):\n",
        "  cm = confusion_matrix(labels, predictions > p)\n",
        "  plt.figure(figsize=(5,5))\n",
        "  sns.heatmap(cm, annot=True, fmt=\"d\")\n",
        "  plt.title('Confusion matrix @{:.2f}'.format(p))\n",
        "  plt.ylabel('Actual label')\n",
        "  plt.xlabel('Predicted label')\n",
        "\n",
        "  print('Expansions Detected (True Negatives): ', cm[0][0])\n",
        "  print('Expansions Incorrectly Detected (False Positives): ', cm[0][1])\n",
        "  print('Recessions Missed (False Negatives): ', cm[1][0])\n",
        "  print('Recessions Detected (True Positives): ', cm[1][1])\n",
        "  print('Total Recessions: ', np.sum(cm[1]))"
      ],
      "execution_count": null,
      "outputs": []
    },
    {
      "cell_type": "markdown",
      "metadata": {
        "id": "6xKUhOdzNT6o"
      },
      "source": [
        "Evaluate the model on the TEST dataset and display the results for the metrics you created above."
      ]
    },
    {
      "cell_type": "code",
      "metadata": {
        "id": "ivZOj7SSNX69",
        "colab": {
          "base_uri": "https://localhost:8080/"
        },
        "outputId": "d3f03040-b4f4-4019-ea43-a0b5f6b80d44"
      },
      "source": [
        "baseline_results = model.evaluate(test_features, test_labels, verbose=0)\n",
        "for name, value in zip(model.metrics_names, baseline_results):\n",
        "  print(name, ': ', value)\n",
        "print()\n",
        "\n",
        "plot_cm(test_labels, test_predictions_baseline)"
      ],
      "execution_count": null,
      "outputs": [
        {
          "output_type": "stream",
          "text": [
            "loss :  5.855130918004875e-15\n",
            "tp :  3.0\n",
            "fp :  0.0\n",
            "tn :  15.0\n",
            "fn :  0.0\n",
            "accuracy :  1.0\n",
            "precision :  1.0\n",
            "recall :  1.0\n",
            "auc :  1.0\n",
            "\n",
            "Expansions Detected (True Negatives):  15\n",
            "Expansions Incorrectly Detected (False Positives):  0\n",
            "Recessions Missed (False Negatives):  0\n",
            "Recessions Detected (True Positives):  3\n",
            "Total Recessions:  3\n"
          ],
          "name": "stdout"
        },
        {
          "output_type": "display_data",
          "data": {
            "image/png": "[encoded data removed]",
            "text/plain": [
              "<Figure size 360x360 with 2 Axes>"
            ]
          },
          "metadata": {
            "tags": [],
            "needs_background": "light"
          }
        }
      ]
    },
    {
      "cell_type": "markdown",
      "metadata": {
        "id": "FTiwfmOgmer1"
      },
      "source": [
        "##Export classification data"
      ]
    },
    {
      "cell_type": "code",
      "metadata": {
        "id": "RLseY0JwmsHa"
      },
      "source": [
        "#import datetime\n",
        "#now = datetime.datetime.now().strftime(\"%Y%m%d_%Hh%M\")"
      ],
      "execution_count": null,
      "outputs": []
    },
    {
      "cell_type": "code",
      "metadata": {
        "id": "krjbSWZoz-PX"
      },
      "source": [
        "#TL4BC_BR = pd.DataFrame(y)\n",
        "#TL4BC_BR['BR_model'] = np.array(BR_model)\n",
        "\n",
        "#a1 = np.asarray(TL4BC_BR)\n",
        "#np.savetxt(\"TL4BC_BR_output_\"+now+\".csv\", a1, delimiter=\",\")"
      ],
      "execution_count": null,
      "outputs": []
    }
  ]
}
