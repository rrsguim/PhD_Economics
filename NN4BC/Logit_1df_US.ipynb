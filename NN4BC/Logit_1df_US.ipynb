{
  "nbformat": 4,
  "nbformat_minor": 0,
  "metadata": {
    "colab": {
      "name": "Logit_1df_US.ipynb",
      "provenance": [],
      "collapsed_sections": [],
      "toc_visible": true,
      "include_colab_link": true
    },
    "kernelspec": {
      "display_name": "Python 3",
      "name": "python3"
    }
  },
  "cells": [
    {
      "cell_type": "markdown",
      "metadata": {
        "id": "view-in-github",
        "colab_type": "text"
      },
      "source": [
        "<a href=\"https://colab.research.google.com/github/rrsguim/PhD_Economics/blob/master/NN4BC/Logit_1df_US.ipynb\" target=\"_parent\"><img src=\"https://colab.research.google.com/assets/colab-badge.svg\" alt=\"Open In Colab\"/></a>"
      ]
    },
    {
      "cell_type": "markdown",
      "metadata": {
        "id": "dUeKVCYTbcyT"
      },
      "source": [
        "------------------------------------------------------------------------------------------------------\n",
        "Copyright (c) 2020 Rafael Guimaraes\n",
        "\n",
        "This work was done when I was at the University of California, Riverside, USA. \n",
        "\n",
        "It is part of my doctoral thesis in Economics at the Federal University of \n",
        "\n",
        "Rio Grande do Sul, Porto Alegre, Brazil.\n",
        "\n",
        "\n",
        "See full material at https://github.com/rrsguim/PhD_Economics\n",
        "\n",
        "The code below, under the Apache License, was inspired by\n",
        "\n",
        "*Building A Logistic Regression in Python*,\n",
        "\n",
        "Copyright 2017 Susan Li\n",
        "\n",
        "https://towardsdatascience.com/building-a-logistic-regression-in-python-step-by-step-becd4d56c9c8\n",
        "\n",
        "-------------------------------------------------------------------------"
      ]
    },
    {
      "cell_type": "markdown",
      "metadata": {
        "id": "gJT7cOb44eDi"
      },
      "source": [
        "# Transfer Learning for Business Cycle Identification"
      ]
    },
    {
      "cell_type": "markdown",
      "metadata": {
        "id": "CJW6mqC85CRP"
      },
      "source": [
        "##Setup"
      ]
    },
    {
      "cell_type": "code",
      "metadata": {
        "id": "KwO2V9Lr-l04"
      },
      "source": [
        "import pandas as pd\n",
        "import numpy as np\n",
        "from sklearn import preprocessing\n",
        "import matplotlib.pyplot as plt \n",
        "plt.rc(\"font\", size=14)\n",
        "from sklearn.linear_model import LogisticRegression\n",
        "from sklearn.model_selection import train_test_split\n",
        "import seaborn as sns\n",
        "sns.set(style=\"white\")\n",
        "sns.set(style=\"whitegrid\", color_codes=True)"
      ],
      "execution_count": null,
      "outputs": []
    },
    {
      "cell_type": "markdown",
      "metadata": {
        "id": "KdLNnkHS_vOe"
      },
      "source": [
        "####US data"
      ]
    },
    {
      "cell_type": "code",
      "metadata": {
        "id": "Qw73ttBS-l7i"
      },
      "source": [
        "raw_data = pd.read_csv('https://raw.githubusercontent.com/rrsguim/PhD_Economics/master/NN4BC/TL4BC_US_data.csv')"
      ],
      "execution_count": null,
      "outputs": []
    },
    {
      "cell_type": "code",
      "metadata": {
        "id": "_yScnRHc-mFj"
      },
      "source": [
        "raw_data.index = raw_data['DATE']\n",
        "drop_DATE = raw_data.pop('DATE')\n",
        "raw_data.index = pd.to_datetime(raw_data.index,infer_datetime_format=True)\n",
        "raw_data.index = raw_data.index.to_period(\"Q\")"
      ],
      "execution_count": null,
      "outputs": []
    },
    {
      "cell_type": "markdown",
      "metadata": {
        "id": "fqgrJzBKAuFa"
      },
      "source": [
        "#### Transform the features into log first difference."
      ]
    },
    {
      "cell_type": "code",
      "metadata": {
        "id": "RG8CQ7cS-mLd"
      },
      "source": [
        "log_data = raw_data.copy()\n",
        "\n",
        "log_data['GDP'] = np.log(log_data['GDP'])\n",
        "log_data['Income'] = np.log(log_data['Income'])\n",
        "log_data['Employment'] = np.log(log_data['Employment'])\n",
        "log_data['Industry'] = np.log(log_data['Industry'])\n",
        "log_data['Sales'] = np.log(log_data['Sales'])"
      ],
      "execution_count": null,
      "outputs": []
    },
    {
      "cell_type": "code",
      "metadata": {
        "id": "Fggca1EJ-mRE"
      },
      "source": [
        "log_1df = log_data.copy()\n",
        "\n",
        "log_1df['GDP'] = log_data['GDP'] - log_data['GDP'].shift(1)\n",
        "log_1df['Income'] = log_data['Income'] - log_data['Income'].shift(1)\n",
        "log_1df['Employment'] = log_data['Employment'] - log_data['Employment'].shift(1)\n",
        "log_1df['Industry'] = log_data['Industry'] - log_data['Industry'].shift(1)\n",
        "log_1df['Sales'] = log_data['Sales'] - log_data['Sales'].shift(1)"
      ],
      "execution_count": null,
      "outputs": []
    },
    {
      "cell_type": "code",
      "metadata": {
        "colab": {
          "base_uri": "https://localhost:8080/",
          "height": 235
        },
        "id": "28RN-_Kv-mXk",
        "outputId": "003924e6-c8a7-495d-fa70-78587e565e7a"
      },
      "source": [
        "log_1df = log_1df[1:]\n",
        "log_1df.tail()"
      ],
      "execution_count": null,
      "outputs": [
        {
          "output_type": "execute_result",
          "data": {
            "text/html": [
              "<div>\n",
              "<style scoped>\n",
              "    .dataframe tbody tr th:only-of-type {\n",
              "        vertical-align: middle;\n",
              "    }\n",
              "\n",
              "    .dataframe tbody tr th {\n",
              "        vertical-align: top;\n",
              "    }\n",
              "\n",
              "    .dataframe thead th {\n",
              "        text-align: right;\n",
              "    }\n",
              "</style>\n",
              "<table border=\"1\" class=\"dataframe\">\n",
              "  <thead>\n",
              "    <tr style=\"text-align: right;\">\n",
              "      <th></th>\n",
              "      <th>GDP</th>\n",
              "      <th>Income</th>\n",
              "      <th>Employment</th>\n",
              "      <th>Industry</th>\n",
              "      <th>Sales</th>\n",
              "      <th>NBER</th>\n",
              "    </tr>\n",
              "    <tr>\n",
              "      <th>DATE</th>\n",
              "      <th></th>\n",
              "      <th></th>\n",
              "      <th></th>\n",
              "      <th></th>\n",
              "      <th></th>\n",
              "      <th></th>\n",
              "    </tr>\n",
              "  </thead>\n",
              "  <tbody>\n",
              "    <tr>\n",
              "      <th>2018Q4</th>\n",
              "      <td>0.002710</td>\n",
              "      <td>0.005645</td>\n",
              "      <td>0.004112</td>\n",
              "      <td>0.009481</td>\n",
              "      <td>0.003436</td>\n",
              "      <td>0</td>\n",
              "    </tr>\n",
              "    <tr>\n",
              "      <th>2019Q1</th>\n",
              "      <td>0.007623</td>\n",
              "      <td>0.009776</td>\n",
              "      <td>0.001403</td>\n",
              "      <td>-0.004879</td>\n",
              "      <td>0.014956</td>\n",
              "      <td>0</td>\n",
              "    </tr>\n",
              "    <tr>\n",
              "      <th>2019Q2</th>\n",
              "      <td>0.004985</td>\n",
              "      <td>0.004228</td>\n",
              "      <td>0.000904</td>\n",
              "      <td>-0.005700</td>\n",
              "      <td>-0.005293</td>\n",
              "      <td>0</td>\n",
              "    </tr>\n",
              "    <tr>\n",
              "      <th>2019Q3</th>\n",
              "      <td>0.005204</td>\n",
              "      <td>0.001736</td>\n",
              "      <td>0.007021</td>\n",
              "      <td>0.002808</td>\n",
              "      <td>0.009172</td>\n",
              "      <td>0</td>\n",
              "    </tr>\n",
              "    <tr>\n",
              "      <th>2019Q4</th>\n",
              "      <td>0.005261</td>\n",
              "      <td>0.005844</td>\n",
              "      <td>0.001715</td>\n",
              "      <td>0.000877</td>\n",
              "      <td>0.000543</td>\n",
              "      <td>0</td>\n",
              "    </tr>\n",
              "  </tbody>\n",
              "</table>\n",
              "</div>"
            ],
            "text/plain": [
              "             GDP    Income  Employment  Industry     Sales  NBER\n",
              "DATE                                                            \n",
              "2018Q4  0.002710  0.005645    0.004112  0.009481  0.003436     0\n",
              "2019Q1  0.007623  0.009776    0.001403 -0.004879  0.014956     0\n",
              "2019Q2  0.004985  0.004228    0.000904 -0.005700 -0.005293     0\n",
              "2019Q3  0.005204  0.001736    0.007021  0.002808  0.009172     0\n",
              "2019Q4  0.005261  0.005844    0.001715  0.000877  0.000543     0"
            ]
          },
          "metadata": {
            "tags": []
          },
          "execution_count": 6
        }
      ]
    },
    {
      "cell_type": "markdown",
      "metadata": {
        "id": "k9jVUOXYBZxj"
      },
      "source": [
        "####Data exploration"
      ]
    },
    {
      "cell_type": "markdown",
      "metadata": {
        "id": "mwQnSGbqA4oc"
      },
      "source": [
        "#### Inspect pre-processed data"
      ]
    },
    {
      "cell_type": "code",
      "metadata": {
        "colab": {
          "base_uri": "https://localhost:8080/",
          "height": 268
        },
        "id": "34TO-D4R-mk-",
        "outputId": "7609de50-17b3-4596-9258-d986859ef14a"
      },
      "source": [
        "plt.plot(drop_DATE[1:], log_1df['GDP'], label='GDP')\n",
        "plt.plot(drop_DATE[1:], log_1df['Income'], label='Income')\n",
        "plt.plot(drop_DATE[1:], log_1df['Employment'], label='Employment')\n",
        "plt.plot(drop_DATE[1:], log_1df['Industry'], label='Industry')\n",
        "plt.plot(drop_DATE[1:], log_1df['Sales'], label='Sales')\n",
        "plt.bar(drop_DATE, raw_data['NBER']/-20, width=1, linewidth=1, align='center', color=\"lightgray\", label='NBER') \n",
        "plt.legend()\n",
        "plt.show()"
      ],
      "execution_count": null,
      "outputs": [
        {
          "output_type": "display_data",
          "data": {
            "image/png": "[encoded data removed]",
            "text/plain": [
              "<Figure size 432x288 with 1 Axes>"
            ]
          },
          "metadata": {
            "tags": [],
            "needs_background": "light"
          }
        }
      ]
    },
    {
      "cell_type": "markdown",
      "metadata": {
        "id": "7OEJXlP9gboD"
      },
      "source": [
        "##### Examine the class label imbalance"
      ]
    },
    {
      "cell_type": "code",
      "metadata": {
        "colab": {
          "base_uri": "https://localhost:8080/"
        },
        "id": "XS7GTEKeBV_V",
        "outputId": "9b259826-9883-412f-a494-b7cdb6c68e60"
      },
      "source": [
        "log_1df['NBER'].value_counts()"
      ],
      "execution_count": null,
      "outputs": [
        {
          "output_type": "execute_result",
          "data": {
            "text/plain": [
              "0    184\n",
              "1     27\n",
              "Name: NBER, dtype: int64"
            ]
          },
          "metadata": {
            "tags": []
          },
          "execution_count": 8
        }
      ]
    },
    {
      "cell_type": "code",
      "metadata": {
        "id": "HCJFrtuY2iLF",
        "colab": {
          "base_uri": "https://localhost:8080/"
        },
        "outputId": "e71ad2e1-90ef-4170-a305-f1178bdcaeaa"
      },
      "source": [
        "neg, pos = np.bincount(log_1df['NBER']) \n",
        "total = neg + pos\n",
        "print('Examples:\\n    Total: {}\\n    Positive: {} ({:.2f}% of total)\\n'.format(\n",
        "    total, pos, 100 * pos / total))"
      ],
      "execution_count": null,
      "outputs": [
        {
          "output_type": "stream",
          "text": [
            "Examples:\n",
            "    Total: 211\n",
            "    Positive: 27 (12.80% of total)\n",
            "\n"
          ],
          "name": "stdout"
        }
      ]
    },
    {
      "cell_type": "code",
      "metadata": {
        "colab": {
          "base_uri": "https://localhost:8080/",
          "height": 142
        },
        "id": "H46G1fn_-mpf",
        "outputId": "a117a172-1cad-4f5b-c781-7f4164b137c2"
      },
      "source": [
        "log_1df.groupby('NBER').mean()"
      ],
      "execution_count": null,
      "outputs": [
        {
          "output_type": "execute_result",
          "data": {
            "text/html": [
              "<div>\n",
              "<style scoped>\n",
              "    .dataframe tbody tr th:only-of-type {\n",
              "        vertical-align: middle;\n",
              "    }\n",
              "\n",
              "    .dataframe tbody tr th {\n",
              "        vertical-align: top;\n",
              "    }\n",
              "\n",
              "    .dataframe thead th {\n",
              "        text-align: right;\n",
              "    }\n",
              "</style>\n",
              "<table border=\"1\" class=\"dataframe\">\n",
              "  <thead>\n",
              "    <tr style=\"text-align: right;\">\n",
              "      <th></th>\n",
              "      <th>GDP</th>\n",
              "      <th>Income</th>\n",
              "      <th>Employment</th>\n",
              "      <th>Industry</th>\n",
              "      <th>Sales</th>\n",
              "    </tr>\n",
              "    <tr>\n",
              "      <th>NBER</th>\n",
              "      <th></th>\n",
              "      <th></th>\n",
              "      <th></th>\n",
              "      <th></th>\n",
              "      <th></th>\n",
              "    </tr>\n",
              "  </thead>\n",
              "  <tbody>\n",
              "    <tr>\n",
              "      <th>0</th>\n",
              "      <td>0.008561</td>\n",
              "      <td>0.008683</td>\n",
              "      <td>0.005244</td>\n",
              "      <td>0.009218</td>\n",
              "      <td>0.009766</td>\n",
              "    </tr>\n",
              "    <tr>\n",
              "      <th>1</th>\n",
              "      <td>-0.004858</td>\n",
              "      <td>-0.005365</td>\n",
              "      <td>-0.006999</td>\n",
              "      <td>-0.021477</td>\n",
              "      <td>-0.015869</td>\n",
              "    </tr>\n",
              "  </tbody>\n",
              "</table>\n",
              "</div>"
            ],
            "text/plain": [
              "           GDP    Income  Employment  Industry     Sales\n",
              "NBER                                                    \n",
              "0     0.008561  0.008683    0.005244  0.009218  0.009766\n",
              "1    -0.004858 -0.005365   -0.006999 -0.021477 -0.015869"
            ]
          },
          "metadata": {
            "tags": []
          },
          "execution_count": 10
        }
      ]
    },
    {
      "cell_type": "markdown",
      "metadata": {
        "id": "XL9UoURIo5wY"
      },
      "source": [
        "#####Over-sampling using SMOTE to have a balanced training dataset"
      ]
    },
    {
      "cell_type": "code",
      "metadata": {
        "colab": {
          "base_uri": "https://localhost:8080/"
        },
        "id": "-Bl05Yws-mh8",
        "outputId": "0513d002-e505-45fa-92ed-afd42fc8beeb"
      },
      "source": [
        "X = log_1df.loc[:, log_1df.columns != 'NBER']\n",
        "y = log_1df.loc[:, log_1df.columns == 'NBER']\n",
        "from imblearn.over_sampling import SMOTE\n",
        "os = SMOTE(random_state=0)\n",
        "X_train, X_test, y_train, y_test = train_test_split(X, y, test_size=0.3, random_state=0)\n",
        "columns = X_train.columns\n",
        "os_data_X,os_data_y=os.fit_sample(X_train, y_train)\n",
        "os_data_X = pd.DataFrame(data=os_data_X,columns=columns )\n",
        "os_data_y= pd.DataFrame(data=os_data_y,columns=['y'])\n",
        "# we can Check the numbers of our data\n",
        "print(\"length of oversampled data is \",len(os_data_X))\n",
        "print(\"Number of expansions in oversampled data\",len(os_data_y[os_data_y['y']==0]))\n",
        "print(\"Number of contractions\",len(os_data_y[os_data_y['y']==1]))\n",
        "print(\"Proportion of expansion data in oversampled data is \",len(os_data_y[os_data_y['y']==0])/len(os_data_X))\n",
        "print(\"Proportion of contraction data in oversampled data is \",len(os_data_y[os_data_y['y']==1])/len(os_data_X))"
      ],
      "execution_count": null,
      "outputs": [
        {
          "output_type": "stream",
          "text": [
            "length of oversampled data is  256\n",
            "Number of expansions in oversampled data 128\n",
            "Number of contractions 128\n",
            "Proportion of expansion data in oversampled data is  0.5\n",
            "Proportion of contraction data in oversampled data is  0.5\n"
          ],
          "name": "stdout"
        },
        {
          "output_type": "stream",
          "text": [
            "/usr/local/lib/python3.6/dist-packages/sklearn/externals/six.py:31: FutureWarning: The module is deprecated in version 0.21 and will be removed in version 0.23 since we've dropped support for Python 2.7. Please rely on the official version of six (https://pypi.org/project/six/).\n",
            "  \"(https://pypi.org/project/six/).\", FutureWarning)\n",
            "/usr/local/lib/python3.6/dist-packages/sklearn/utils/deprecation.py:144: FutureWarning: The sklearn.neighbors.base module is  deprecated in version 0.22 and will be removed in version 0.24. The corresponding classes / functions should instead be imported from sklearn.neighbors. Anything that cannot be imported from sklearn.neighbors is now part of the private API.\n",
            "  warnings.warn(message, FutureWarning)\n",
            "/usr/local/lib/python3.6/dist-packages/sklearn/utils/validation.py:760: DataConversionWarning: A column-vector y was passed when a 1d array was expected. Please change the shape of y to (n_samples, ), for example using ravel().\n",
            "  y = column_or_1d(y, warn=True)\n",
            "/usr/local/lib/python3.6/dist-packages/sklearn/utils/deprecation.py:87: FutureWarning: Function safe_indexing is deprecated; safe_indexing is deprecated in version 0.22 and will be removed in version 0.24.\n",
            "  warnings.warn(msg, category=FutureWarning)\n"
          ],
          "name": "stderr"
        }
      ]
    },
    {
      "cell_type": "markdown",
      "metadata": {
        "id": "AM64xfnEqKTp"
      },
      "source": [
        "##Model"
      ]
    },
    {
      "cell_type": "code",
      "metadata": {
        "colab": {
          "base_uri": "https://localhost:8080/"
        },
        "id": "HZ9-Njy2qG0q",
        "outputId": "8ac4ed89-fb01-48a7-cace-98db77c291dc"
      },
      "source": [
        "import statsmodels.api as sm\n",
        "logit_model=sm.Logit(y,X)\n",
        "result=logit_model.fit()\n",
        "print(result.summary2())"
      ],
      "execution_count": null,
      "outputs": [
        {
          "output_type": "stream",
          "text": [
            "/usr/local/lib/python3.6/dist-packages/statsmodels/tools/_testing.py:19: FutureWarning: pandas.util.testing is deprecated. Use the functions in the public API at pandas.testing instead.\n",
            "  import pandas.util.testing as tm\n"
          ],
          "name": "stderr"
        },
        {
          "output_type": "stream",
          "text": [
            "Optimization terminated successfully.\n",
            "         Current function value: 0.086585\n",
            "         Iterations 11\n",
            "                         Results: Logit\n",
            "=================================================================\n",
            "Model:              Logit            Pseudo R-squared: 0.774     \n",
            "Dependent Variable: NBER             AIC:              46.5387   \n",
            "Date:               2020-11-18 16:38 BIC:              63.2980   \n",
            "No. Observations:   211              Log-Likelihood:   -18.269   \n",
            "Df Model:           4                LL-Null:          -80.706   \n",
            "Df Residuals:       206              LLR p-value:      4.8566e-26\n",
            "Converged:          1.0000           Scale:            1.0000    \n",
            "No. Iterations:     11.0000                                      \n",
            "-----------------------------------------------------------------\n",
            "              Coef.   Std.Err.    z    P>|z|    [0.025    0.975] \n",
            "-----------------------------------------------------------------\n",
            "GDP         -375.5070 105.5113 -3.5589 0.0004 -582.3054 -168.7086\n",
            "Income      -144.1773  50.8709 -2.8342 0.0046 -243.8824  -44.4722\n",
            "Employment  -306.4984  97.9303 -3.1298 0.0017 -498.4384 -114.5585\n",
            "Industry    -156.2933  61.0995 -2.5580 0.0105 -276.0461  -36.5404\n",
            "Sales        -21.1174  66.8532 -0.3159 0.7521 -152.1474  109.9125\n",
            "=================================================================\n",
            "\n"
          ],
          "name": "stdout"
        }
      ]
    },
    {
      "cell_type": "markdown",
      "metadata": {
        "id": "v3tdoq5ZqlOg"
      },
      "source": [
        "#####Remove Sales because of its p-value and re-run the model"
      ]
    },
    {
      "cell_type": "code",
      "metadata": {
        "colab": {
          "base_uri": "https://localhost:8080/"
        },
        "id": "eImXqOjf-mUI",
        "outputId": "869f7b3b-0bfd-4756-89df-6c07c69fcd64"
      },
      "source": [
        "cols=['GDP', 'Income', 'Employment', 'Industry'] \n",
        "X=os_data_X[cols]\n",
        "y=os_data_y['y']\n",
        "logit_model=sm.Logit(y,X)\n",
        "result=logit_model.fit()\n",
        "print(result.summary2())"
      ],
      "execution_count": null,
      "outputs": [
        {
          "output_type": "stream",
          "text": [
            "Optimization terminated successfully.\n",
            "         Current function value: 0.053123\n",
            "         Iterations 13\n",
            "                         Results: Logit\n",
            "=================================================================\n",
            "Model:              Logit            Pseudo R-squared: 0.923     \n",
            "Dependent Variable: y                AIC:              35.1990   \n",
            "Date:               2020-11-18 16:38 BIC:              49.3797   \n",
            "No. Observations:   256              Log-Likelihood:   -13.600   \n",
            "Df Model:           3                LL-Null:          -177.45   \n",
            "Df Residuals:       252              LLR p-value:      1.0081e-70\n",
            "Converged:          1.0000           Scale:            1.0000    \n",
            "No. Iterations:     13.0000                                      \n",
            "-----------------------------------------------------------------\n",
            "              Coef.   Std.Err.    z    P>|z|    [0.025    0.975] \n",
            "-----------------------------------------------------------------\n",
            "GDP         -601.0870 187.0363 -3.2137 0.0013 -967.6713 -234.5027\n",
            "Income      -242.2651  75.5920 -3.2049 0.0014 -390.4226  -94.1076\n",
            "Employment  -245.7981 131.9647 -1.8626 0.0625 -504.4442   12.8480\n",
            "Industry    -339.2042  96.6310 -3.5103 0.0004 -528.5975 -149.8108\n",
            "=================================================================\n",
            "\n"
          ],
          "name": "stdout"
        }
      ]
    },
    {
      "cell_type": "markdown",
      "metadata": {
        "id": "4eOXU0rQrtRx"
      },
      "source": [
        "####Logistic Regression Model Fitting"
      ]
    },
    {
      "cell_type": "code",
      "metadata": {
        "colab": {
          "base_uri": "https://localhost:8080/"
        },
        "id": "kWV9RN5R-mOO",
        "outputId": "7930b551-2bbf-4426-d831-63435d0d65f7"
      },
      "source": [
        "from sklearn.linear_model import LogisticRegression\n",
        "from sklearn import metrics\n",
        "X_train, X_test, y_train, y_test = train_test_split(X, y, test_size=0.3, random_state=0)\n",
        "logreg = LogisticRegression()\n",
        "logreg.fit(X_train, y_train)"
      ],
      "execution_count": null,
      "outputs": [
        {
          "output_type": "execute_result",
          "data": {
            "text/plain": [
              "LogisticRegression(C=1.0, class_weight=None, dual=False, fit_intercept=True,\n",
              "                   intercept_scaling=1, l1_ratio=None, max_iter=100,\n",
              "                   multi_class='auto', n_jobs=None, penalty='l2',\n",
              "                   random_state=None, solver='lbfgs', tol=0.0001, verbose=0,\n",
              "                   warm_start=False)"
            ]
          },
          "metadata": {
            "tags": []
          },
          "execution_count": 14
        }
      ]
    },
    {
      "cell_type": "markdown",
      "metadata": {
        "id": "EGsfg5ACsp0W"
      },
      "source": [
        "##Results"
      ]
    },
    {
      "cell_type": "markdown",
      "metadata": {
        "id": "PL13P4i2sNDO"
      },
      "source": [
        "####Predicting the test set results and calculating the accuracy"
      ]
    },
    {
      "cell_type": "code",
      "metadata": {
        "colab": {
          "base_uri": "https://localhost:8080/"
        },
        "id": "B1nD9fLK-mIa",
        "outputId": "edce0f73-0931-44b3-ce31-31f64401805e"
      },
      "source": [
        "y_pred = logreg.predict(X_test)\n",
        "print('Accuracy of logistic regression classifier on test set: {:.2f}'.format(logreg.score(X_test, y_test)))"
      ],
      "execution_count": null,
      "outputs": [
        {
          "output_type": "stream",
          "text": [
            "Accuracy of logistic regression classifier on test set: 0.58\n"
          ],
          "name": "stdout"
        }
      ]
    },
    {
      "cell_type": "markdown",
      "metadata": {
        "id": "rEpNrlWaskHu"
      },
      "source": [
        "####Confusion Matrix"
      ]
    },
    {
      "cell_type": "code",
      "metadata": {
        "colab": {
          "base_uri": "https://localhost:8080/"
        },
        "id": "s2IPaNKh-mBF",
        "outputId": "b1274e4b-5e34-4418-a8af-ffb5a41a8d60"
      },
      "source": [
        "from sklearn.metrics import confusion_matrix\n",
        "confusion_matrix = confusion_matrix(y_test, y_pred)\n",
        "print(confusion_matrix)"
      ],
      "execution_count": null,
      "outputs": [
        {
          "output_type": "stream",
          "text": [
            "[[36  0]\n",
            " [32  9]]\n"
          ],
          "name": "stdout"
        }
      ]
    },
    {
      "cell_type": "code",
      "metadata": {
        "colab": {
          "base_uri": "https://localhost:8080/"
        },
        "id": "_hS0zHFx-l4l",
        "outputId": "09947d2c-331c-4d20-b620-72d68edaad85"
      },
      "source": [
        "print(\"True negative: \",confusion_matrix[0,0]) \n",
        "print(\"False positive: \",confusion_matrix[0,1]) \n",
        "print(\"False negative: \",confusion_matrix[1,0]) \n",
        "print(\"True positive: \",confusion_matrix[1,1]) "
      ],
      "execution_count": null,
      "outputs": [
        {
          "output_type": "stream",
          "text": [
            "True negative:  36\n",
            "False positive:  0\n",
            "False negative:  32\n",
            "True positive:  9\n"
          ],
          "name": "stdout"
        }
      ]
    },
    {
      "cell_type": "markdown",
      "metadata": {
        "id": "YbfRb4W7vsmj"
      },
      "source": [
        "####Compute precision, recall, F-measure and support"
      ]
    },
    {
      "cell_type": "code",
      "metadata": {
        "colab": {
          "base_uri": "https://localhost:8080/"
        },
        "id": "2KVSXLXp-lxC",
        "outputId": "7824dc32-231f-452c-b0f9-c5243c8e695c"
      },
      "source": [
        "from sklearn.metrics import classification_report\n",
        "print(classification_report(y_test, y_pred))"
      ],
      "execution_count": null,
      "outputs": [
        {
          "output_type": "stream",
          "text": [
            "              precision    recall  f1-score   support\n",
            "\n",
            "           0       0.53      1.00      0.69        36\n",
            "           1       1.00      0.22      0.36        41\n",
            "\n",
            "    accuracy                           0.58        77\n",
            "   macro avg       0.76      0.61      0.53        77\n",
            "weighted avg       0.78      0.58      0.52        77\n",
            "\n"
          ],
          "name": "stdout"
        }
      ]
    },
    {
      "cell_type": "markdown",
      "metadata": {
        "id": "fH_pH_dzwyHG"
      },
      "source": [
        "####ROC curve"
      ]
    },
    {
      "cell_type": "code",
      "metadata": {
        "colab": {
          "base_uri": "https://localhost:8080/",
          "height": 301
        },
        "id": "A_7xkE8swcZL",
        "outputId": "e8efcdb2-f16b-4770-e5fa-d467dd8e1e3e"
      },
      "source": [
        "from sklearn.metrics import roc_auc_score\n",
        "from sklearn.metrics import roc_curve\n",
        "logit_roc_auc = roc_auc_score(y_test, logreg.predict(X_test))\n",
        "fpr, tpr, thresholds = roc_curve(y_test, logreg.predict_proba(X_test)[:,1])\n",
        "plt.figure()\n",
        "plt.plot(fpr, tpr, label='Logistic Regression (area = %0.2f)' % logit_roc_auc)\n",
        "plt.plot([0, 1], [0, 1],'r--')\n",
        "plt.xlim([0.0, 1.0])\n",
        "plt.ylim([0.0, 1.05])\n",
        "plt.xlabel('False Positive Rate')\n",
        "plt.ylabel('True Positive Rate')\n",
        "plt.title('Receiver operating characteristic')\n",
        "plt.legend(loc=\"lower right\")\n",
        "plt.savefig('Log_ROC')\n",
        "plt.show()"
      ],
      "execution_count": null,
      "outputs": [
        {
          "output_type": "display_data",
          "data": {
            "image/png": "[encoded data removed]",
            "text/plain": [
              "<Figure size 432x288 with 1 Axes>"
            ]
          },
          "metadata": {
            "tags": [],
            "needs_background": "light"
          }
        }
      ]
    }
  ]
}