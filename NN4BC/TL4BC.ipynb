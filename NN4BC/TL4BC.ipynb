{
  "nbformat": 4,
  "nbformat_minor": 0,
  "metadata": {
    "colab": {
      "name": "TL4BC.ipynb",
      "provenance": [],
      "collapsed_sections": [],
      "toc_visible": true,
      "include_colab_link": true
    },
    "kernelspec": {
      "name": "python3",
      "display_name": "Python 3"
    }
  },
  "cells": [
    {
      "cell_type": "markdown",
      "metadata": {
        "id": "view-in-github",
        "colab_type": "text"
      },
      "source": [
        "<a href=\"https://colab.research.google.com/github/rrsguim/PhD_Economics/blob/master/TL4BC.ipynb\" target=\"_parent\"><img src=\"https://colab.research.google.com/assets/colab-badge.svg\" alt=\"Open In Colab\"/></a>"
      ]
    },
    {
      "cell_type": "markdown",
      "metadata": {
        "colab_type": "text",
        "id": "dUeKVCYTbcyT"
      },
      "source": [
        "------------------------------------------------------------------------------------------------------\n",
        "Copyright (c) 2020 Rafael Guimaraes\n",
        "\n",
        "This is part of my doctoral thesis in Economics\n",
        "\n",
        "Universidade Federal do Rio Grande do Sul / Brazil\n",
        "\n",
        "University of California Riverside / US\n",
        "\n",
        "See full material at https://github.com/rrsguim/PhD_Economics\n",
        "\n",
        "The code below, under the Apache License, is an adaptation of\n",
        "\n",
        "*Classification on imbalanced data*, and \n",
        "\n",
        "*Introduction to the Keras Tuner*\n",
        "\n",
        "Copyright 2020 The TensorFlow Authors\n",
        "\n",
        "https://www.tensorflow.org/tutorials/structured_data/imbalanced_data\n",
        "\n",
        "https://www.tensorflow.org/tutorials/keras/keras_tuner\n",
        "\n",
        "-------------------------------------------------------------------------"
      ]
    },
    {
      "cell_type": "code",
      "metadata": {
        "colab_type": "code",
        "id": "yJHVo_K_v20i",
        "colab": {}
      },
      "source": [
        "from __future__ import absolute_import, division, print_function, unicode_literals"
      ],
      "execution_count": 0,
      "outputs": []
    },
    {
      "cell_type": "code",
      "metadata": {
        "colab_type": "code",
        "id": "fYBlUQ5FvzxP",
        "colab": {}
      },
      "source": [
        "try:\n",
        "  # %tensorflow_version only exists in Colab.\n",
        "  %tensorflow_version 2.x\n",
        "except Exception:\n",
        "  pass"
      ],
      "execution_count": 0,
      "outputs": []
    },
    {
      "cell_type": "code",
      "metadata": {
        "id": "43tKdRoNecNy",
        "colab_type": "code",
        "outputId": "c7c5ce66-b4ee-46df-b7f6-c6476bb8a8dd",
        "colab": {
          "base_uri": "https://localhost:8080/",
          "height": 292
        }
      },
      "source": [
        "!pip install -U keras-tuner"
      ],
      "execution_count": 3,
      "outputs": [
        {
          "output_type": "stream",
          "text": [
            "Requirement already up-to-date: keras-tuner in /usr/local/lib/python3.6/dist-packages (1.0.1)\n",
            "Requirement already satisfied, skipping upgrade: numpy in /usr/local/lib/python3.6/dist-packages (from keras-tuner) (1.18.5)\n",
            "Requirement already satisfied, skipping upgrade: scikit-learn in /usr/local/lib/python3.6/dist-packages (from keras-tuner) (0.22.2.post1)\n",
            "Requirement already satisfied, skipping upgrade: requests in /usr/local/lib/python3.6/dist-packages (from keras-tuner) (2.23.0)\n",
            "Requirement already satisfied, skipping upgrade: terminaltables in /usr/local/lib/python3.6/dist-packages (from keras-tuner) (3.1.0)\n",
            "Requirement already satisfied, skipping upgrade: tabulate in /usr/local/lib/python3.6/dist-packages (from keras-tuner) (0.8.7)\n",
            "Requirement already satisfied, skipping upgrade: colorama in /usr/local/lib/python3.6/dist-packages (from keras-tuner) (0.4.3)\n",
            "Requirement already satisfied, skipping upgrade: tqdm in /usr/local/lib/python3.6/dist-packages (from keras-tuner) (4.41.1)\n",
            "Requirement already satisfied, skipping upgrade: scipy in /usr/local/lib/python3.6/dist-packages (from keras-tuner) (1.4.1)\n",
            "Requirement already satisfied, skipping upgrade: future in /usr/local/lib/python3.6/dist-packages (from keras-tuner) (0.16.0)\n",
            "Requirement already satisfied, skipping upgrade: joblib>=0.11 in /usr/local/lib/python3.6/dist-packages (from scikit-learn->keras-tuner) (0.15.1)\n",
            "Requirement already satisfied, skipping upgrade: urllib3!=1.25.0,!=1.25.1,<1.26,>=1.21.1 in /usr/local/lib/python3.6/dist-packages (from requests->keras-tuner) (1.24.3)\n",
            "Requirement already satisfied, skipping upgrade: certifi>=2017.4.17 in /usr/local/lib/python3.6/dist-packages (from requests->keras-tuner) (2020.4.5.1)\n",
            "Requirement already satisfied, skipping upgrade: idna<3,>=2.5 in /usr/local/lib/python3.6/dist-packages (from requests->keras-tuner) (2.9)\n",
            "Requirement already satisfied, skipping upgrade: chardet<4,>=3.0.2 in /usr/local/lib/python3.6/dist-packages (from requests->keras-tuner) (3.0.4)\n"
          ],
          "name": "stdout"
        }
      ]
    },
    {
      "cell_type": "code",
      "metadata": {
        "colab_type": "code",
        "id": "JM7hDSNClfoK",
        "outputId": "e1f8f1b6-6d65-43f4-d823-b45fcd1dd39f",
        "colab": {
          "base_uri": "https://localhost:8080/",
          "height": 71
        }
      },
      "source": [
        "import tensorflow as tf\n",
        "from tensorflow import keras\n",
        "\n",
        "import IPython\n",
        "\n",
        "import kerastuner as kt\n",
        "from kerastuner import RandomSearch\n",
        "\n",
        "import os\n",
        "import tempfile\n",
        "\n",
        "import matplotlib as mpl\n",
        "import matplotlib.pyplot as plt\n",
        "import numpy as np\n",
        "import pandas as pd\n",
        "import seaborn as sns\n",
        "\n",
        "import sklearn\n",
        "from sklearn.metrics import confusion_matrix\n",
        "from sklearn.model_selection import train_test_split\n",
        "from sklearn.preprocessing import StandardScaler"
      ],
      "execution_count": 4,
      "outputs": [
        {
          "output_type": "stream",
          "text": [
            "/usr/local/lib/python3.6/dist-packages/statsmodels/tools/_testing.py:19: FutureWarning: pandas.util.testing is deprecated. Use the functions in the public API at pandas.testing instead.\n",
            "  import pandas.util.testing as tm\n"
          ],
          "name": "stderr"
        }
      ]
    },
    {
      "cell_type": "code",
      "metadata": {
        "colab_type": "code",
        "id": "c8o1FHzD-_y_",
        "colab": {}
      },
      "source": [
        "mpl.rcParams['figure.figsize'] = (12, 10)\n",
        "colors = plt.rcParams['axes.prop_cycle'].by_key()['color']"
      ],
      "execution_count": 0,
      "outputs": []
    },
    {
      "cell_type": "markdown",
      "metadata": {
        "colab_type": "text",
        "id": "7JfLUlawto_D"
      },
      "source": [
        "# Deep Learning | United States"
      ]
    },
    {
      "cell_type": "code",
      "metadata": {
        "colab_type": "code",
        "id": "pR_SnbMArXr7",
        "colab": {}
      },
      "source": [
        "file = tf.keras.utils\n",
        "raw_data = pd.read_csv('https://raw.githubusercontent.com/rrsguim/PhD_Economics/master/NN4BC/TL4BC_US_data.csv')"
      ],
      "execution_count": 0,
      "outputs": []
    },
    {
      "cell_type": "code",
      "metadata": {
        "id": "rGVtGyAas2Hz",
        "colab_type": "code",
        "colab": {}
      },
      "source": [
        "raw_data.index = raw_data['DATE']\n",
        "drop_DATE = raw_data.pop('DATE')\n",
        "raw_data.index = pd.to_datetime(raw_data.index,infer_datetime_format=True)\n",
        "raw_data.index = raw_data.index.to_period(\"Q\")"
      ],
      "execution_count": 0,
      "outputs": []
    },
    {
      "cell_type": "code",
      "metadata": {
        "colab_type": "code",
        "id": "HCJFrtuY2iLF",
        "outputId": "aaf4bdff-11b4-46a4-fe57-5da8edc73daa",
        "colab": {
          "base_uri": "https://localhost:8080/",
          "height": 85
        }
      },
      "source": [
        "neg, pos = np.bincount(raw_data['NBER'])\n",
        "total = neg + pos\n",
        "print('Examples:\\n    Total: {}\\n    Positive: {} ({:.2f}% of total)\\n'.format(\n",
        "    total, pos, 100 * pos / total))"
      ],
      "execution_count": 8,
      "outputs": [
        {
          "output_type": "stream",
          "text": [
            "Examples:\n",
            "    Total: 212\n",
            "    Positive: 27 (12.74% of total)\n",
            "\n"
          ],
          "name": "stdout"
        }
      ]
    },
    {
      "cell_type": "code",
      "metadata": {
        "colab_type": "code",
        "id": "Ef42jTuxEjnj",
        "colab": {}
      },
      "source": [
        "log_data = raw_data.copy()\n",
        "\n",
        "log_data['GDP'] = np.log(log_data['GDP'])\n",
        "log_data['Income'] = np.log(log_data['Income'])\n",
        "log_data['Employment'] = np.log(log_data['Employment'])\n",
        "log_data['Industry'] = np.log(log_data['Industry'])\n",
        "log_data['Sales'] = np.log(log_data['Sales'])"
      ],
      "execution_count": 0,
      "outputs": []
    },
    {
      "cell_type": "code",
      "metadata": {
        "id": "qdiR9AXrMwI-",
        "colab_type": "code",
        "colab": {}
      },
      "source": [
        "log_1df = log_data.copy()\n",
        "\n",
        "log_1df['GDP'] = log_data['GDP'] - log_data['GDP'].shift(1)\n",
        "log_1df['Income'] = log_data['Income'] - log_data['Income'].shift(1)\n",
        "log_1df['Employment'] = log_data['Employment'] - log_data['Employment'].shift(1)\n",
        "log_1df['Industry'] = log_data['Industry'] - log_data['Industry'].shift(1)\n",
        "log_1df['Sales'] = log_data['Sales'] - log_data['Sales'].shift(1)"
      ],
      "execution_count": 0,
      "outputs": []
    },
    {
      "cell_type": "code",
      "metadata": {
        "id": "OqJOIP2AY5RJ",
        "colab_type": "code",
        "outputId": "25a3ab71-18f0-406c-e045-0db571b98443",
        "colab": {
          "base_uri": "https://localhost:8080/",
          "height": 235
        }
      },
      "source": [
        "log_1df = log_1df[1:]\n",
        "log_1df.tail()"
      ],
      "execution_count": 11,
      "outputs": [
        {
          "output_type": "execute_result",
          "data": {
            "text/html": [
              "<div>\n",
              "<style scoped>\n",
              "    .dataframe tbody tr th:only-of-type {\n",
              "        vertical-align: middle;\n",
              "    }\n",
              "\n",
              "    .dataframe tbody tr th {\n",
              "        vertical-align: top;\n",
              "    }\n",
              "\n",
              "    .dataframe thead th {\n",
              "        text-align: right;\n",
              "    }\n",
              "</style>\n",
              "<table border=\"1\" class=\"dataframe\">\n",
              "  <thead>\n",
              "    <tr style=\"text-align: right;\">\n",
              "      <th></th>\n",
              "      <th>GDP</th>\n",
              "      <th>Income</th>\n",
              "      <th>Employment</th>\n",
              "      <th>Industry</th>\n",
              "      <th>Sales</th>\n",
              "      <th>NBER</th>\n",
              "    </tr>\n",
              "    <tr>\n",
              "      <th>DATE</th>\n",
              "      <th></th>\n",
              "      <th></th>\n",
              "      <th></th>\n",
              "      <th></th>\n",
              "      <th></th>\n",
              "      <th></th>\n",
              "    </tr>\n",
              "  </thead>\n",
              "  <tbody>\n",
              "    <tr>\n",
              "      <th>2018Q4</th>\n",
              "      <td>0.002710</td>\n",
              "      <td>0.005645</td>\n",
              "      <td>0.004112</td>\n",
              "      <td>0.009481</td>\n",
              "      <td>0.003436</td>\n",
              "      <td>0</td>\n",
              "    </tr>\n",
              "    <tr>\n",
              "      <th>2019Q1</th>\n",
              "      <td>0.007623</td>\n",
              "      <td>0.009776</td>\n",
              "      <td>0.001403</td>\n",
              "      <td>-0.004879</td>\n",
              "      <td>0.014956</td>\n",
              "      <td>0</td>\n",
              "    </tr>\n",
              "    <tr>\n",
              "      <th>2019Q2</th>\n",
              "      <td>0.004985</td>\n",
              "      <td>0.004228</td>\n",
              "      <td>0.000904</td>\n",
              "      <td>-0.005700</td>\n",
              "      <td>-0.005293</td>\n",
              "      <td>0</td>\n",
              "    </tr>\n",
              "    <tr>\n",
              "      <th>2019Q3</th>\n",
              "      <td>0.005204</td>\n",
              "      <td>0.001736</td>\n",
              "      <td>0.007021</td>\n",
              "      <td>0.002808</td>\n",
              "      <td>0.009172</td>\n",
              "      <td>0</td>\n",
              "    </tr>\n",
              "    <tr>\n",
              "      <th>2019Q4</th>\n",
              "      <td>0.005261</td>\n",
              "      <td>0.005844</td>\n",
              "      <td>0.001715</td>\n",
              "      <td>0.000877</td>\n",
              "      <td>0.000543</td>\n",
              "      <td>0</td>\n",
              "    </tr>\n",
              "  </tbody>\n",
              "</table>\n",
              "</div>"
            ],
            "text/plain": [
              "             GDP    Income  Employment  Industry     Sales  NBER\n",
              "DATE                                                            \n",
              "2018Q4  0.002710  0.005645    0.004112  0.009481  0.003436     0\n",
              "2019Q1  0.007623  0.009776    0.001403 -0.004879  0.014956     0\n",
              "2019Q2  0.004985  0.004228    0.000904 -0.005700 -0.005293     0\n",
              "2019Q3  0.005204  0.001736    0.007021  0.002808  0.009172     0\n",
              "2019Q4  0.005261  0.005844    0.001715  0.000877  0.000543     0"
            ]
          },
          "metadata": {
            "tags": []
          },
          "execution_count": 11
        }
      ]
    },
    {
      "cell_type": "code",
      "metadata": {
        "colab_type": "code",
        "id": "xfxhKg7Yr1-b",
        "colab": {}
      },
      "source": [
        "# Use a utility from sklearn to split and shuffle our dataset.\n",
        "train_df, test_df = train_test_split(log_1df, test_size=0.2)  \n",
        "train_df, val_df = train_test_split(train_df, test_size=0.2)  \n",
        "\n",
        "# Form np arrays of labels and features.\n",
        "train_labels = np.array(train_df.pop('NBER'))\n",
        "bool_train_labels = train_labels != 0\n",
        "val_labels = np.array(val_df.pop('NBER'))\n",
        "test_labels = np.array(test_df.pop('NBER'))\n",
        "\n",
        "train_features = np.array(train_df)\n",
        "val_features = np.array(val_df)\n",
        "test_features = np.array(test_df)"
      ],
      "execution_count": 0,
      "outputs": []
    },
    {
      "cell_type": "code",
      "metadata": {
        "colab_type": "code",
        "id": "IO-qEUmJ5JQg",
        "colab": {}
      },
      "source": [
        "scaler = StandardScaler()\n",
        "train_features = scaler.fit_transform(train_features)\n",
        "\n",
        "val_features = scaler.transform(val_features)\n",
        "test_features = scaler.transform(test_features)\n",
        "\n",
        "train_features = np.clip(train_features, -5, 5)\n",
        "val_features = np.clip(val_features, -5, 5)\n",
        "test_features = np.clip(test_features, -5, 5)\n"
      ],
      "execution_count": 0,
      "outputs": []
    },
    {
      "cell_type": "code",
      "metadata": {
        "colab_type": "code",
        "id": "raK7hyjd_vf6",
        "colab": {}
      },
      "source": [
        "pos_df = pd.DataFrame(train_features[ bool_train_labels], columns = train_df.columns)\n",
        "neg_df = pd.DataFrame(train_features[~bool_train_labels], columns = train_df.columns)"
      ],
      "execution_count": 0,
      "outputs": []
    },
    {
      "cell_type": "code",
      "metadata": {
        "colab_type": "code",
        "id": "F5KWPSjjstUS",
        "colab": {}
      },
      "source": [
        "initial_bias = np.log([pos/neg])"
      ],
      "execution_count": 0,
      "outputs": []
    },
    {
      "cell_type": "code",
      "metadata": {
        "colab_type": "code",
        "id": "3JQDzUqT3UYG",
        "colab": {}
      },
      "source": [
        "METRICS = [\n",
        "      keras.metrics.TruePositives(name='tp'),\n",
        "      keras.metrics.FalsePositives(name='fp'),\n",
        "      keras.metrics.TrueNegatives(name='tn'),\n",
        "      keras.metrics.FalseNegatives(name='fn'), \n",
        "      keras.metrics.BinaryAccuracy(name='accuracy'),\n",
        "      keras.metrics.Precision(name='precision'),\n",
        "      keras.metrics.Recall(name='recall'),\n",
        "      keras.metrics.AUC(name='auc'),\n",
        "]\n",
        "\n",
        "\n",
        "def make_model(hp, metrics = METRICS, output_bias = initial_bias):  \n",
        "  output_bias = tf.keras.initializers.Constant(output_bias)\n",
        "\n",
        "  model = keras.Sequential()\n",
        "  model.add(keras.layers.Flatten(input_shape=(train_features.shape[-1],))) #CHANGE FROM DENSE TO FLATTEN. MUST CHECK IT\n",
        "  \n",
        "  # Tune the number of units in the first Dense layer\n",
        "  # Choose an optimal value between 16-256\n",
        "  hp_units = hp.Int('units', min_value = 16, max_value = 256, step = 16)\n",
        "  model.add(keras.layers.Dense(units = hp_units, activation = 'relu'))\n",
        "  \n",
        "  model.add(keras.layers.Dropout(0.5)) # To prevent overfiting\n",
        "\n",
        "  model.add(keras.layers.Dense(1, activation='sigmoid', bias_initializer=output_bias)) # Output layer\n",
        "\n",
        "  # Tune the learning rate for the optimizer \n",
        "  # Choose an optimal value from 0.01, 0.001, or 0.0001\n",
        "  hp_learning_rate = hp.Choice('learning_rate', values = [1e-2, 1e-3, 1e-4])\n",
        "\n",
        "  model.compile(optimizer = keras.optimizers.Adam(learning_rate = hp_learning_rate),\n",
        "                loss = keras.losses.BinaryCrossentropy(), \n",
        "                metrics = metrics)\n",
        "  \n",
        "  return model\n"
      ],
      "execution_count": 0,
      "outputs": []
    },
    {
      "cell_type": "code",
      "metadata": {
        "id": "Lu5g3-g6T7q0",
        "colab_type": "code",
        "outputId": "c27307f6-ba43-4edb-c97d-f13c7f534779",
        "colab": {
          "base_uri": "https://localhost:8080/",
          "height": 51
        }
      },
      "source": [
        "tuner = kt.Hyperband(make_model,\n",
        "                     kt.Objective('val_auc', direction='max'), # Maximizes Area Under the ROC Curve\n",
        "                     max_epochs = 10,\n",
        "                     factor = 3,\n",
        "#                     directory = 'my_dir',\n",
        "                     project_name = 'TL4BC')"
      ],
      "execution_count": 17,
      "outputs": [
        {
          "output_type": "stream",
          "text": [
            "INFO:tensorflow:Reloading Oracle from existing project ./TL4BC/oracle.json\n",
            "INFO:tensorflow:Reloading Tuner from ./TL4BC/tuner0.json\n"
          ],
          "name": "stdout"
        }
      ]
    },
    {
      "cell_type": "markdown",
      "metadata": {
        "id": "4hKix_JPH5lq",
        "colab_type": "text"
      },
      "source": [
        "Before running the hyperparameter search, define a callback to clear the training outputs at the end of every training step."
      ]
    },
    {
      "cell_type": "code",
      "metadata": {
        "id": "0vbL_9RaH6Xv",
        "colab_type": "code",
        "colab": {}
      },
      "source": [
        "class ClearTrainingOutput(tf.keras.callbacks.Callback):\n",
        "  def on_train_end(*args, **kwargs):\n",
        "    IPython.display.clear_output(wait = True)"
      ],
      "execution_count": 0,
      "outputs": []
    },
    {
      "cell_type": "markdown",
      "metadata": {
        "id": "LIzOvr5AIT8L",
        "colab_type": "text"
      },
      "source": [
        "Run the hyperparameter search. The arguments for the search method are the same as those used for tf.keras.model.fit in addition to the callback above."
      ]
    },
    {
      "cell_type": "code",
      "metadata": {
        "id": "sA-2VTjfIUfL",
        "colab_type": "code",
        "outputId": "69c85345-3774-41d5-fab8-70dcbc136b17",
        "colab": {
          "base_uri": "https://localhost:8080/",
          "height": 119
        }
      },
      "source": [
        "tuner.search(train_features, train_labels,\n",
        "             epochs=150,\n",
        "             validation_data=(val_features, val_labels), callbacks = [ClearTrainingOutput()])\n",
        "\n",
        "# Get the optimal hyperparameters\n",
        "best_hps = tuner.get_best_hyperparameters(num_trials = 1)[0]\n",
        "\n",
        "print(f\"\"\"\n",
        "The hyperparameter search is complete. The optimal number of units in the first densely-connected\n",
        "layer is {best_hps.get('units')} and the optimal learning rate for the optimizer\n",
        "is {best_hps.get('learning_rate')}.\n",
        "\"\"\")"
      ],
      "execution_count": 19,
      "outputs": [
        {
          "output_type": "stream",
          "text": [
            "INFO:tensorflow:Oracle triggered exit\n",
            "\n",
            "The hyperparameter search is complete. The optimal number of units in the first densely-connected\n",
            "layer is 256 and the optimal learning rate for the optimizer\n",
            "is 0.001.\n",
            "\n"
          ],
          "name": "stdout"
        }
      ]
    },
    {
      "cell_type": "code",
      "metadata": {
        "id": "PKWbhRLbL-Mz",
        "colab_type": "code",
        "colab": {}
      },
      "source": [
        "#tuner.results_summary()"
      ],
      "execution_count": 0,
      "outputs": []
    },
    {
      "cell_type": "markdown",
      "metadata": {
        "id": "cVPnf6mIJodT",
        "colab_type": "text"
      },
      "source": [
        "Retrain the model with the optimal hyperparameters from the search."
      ]
    },
    {
      "cell_type": "code",
      "metadata": {
        "id": "LqLQQDGKJqkk",
        "colab_type": "code",
        "outputId": "e97cb6b2-fc1d-4e34-ac95-e307696f79f3",
        "colab": {
          "base_uri": "https://localhost:8080/",
          "height": 1000
        }
      },
      "source": [
        "# Build the model with the optimal hyperparameters and train it on the data\n",
        "model = tuner.hypermodel.build(best_hps)\n",
        "model.fit(train_features, train_labels,\n",
        "             epochs=150,\n",
        "             validation_data=(val_features, val_labels))"
      ],
      "execution_count": 21,
      "outputs": [
        {
          "output_type": "stream",
          "text": [
            "Epoch 1/150\n",
            "5/5 [==============================] - 1s 177ms/step - loss: 0.3708 - tp: 0.0000e+00 - fp: 0.0000e+00 - tn: 115.0000 - fn: 19.0000 - accuracy: 0.8582 - precision: 0.0000e+00 - recall: 0.0000e+00 - auc: 0.8137 - val_loss: 0.2734 - val_tp: 0.0000e+00 - val_fp: 0.0000e+00 - val_tn: 30.0000 - val_fn: 4.0000 - val_accuracy: 0.8824 - val_precision: 0.0000e+00 - val_recall: 0.0000e+00 - val_auc: 1.0000\n",
            "Epoch 2/150\n",
            "5/5 [==============================] - 0s 11ms/step - loss: 0.3227 - tp: 1.0000 - fp: 0.0000e+00 - tn: 115.0000 - fn: 18.0000 - accuracy: 0.8657 - precision: 1.0000 - recall: 0.0526 - auc: 0.9465 - val_loss: 0.2356 - val_tp: 1.0000 - val_fp: 0.0000e+00 - val_tn: 30.0000 - val_fn: 3.0000 - val_accuracy: 0.9118 - val_precision: 1.0000 - val_recall: 0.2500 - val_auc: 1.0000\n",
            "Epoch 3/150\n",
            "5/5 [==============================] - 0s 12ms/step - loss: 0.2850 - tp: 1.0000 - fp: 0.0000e+00 - tn: 115.0000 - fn: 18.0000 - accuracy: 0.8657 - precision: 1.0000 - recall: 0.0526 - auc: 0.9858 - val_loss: 0.2068 - val_tp: 1.0000 - val_fp: 0.0000e+00 - val_tn: 30.0000 - val_fn: 3.0000 - val_accuracy: 0.9118 - val_precision: 1.0000 - val_recall: 0.2500 - val_auc: 1.0000\n",
            "Epoch 4/150\n",
            "5/5 [==============================] - 0s 12ms/step - loss: 0.2533 - tp: 3.0000 - fp: 0.0000e+00 - tn: 115.0000 - fn: 16.0000 - accuracy: 0.8806 - precision: 1.0000 - recall: 0.1579 - auc: 0.9783 - val_loss: 0.1849 - val_tp: 2.0000 - val_fp: 0.0000e+00 - val_tn: 30.0000 - val_fn: 2.0000 - val_accuracy: 0.9412 - val_precision: 1.0000 - val_recall: 0.5000 - val_auc: 1.0000\n",
            "Epoch 5/150\n",
            "5/5 [==============================] - 0s 12ms/step - loss: 0.2326 - tp: 6.0000 - fp: 0.0000e+00 - tn: 115.0000 - fn: 13.0000 - accuracy: 0.9030 - precision: 1.0000 - recall: 0.3158 - auc: 0.9854 - val_loss: 0.1697 - val_tp: 3.0000 - val_fp: 0.0000e+00 - val_tn: 30.0000 - val_fn: 1.0000 - val_accuracy: 0.9706 - val_precision: 1.0000 - val_recall: 0.7500 - val_auc: 1.0000\n",
            "Epoch 6/150\n",
            "5/5 [==============================] - 0s 11ms/step - loss: 0.2129 - tp: 5.0000 - fp: 0.0000e+00 - tn: 115.0000 - fn: 14.0000 - accuracy: 0.8955 - precision: 1.0000 - recall: 0.2632 - auc: 0.9895 - val_loss: 0.1586 - val_tp: 3.0000 - val_fp: 0.0000e+00 - val_tn: 30.0000 - val_fn: 1.0000 - val_accuracy: 0.9706 - val_precision: 1.0000 - val_recall: 0.7500 - val_auc: 1.0000\n",
            "Epoch 7/150\n",
            "5/5 [==============================] - 0s 13ms/step - loss: 0.1929 - tp: 10.0000 - fp: 0.0000e+00 - tn: 115.0000 - fn: 9.0000 - accuracy: 0.9328 - precision: 1.0000 - recall: 0.5263 - auc: 0.9826 - val_loss: 0.1503 - val_tp: 3.0000 - val_fp: 0.0000e+00 - val_tn: 30.0000 - val_fn: 1.0000 - val_accuracy: 0.9706 - val_precision: 1.0000 - val_recall: 0.7500 - val_auc: 1.0000\n",
            "Epoch 8/150\n",
            "5/5 [==============================] - 0s 11ms/step - loss: 0.1834 - tp: 13.0000 - fp: 0.0000e+00 - tn: 115.0000 - fn: 6.0000 - accuracy: 0.9552 - precision: 1.0000 - recall: 0.6842 - auc: 0.9892 - val_loss: 0.1442 - val_tp: 3.0000 - val_fp: 0.0000e+00 - val_tn: 30.0000 - val_fn: 1.0000 - val_accuracy: 0.9706 - val_precision: 1.0000 - val_recall: 0.7500 - val_auc: 1.0000\n",
            "Epoch 9/150\n",
            "5/5 [==============================] - 0s 13ms/step - loss: 0.1870 - tp: 11.0000 - fp: 0.0000e+00 - tn: 115.0000 - fn: 8.0000 - accuracy: 0.9403 - precision: 1.0000 - recall: 0.5789 - auc: 0.9911 - val_loss: 0.1396 - val_tp: 4.0000 - val_fp: 0.0000e+00 - val_tn: 30.0000 - val_fn: 0.0000e+00 - val_accuracy: 1.0000 - val_precision: 1.0000 - val_recall: 1.0000 - val_auc: 1.0000\n",
            "Epoch 10/150\n",
            "5/5 [==============================] - 0s 13ms/step - loss: 0.1751 - tp: 13.0000 - fp: 0.0000e+00 - tn: 115.0000 - fn: 6.0000 - accuracy: 0.9552 - precision: 1.0000 - recall: 0.6842 - auc: 0.9872 - val_loss: 0.1363 - val_tp: 4.0000 - val_fp: 1.0000 - val_tn: 29.0000 - val_fn: 0.0000e+00 - val_accuracy: 0.9706 - val_precision: 0.8000 - val_recall: 1.0000 - val_auc: 1.0000\n",
            "Epoch 11/150\n",
            "5/5 [==============================] - 0s 12ms/step - loss: 0.1580 - tp: 16.0000 - fp: 0.0000e+00 - tn: 115.0000 - fn: 3.0000 - accuracy: 0.9776 - precision: 1.0000 - recall: 0.8421 - auc: 0.9899 - val_loss: 0.1336 - val_tp: 4.0000 - val_fp: 1.0000 - val_tn: 29.0000 - val_fn: 0.0000e+00 - val_accuracy: 0.9706 - val_precision: 0.8000 - val_recall: 1.0000 - val_auc: 1.0000\n",
            "Epoch 12/150\n",
            "5/5 [==============================] - 0s 11ms/step - loss: 0.1550 - tp: 16.0000 - fp: 0.0000e+00 - tn: 115.0000 - fn: 3.0000 - accuracy: 0.9776 - precision: 1.0000 - recall: 0.8421 - auc: 0.9890 - val_loss: 0.1310 - val_tp: 4.0000 - val_fp: 1.0000 - val_tn: 29.0000 - val_fn: 0.0000e+00 - val_accuracy: 0.9706 - val_precision: 0.8000 - val_recall: 1.0000 - val_auc: 1.0000\n",
            "Epoch 13/150\n",
            "5/5 [==============================] - 0s 11ms/step - loss: 0.1454 - tp: 14.0000 - fp: 0.0000e+00 - tn: 115.0000 - fn: 5.0000 - accuracy: 0.9627 - precision: 1.0000 - recall: 0.7368 - auc: 0.9915 - val_loss: 0.1282 - val_tp: 4.0000 - val_fp: 1.0000 - val_tn: 29.0000 - val_fn: 0.0000e+00 - val_accuracy: 0.9706 - val_precision: 0.8000 - val_recall: 1.0000 - val_auc: 1.0000\n",
            "Epoch 14/150\n",
            "5/5 [==============================] - 0s 11ms/step - loss: 0.1423 - tp: 16.0000 - fp: 0.0000e+00 - tn: 115.0000 - fn: 3.0000 - accuracy: 0.9776 - precision: 1.0000 - recall: 0.8421 - auc: 0.9865 - val_loss: 0.1257 - val_tp: 4.0000 - val_fp: 1.0000 - val_tn: 29.0000 - val_fn: 0.0000e+00 - val_accuracy: 0.9706 - val_precision: 0.8000 - val_recall: 1.0000 - val_auc: 1.0000\n",
            "Epoch 15/150\n",
            "5/5 [==============================] - 0s 11ms/step - loss: 0.1433 - tp: 17.0000 - fp: 0.0000e+00 - tn: 115.0000 - fn: 2.0000 - accuracy: 0.9851 - precision: 1.0000 - recall: 0.8947 - auc: 0.9867 - val_loss: 0.1231 - val_tp: 4.0000 - val_fp: 1.0000 - val_tn: 29.0000 - val_fn: 0.0000e+00 - val_accuracy: 0.9706 - val_precision: 0.8000 - val_recall: 1.0000 - val_auc: 1.0000\n",
            "Epoch 16/150\n",
            "5/5 [==============================] - 0s 13ms/step - loss: 0.1406 - tp: 15.0000 - fp: 0.0000e+00 - tn: 115.0000 - fn: 4.0000 - accuracy: 0.9701 - precision: 1.0000 - recall: 0.7895 - auc: 0.9888 - val_loss: 0.1201 - val_tp: 4.0000 - val_fp: 1.0000 - val_tn: 29.0000 - val_fn: 0.0000e+00 - val_accuracy: 0.9706 - val_precision: 0.8000 - val_recall: 1.0000 - val_auc: 1.0000\n",
            "Epoch 17/150\n",
            "5/5 [==============================] - 0s 11ms/step - loss: 0.1386 - tp: 16.0000 - fp: 1.0000 - tn: 114.0000 - fn: 3.0000 - accuracy: 0.9701 - precision: 0.9412 - recall: 0.8421 - auc: 0.9876 - val_loss: 0.1173 - val_tp: 4.0000 - val_fp: 1.0000 - val_tn: 29.0000 - val_fn: 0.0000e+00 - val_accuracy: 0.9706 - val_precision: 0.8000 - val_recall: 1.0000 - val_auc: 1.0000\n",
            "Epoch 18/150\n",
            "5/5 [==============================] - 0s 13ms/step - loss: 0.1285 - tp: 16.0000 - fp: 0.0000e+00 - tn: 115.0000 - fn: 3.0000 - accuracy: 0.9776 - precision: 1.0000 - recall: 0.8421 - auc: 0.9908 - val_loss: 0.1148 - val_tp: 4.0000 - val_fp: 1.0000 - val_tn: 29.0000 - val_fn: 0.0000e+00 - val_accuracy: 0.9706 - val_precision: 0.8000 - val_recall: 1.0000 - val_auc: 1.0000\n",
            "Epoch 19/150\n",
            "5/5 [==============================] - 0s 13ms/step - loss: 0.1407 - tp: 14.0000 - fp: 0.0000e+00 - tn: 115.0000 - fn: 5.0000 - accuracy: 0.9627 - precision: 1.0000 - recall: 0.7368 - auc: 0.9892 - val_loss: 0.1125 - val_tp: 4.0000 - val_fp: 1.0000 - val_tn: 29.0000 - val_fn: 0.0000e+00 - val_accuracy: 0.9706 - val_precision: 0.8000 - val_recall: 1.0000 - val_auc: 1.0000\n",
            "Epoch 20/150\n",
            "5/5 [==============================] - 0s 12ms/step - loss: 0.1328 - tp: 15.0000 - fp: 0.0000e+00 - tn: 115.0000 - fn: 4.0000 - accuracy: 0.9701 - precision: 1.0000 - recall: 0.7895 - auc: 0.9872 - val_loss: 0.1114 - val_tp: 4.0000 - val_fp: 1.0000 - val_tn: 29.0000 - val_fn: 0.0000e+00 - val_accuracy: 0.9706 - val_precision: 0.8000 - val_recall: 1.0000 - val_auc: 0.9917\n",
            "Epoch 21/150\n",
            "5/5 [==============================] - 0s 13ms/step - loss: 0.1291 - tp: 16.0000 - fp: 0.0000e+00 - tn: 115.0000 - fn: 3.0000 - accuracy: 0.9776 - precision: 1.0000 - recall: 0.8421 - auc: 0.9890 - val_loss: 0.1105 - val_tp: 4.0000 - val_fp: 1.0000 - val_tn: 29.0000 - val_fn: 0.0000e+00 - val_accuracy: 0.9706 - val_precision: 0.8000 - val_recall: 1.0000 - val_auc: 0.9917\n",
            "Epoch 22/150\n",
            "5/5 [==============================] - 0s 12ms/step - loss: 0.1206 - tp: 17.0000 - fp: 0.0000e+00 - tn: 115.0000 - fn: 2.0000 - accuracy: 0.9851 - precision: 1.0000 - recall: 0.8947 - auc: 0.9906 - val_loss: 0.1093 - val_tp: 4.0000 - val_fp: 1.0000 - val_tn: 29.0000 - val_fn: 0.0000e+00 - val_accuracy: 0.9706 - val_precision: 0.8000 - val_recall: 1.0000 - val_auc: 0.9917\n",
            "Epoch 23/150\n",
            "5/5 [==============================] - 0s 12ms/step - loss: 0.1208 - tp: 16.0000 - fp: 0.0000e+00 - tn: 115.0000 - fn: 3.0000 - accuracy: 0.9776 - precision: 1.0000 - recall: 0.8421 - auc: 0.9876 - val_loss: 0.1078 - val_tp: 4.0000 - val_fp: 1.0000 - val_tn: 29.0000 - val_fn: 0.0000e+00 - val_accuracy: 0.9706 - val_precision: 0.8000 - val_recall: 1.0000 - val_auc: 0.9917\n",
            "Epoch 24/150\n",
            "5/5 [==============================] - 0s 12ms/step - loss: 0.1187 - tp: 15.0000 - fp: 0.0000e+00 - tn: 115.0000 - fn: 4.0000 - accuracy: 0.9701 - precision: 1.0000 - recall: 0.7895 - auc: 0.9906 - val_loss: 0.1062 - val_tp: 4.0000 - val_fp: 1.0000 - val_tn: 29.0000 - val_fn: 0.0000e+00 - val_accuracy: 0.9706 - val_precision: 0.8000 - val_recall: 1.0000 - val_auc: 0.9917\n",
            "Epoch 25/150\n",
            "5/5 [==============================] - 0s 12ms/step - loss: 0.1073 - tp: 16.0000 - fp: 0.0000e+00 - tn: 115.0000 - fn: 3.0000 - accuracy: 0.9776 - precision: 1.0000 - recall: 0.8421 - auc: 0.9934 - val_loss: 0.1055 - val_tp: 4.0000 - val_fp: 1.0000 - val_tn: 29.0000 - val_fn: 0.0000e+00 - val_accuracy: 0.9706 - val_precision: 0.8000 - val_recall: 1.0000 - val_auc: 0.9917\n",
            "Epoch 26/150\n",
            "5/5 [==============================] - 0s 13ms/step - loss: 0.1136 - tp: 16.0000 - fp: 0.0000e+00 - tn: 115.0000 - fn: 3.0000 - accuracy: 0.9776 - precision: 1.0000 - recall: 0.8421 - auc: 0.9911 - val_loss: 0.1041 - val_tp: 4.0000 - val_fp: 1.0000 - val_tn: 29.0000 - val_fn: 0.0000e+00 - val_accuracy: 0.9706 - val_precision: 0.8000 - val_recall: 1.0000 - val_auc: 0.9917\n",
            "Epoch 27/150\n",
            "5/5 [==============================] - 0s 11ms/step - loss: 0.1118 - tp: 16.0000 - fp: 1.0000 - tn: 114.0000 - fn: 3.0000 - accuracy: 0.9701 - precision: 0.9412 - recall: 0.8421 - auc: 0.9904 - val_loss: 0.1024 - val_tp: 4.0000 - val_fp: 1.0000 - val_tn: 29.0000 - val_fn: 0.0000e+00 - val_accuracy: 0.9706 - val_precision: 0.8000 - val_recall: 1.0000 - val_auc: 0.9917\n",
            "Epoch 28/150\n",
            "5/5 [==============================] - 0s 14ms/step - loss: 0.1035 - tp: 17.0000 - fp: 0.0000e+00 - tn: 115.0000 - fn: 2.0000 - accuracy: 0.9851 - precision: 1.0000 - recall: 0.8947 - auc: 0.9927 - val_loss: 0.1012 - val_tp: 4.0000 - val_fp: 1.0000 - val_tn: 29.0000 - val_fn: 0.0000e+00 - val_accuracy: 0.9706 - val_precision: 0.8000 - val_recall: 1.0000 - val_auc: 0.9917\n",
            "Epoch 29/150\n",
            "5/5 [==============================] - 0s 12ms/step - loss: 0.1037 - tp: 16.0000 - fp: 0.0000e+00 - tn: 115.0000 - fn: 3.0000 - accuracy: 0.9776 - precision: 1.0000 - recall: 0.8421 - auc: 0.9920 - val_loss: 0.1006 - val_tp: 4.0000 - val_fp: 1.0000 - val_tn: 29.0000 - val_fn: 0.0000e+00 - val_accuracy: 0.9706 - val_precision: 0.8000 - val_recall: 1.0000 - val_auc: 0.9917\n",
            "Epoch 30/150\n",
            "5/5 [==============================] - 0s 11ms/step - loss: 0.1067 - tp: 16.0000 - fp: 0.0000e+00 - tn: 115.0000 - fn: 3.0000 - accuracy: 0.9776 - precision: 1.0000 - recall: 0.8421 - auc: 0.9881 - val_loss: 0.0998 - val_tp: 4.0000 - val_fp: 1.0000 - val_tn: 29.0000 - val_fn: 0.0000e+00 - val_accuracy: 0.9706 - val_precision: 0.8000 - val_recall: 1.0000 - val_auc: 0.9917\n",
            "Epoch 31/150\n",
            "5/5 [==============================] - 0s 11ms/step - loss: 0.0965 - tp: 16.0000 - fp: 1.0000 - tn: 114.0000 - fn: 3.0000 - accuracy: 0.9701 - precision: 0.9412 - recall: 0.8421 - auc: 0.9922 - val_loss: 0.0991 - val_tp: 4.0000 - val_fp: 1.0000 - val_tn: 29.0000 - val_fn: 0.0000e+00 - val_accuracy: 0.9706 - val_precision: 0.8000 - val_recall: 1.0000 - val_auc: 0.9917\n",
            "Epoch 32/150\n",
            "5/5 [==============================] - 0s 11ms/step - loss: 0.0971 - tp: 16.0000 - fp: 1.0000 - tn: 114.0000 - fn: 3.0000 - accuracy: 0.9701 - precision: 0.9412 - recall: 0.8421 - auc: 0.9941 - val_loss: 0.0973 - val_tp: 4.0000 - val_fp: 1.0000 - val_tn: 29.0000 - val_fn: 0.0000e+00 - val_accuracy: 0.9706 - val_precision: 0.8000 - val_recall: 1.0000 - val_auc: 0.9917\n",
            "Epoch 33/150\n",
            "5/5 [==============================] - 0s 11ms/step - loss: 0.1062 - tp: 16.0000 - fp: 1.0000 - tn: 114.0000 - fn: 3.0000 - accuracy: 0.9701 - precision: 0.9412 - recall: 0.8421 - auc: 0.9867 - val_loss: 0.0959 - val_tp: 4.0000 - val_fp: 1.0000 - val_tn: 29.0000 - val_fn: 0.0000e+00 - val_accuracy: 0.9706 - val_precision: 0.8000 - val_recall: 1.0000 - val_auc: 0.9917\n",
            "Epoch 34/150\n",
            "5/5 [==============================] - 0s 11ms/step - loss: 0.0969 - tp: 17.0000 - fp: 1.0000 - tn: 114.0000 - fn: 2.0000 - accuracy: 0.9776 - precision: 0.9444 - recall: 0.8947 - auc: 0.9899 - val_loss: 0.0960 - val_tp: 4.0000 - val_fp: 1.0000 - val_tn: 29.0000 - val_fn: 0.0000e+00 - val_accuracy: 0.9706 - val_precision: 0.8000 - val_recall: 1.0000 - val_auc: 0.9917\n",
            "Epoch 35/150\n",
            "5/5 [==============================] - 0s 12ms/step - loss: 0.0956 - tp: 16.0000 - fp: 0.0000e+00 - tn: 115.0000 - fn: 3.0000 - accuracy: 0.9776 - precision: 1.0000 - recall: 0.8421 - auc: 0.9922 - val_loss: 0.0953 - val_tp: 4.0000 - val_fp: 1.0000 - val_tn: 29.0000 - val_fn: 0.0000e+00 - val_accuracy: 0.9706 - val_precision: 0.8000 - val_recall: 1.0000 - val_auc: 0.9917\n",
            "Epoch 36/150\n",
            "5/5 [==============================] - 0s 11ms/step - loss: 0.0809 - tp: 18.0000 - fp: 0.0000e+00 - tn: 115.0000 - fn: 1.0000 - accuracy: 0.9925 - precision: 1.0000 - recall: 0.9474 - auc: 0.9945 - val_loss: 0.0936 - val_tp: 4.0000 - val_fp: 1.0000 - val_tn: 29.0000 - val_fn: 0.0000e+00 - val_accuracy: 0.9706 - val_precision: 0.8000 - val_recall: 1.0000 - val_auc: 0.9917\n",
            "Epoch 37/150\n",
            "5/5 [==============================] - 0s 12ms/step - loss: 0.0873 - tp: 16.0000 - fp: 0.0000e+00 - tn: 115.0000 - fn: 3.0000 - accuracy: 0.9776 - precision: 1.0000 - recall: 0.8421 - auc: 0.9936 - val_loss: 0.0918 - val_tp: 4.0000 - val_fp: 1.0000 - val_tn: 29.0000 - val_fn: 0.0000e+00 - val_accuracy: 0.9706 - val_precision: 0.8000 - val_recall: 1.0000 - val_auc: 0.9917\n",
            "Epoch 38/150\n",
            "5/5 [==============================] - 0s 13ms/step - loss: 0.0841 - tp: 16.0000 - fp: 1.0000 - tn: 114.0000 - fn: 3.0000 - accuracy: 0.9701 - precision: 0.9412 - recall: 0.8421 - auc: 0.9945 - val_loss: 0.0904 - val_tp: 4.0000 - val_fp: 1.0000 - val_tn: 29.0000 - val_fn: 0.0000e+00 - val_accuracy: 0.9706 - val_precision: 0.8000 - val_recall: 1.0000 - val_auc: 0.9917\n",
            "Epoch 39/150\n",
            "5/5 [==============================] - 0s 12ms/step - loss: 0.0864 - tp: 17.0000 - fp: 0.0000e+00 - tn: 115.0000 - fn: 2.0000 - accuracy: 0.9851 - precision: 1.0000 - recall: 0.8947 - auc: 0.9941 - val_loss: 0.0896 - val_tp: 4.0000 - val_fp: 1.0000 - val_tn: 29.0000 - val_fn: 0.0000e+00 - val_accuracy: 0.9706 - val_precision: 0.8000 - val_recall: 1.0000 - val_auc: 0.9917\n",
            "Epoch 40/150\n",
            "5/5 [==============================] - 0s 11ms/step - loss: 0.0862 - tp: 15.0000 - fp: 0.0000e+00 - tn: 115.0000 - fn: 4.0000 - accuracy: 0.9701 - precision: 1.0000 - recall: 0.7895 - auc: 0.9931 - val_loss: 0.0887 - val_tp: 4.0000 - val_fp: 1.0000 - val_tn: 29.0000 - val_fn: 0.0000e+00 - val_accuracy: 0.9706 - val_precision: 0.8000 - val_recall: 1.0000 - val_auc: 0.9917\n",
            "Epoch 41/150\n",
            "5/5 [==============================] - 0s 11ms/step - loss: 0.0854 - tp: 17.0000 - fp: 0.0000e+00 - tn: 115.0000 - fn: 2.0000 - accuracy: 0.9851 - precision: 1.0000 - recall: 0.8947 - auc: 0.9936 - val_loss: 0.0892 - val_tp: 4.0000 - val_fp: 1.0000 - val_tn: 29.0000 - val_fn: 0.0000e+00 - val_accuracy: 0.9706 - val_precision: 0.8000 - val_recall: 1.0000 - val_auc: 0.9917\n",
            "Epoch 42/150\n",
            "5/5 [==============================] - 0s 13ms/step - loss: 0.0905 - tp: 15.0000 - fp: 1.0000 - tn: 114.0000 - fn: 4.0000 - accuracy: 0.9627 - precision: 0.9375 - recall: 0.7895 - auc: 0.9922 - val_loss: 0.0903 - val_tp: 4.0000 - val_fp: 1.0000 - val_tn: 29.0000 - val_fn: 0.0000e+00 - val_accuracy: 0.9706 - val_precision: 0.8000 - val_recall: 1.0000 - val_auc: 0.9917\n",
            "Epoch 43/150\n",
            "5/5 [==============================] - 0s 14ms/step - loss: 0.0827 - tp: 16.0000 - fp: 0.0000e+00 - tn: 115.0000 - fn: 3.0000 - accuracy: 0.9776 - precision: 1.0000 - recall: 0.8421 - auc: 0.9927 - val_loss: 0.0925 - val_tp: 4.0000 - val_fp: 1.0000 - val_tn: 29.0000 - val_fn: 0.0000e+00 - val_accuracy: 0.9706 - val_precision: 0.8000 - val_recall: 1.0000 - val_auc: 0.9917\n",
            "Epoch 44/150\n",
            "5/5 [==============================] - 0s 11ms/step - loss: 0.0824 - tp: 16.0000 - fp: 0.0000e+00 - tn: 115.0000 - fn: 3.0000 - accuracy: 0.9776 - precision: 1.0000 - recall: 0.8421 - auc: 0.9931 - val_loss: 0.0937 - val_tp: 4.0000 - val_fp: 1.0000 - val_tn: 29.0000 - val_fn: 0.0000e+00 - val_accuracy: 0.9706 - val_precision: 0.8000 - val_recall: 1.0000 - val_auc: 0.9917\n",
            "Epoch 45/150\n",
            "5/5 [==============================] - 0s 12ms/step - loss: 0.0764 - tp: 17.0000 - fp: 0.0000e+00 - tn: 115.0000 - fn: 2.0000 - accuracy: 0.9851 - precision: 1.0000 - recall: 0.8947 - auc: 0.9973 - val_loss: 0.0944 - val_tp: 4.0000 - val_fp: 1.0000 - val_tn: 29.0000 - val_fn: 0.0000e+00 - val_accuracy: 0.9706 - val_precision: 0.8000 - val_recall: 1.0000 - val_auc: 0.9917\n",
            "Epoch 46/150\n",
            "5/5 [==============================] - 0s 13ms/step - loss: 0.0783 - tp: 16.0000 - fp: 0.0000e+00 - tn: 115.0000 - fn: 3.0000 - accuracy: 0.9776 - precision: 1.0000 - recall: 0.8421 - auc: 0.9950 - val_loss: 0.0951 - val_tp: 4.0000 - val_fp: 1.0000 - val_tn: 29.0000 - val_fn: 0.0000e+00 - val_accuracy: 0.9706 - val_precision: 0.8000 - val_recall: 1.0000 - val_auc: 0.9917\n",
            "Epoch 47/150\n",
            "5/5 [==============================] - 0s 14ms/step - loss: 0.0807 - tp: 17.0000 - fp: 1.0000 - tn: 114.0000 - fn: 2.0000 - accuracy: 0.9776 - precision: 0.9444 - recall: 0.8947 - auc: 0.9941 - val_loss: 0.0945 - val_tp: 4.0000 - val_fp: 1.0000 - val_tn: 29.0000 - val_fn: 0.0000e+00 - val_accuracy: 0.9706 - val_precision: 0.8000 - val_recall: 1.0000 - val_auc: 0.9917\n",
            "Epoch 48/150\n",
            "5/5 [==============================] - 0s 13ms/step - loss: 0.0794 - tp: 16.0000 - fp: 0.0000e+00 - tn: 115.0000 - fn: 3.0000 - accuracy: 0.9776 - precision: 1.0000 - recall: 0.8421 - auc: 0.9954 - val_loss: 0.0945 - val_tp: 4.0000 - val_fp: 1.0000 - val_tn: 29.0000 - val_fn: 0.0000e+00 - val_accuracy: 0.9706 - val_precision: 0.8000 - val_recall: 1.0000 - val_auc: 0.9917\n",
            "Epoch 49/150\n",
            "5/5 [==============================] - 0s 12ms/step - loss: 0.0804 - tp: 16.0000 - fp: 1.0000 - tn: 114.0000 - fn: 3.0000 - accuracy: 0.9701 - precision: 0.9412 - recall: 0.8421 - auc: 0.9927 - val_loss: 0.0941 - val_tp: 4.0000 - val_fp: 1.0000 - val_tn: 29.0000 - val_fn: 0.0000e+00 - val_accuracy: 0.9706 - val_precision: 0.8000 - val_recall: 1.0000 - val_auc: 0.9917\n",
            "Epoch 50/150\n",
            "5/5 [==============================] - 0s 13ms/step - loss: 0.0728 - tp: 16.0000 - fp: 0.0000e+00 - tn: 115.0000 - fn: 3.0000 - accuracy: 0.9776 - precision: 1.0000 - recall: 0.8421 - auc: 0.9954 - val_loss: 0.0940 - val_tp: 4.0000 - val_fp: 1.0000 - val_tn: 29.0000 - val_fn: 0.0000e+00 - val_accuracy: 0.9706 - val_precision: 0.8000 - val_recall: 1.0000 - val_auc: 0.9917\n",
            "Epoch 51/150\n",
            "5/5 [==============================] - 0s 11ms/step - loss: 0.0720 - tp: 17.0000 - fp: 0.0000e+00 - tn: 115.0000 - fn: 2.0000 - accuracy: 0.9851 - precision: 1.0000 - recall: 0.8947 - auc: 0.9941 - val_loss: 0.0953 - val_tp: 4.0000 - val_fp: 1.0000 - val_tn: 29.0000 - val_fn: 0.0000e+00 - val_accuracy: 0.9706 - val_precision: 0.8000 - val_recall: 1.0000 - val_auc: 0.9917\n",
            "Epoch 52/150\n",
            "5/5 [==============================] - 0s 11ms/step - loss: 0.0750 - tp: 17.0000 - fp: 0.0000e+00 - tn: 115.0000 - fn: 2.0000 - accuracy: 0.9851 - precision: 1.0000 - recall: 0.8947 - auc: 0.9927 - val_loss: 0.0952 - val_tp: 4.0000 - val_fp: 1.0000 - val_tn: 29.0000 - val_fn: 0.0000e+00 - val_accuracy: 0.9706 - val_precision: 0.8000 - val_recall: 1.0000 - val_auc: 0.9917\n",
            "Epoch 53/150\n",
            "5/5 [==============================] - 0s 13ms/step - loss: 0.0767 - tp: 16.0000 - fp: 0.0000e+00 - tn: 115.0000 - fn: 3.0000 - accuracy: 0.9776 - precision: 1.0000 - recall: 0.8421 - auc: 0.9936 - val_loss: 0.0942 - val_tp: 4.0000 - val_fp: 1.0000 - val_tn: 29.0000 - val_fn: 0.0000e+00 - val_accuracy: 0.9706 - val_precision: 0.8000 - val_recall: 1.0000 - val_auc: 0.9917\n",
            "Epoch 54/150\n",
            "5/5 [==============================] - 0s 13ms/step - loss: 0.0689 - tp: 17.0000 - fp: 0.0000e+00 - tn: 115.0000 - fn: 2.0000 - accuracy: 0.9851 - precision: 1.0000 - recall: 0.8947 - auc: 0.9947 - val_loss: 0.0936 - val_tp: 4.0000 - val_fp: 1.0000 - val_tn: 29.0000 - val_fn: 0.0000e+00 - val_accuracy: 0.9706 - val_precision: 0.8000 - val_recall: 1.0000 - val_auc: 0.9917\n",
            "Epoch 55/150\n",
            "5/5 [==============================] - 0s 12ms/step - loss: 0.0687 - tp: 17.0000 - fp: 0.0000e+00 - tn: 115.0000 - fn: 2.0000 - accuracy: 0.9851 - precision: 1.0000 - recall: 0.8947 - auc: 0.9959 - val_loss: 0.0944 - val_tp: 4.0000 - val_fp: 1.0000 - val_tn: 29.0000 - val_fn: 0.0000e+00 - val_accuracy: 0.9706 - val_precision: 0.8000 - val_recall: 1.0000 - val_auc: 0.9917\n",
            "Epoch 56/150\n",
            "5/5 [==============================] - 0s 11ms/step - loss: 0.0696 - tp: 16.0000 - fp: 0.0000e+00 - tn: 115.0000 - fn: 3.0000 - accuracy: 0.9776 - precision: 1.0000 - recall: 0.8421 - auc: 0.9957 - val_loss: 0.0942 - val_tp: 4.0000 - val_fp: 1.0000 - val_tn: 29.0000 - val_fn: 0.0000e+00 - val_accuracy: 0.9706 - val_precision: 0.8000 - val_recall: 1.0000 - val_auc: 0.9917\n",
            "Epoch 57/150\n",
            "5/5 [==============================] - 0s 13ms/step - loss: 0.0713 - tp: 17.0000 - fp: 0.0000e+00 - tn: 115.0000 - fn: 2.0000 - accuracy: 0.9851 - precision: 1.0000 - recall: 0.8947 - auc: 0.9934 - val_loss: 0.0943 - val_tp: 4.0000 - val_fp: 1.0000 - val_tn: 29.0000 - val_fn: 0.0000e+00 - val_accuracy: 0.9706 - val_precision: 0.8000 - val_recall: 1.0000 - val_auc: 0.9917\n",
            "Epoch 58/150\n",
            "5/5 [==============================] - 0s 11ms/step - loss: 0.0679 - tp: 17.0000 - fp: 0.0000e+00 - tn: 115.0000 - fn: 2.0000 - accuracy: 0.9851 - precision: 1.0000 - recall: 0.8947 - auc: 0.9954 - val_loss: 0.0955 - val_tp: 4.0000 - val_fp: 1.0000 - val_tn: 29.0000 - val_fn: 0.0000e+00 - val_accuracy: 0.9706 - val_precision: 0.8000 - val_recall: 1.0000 - val_auc: 0.9917\n",
            "Epoch 59/150\n",
            "5/5 [==============================] - 0s 11ms/step - loss: 0.0735 - tp: 16.0000 - fp: 0.0000e+00 - tn: 115.0000 - fn: 3.0000 - accuracy: 0.9776 - precision: 1.0000 - recall: 0.8421 - auc: 0.9941 - val_loss: 0.0956 - val_tp: 4.0000 - val_fp: 1.0000 - val_tn: 29.0000 - val_fn: 0.0000e+00 - val_accuracy: 0.9706 - val_precision: 0.8000 - val_recall: 1.0000 - val_auc: 0.9917\n",
            "Epoch 60/150\n",
            "5/5 [==============================] - 0s 11ms/step - loss: 0.0629 - tp: 17.0000 - fp: 0.0000e+00 - tn: 115.0000 - fn: 2.0000 - accuracy: 0.9851 - precision: 1.0000 - recall: 0.8947 - auc: 0.9950 - val_loss: 0.0953 - val_tp: 4.0000 - val_fp: 1.0000 - val_tn: 29.0000 - val_fn: 0.0000e+00 - val_accuracy: 0.9706 - val_precision: 0.8000 - val_recall: 1.0000 - val_auc: 0.9917\n",
            "Epoch 61/150\n",
            "5/5 [==============================] - 0s 12ms/step - loss: 0.0668 - tp: 16.0000 - fp: 0.0000e+00 - tn: 115.0000 - fn: 3.0000 - accuracy: 0.9776 - precision: 1.0000 - recall: 0.8421 - auc: 0.9941 - val_loss: 0.0954 - val_tp: 4.0000 - val_fp: 1.0000 - val_tn: 29.0000 - val_fn: 0.0000e+00 - val_accuracy: 0.9706 - val_precision: 0.8000 - val_recall: 1.0000 - val_auc: 0.9917\n",
            "Epoch 62/150\n",
            "5/5 [==============================] - 0s 11ms/step - loss: 0.0614 - tp: 17.0000 - fp: 0.0000e+00 - tn: 115.0000 - fn: 2.0000 - accuracy: 0.9851 - precision: 1.0000 - recall: 0.8947 - auc: 0.9963 - val_loss: 0.0940 - val_tp: 4.0000 - val_fp: 1.0000 - val_tn: 29.0000 - val_fn: 0.0000e+00 - val_accuracy: 0.9706 - val_precision: 0.8000 - val_recall: 1.0000 - val_auc: 0.9917\n",
            "Epoch 63/150\n",
            "5/5 [==============================] - 0s 14ms/step - loss: 0.0642 - tp: 17.0000 - fp: 0.0000e+00 - tn: 115.0000 - fn: 2.0000 - accuracy: 0.9851 - precision: 1.0000 - recall: 0.8947 - auc: 0.9943 - val_loss: 0.0931 - val_tp: 4.0000 - val_fp: 1.0000 - val_tn: 29.0000 - val_fn: 0.0000e+00 - val_accuracy: 0.9706 - val_precision: 0.8000 - val_recall: 1.0000 - val_auc: 0.9917\n",
            "Epoch 64/150\n",
            "5/5 [==============================] - 0s 11ms/step - loss: 0.0659 - tp: 17.0000 - fp: 0.0000e+00 - tn: 115.0000 - fn: 2.0000 - accuracy: 0.9851 - precision: 1.0000 - recall: 0.8947 - auc: 0.9943 - val_loss: 0.0931 - val_tp: 4.0000 - val_fp: 1.0000 - val_tn: 29.0000 - val_fn: 0.0000e+00 - val_accuracy: 0.9706 - val_precision: 0.8000 - val_recall: 1.0000 - val_auc: 0.9917\n",
            "Epoch 65/150\n",
            "5/5 [==============================] - 0s 11ms/step - loss: 0.0627 - tp: 17.0000 - fp: 0.0000e+00 - tn: 115.0000 - fn: 2.0000 - accuracy: 0.9851 - precision: 1.0000 - recall: 0.8947 - auc: 0.9968 - val_loss: 0.0934 - val_tp: 4.0000 - val_fp: 1.0000 - val_tn: 29.0000 - val_fn: 0.0000e+00 - val_accuracy: 0.9706 - val_precision: 0.8000 - val_recall: 1.0000 - val_auc: 0.9917\n",
            "Epoch 66/150\n",
            "5/5 [==============================] - 0s 13ms/step - loss: 0.0649 - tp: 17.0000 - fp: 0.0000e+00 - tn: 115.0000 - fn: 2.0000 - accuracy: 0.9851 - precision: 1.0000 - recall: 0.8947 - auc: 0.9945 - val_loss: 0.0935 - val_tp: 4.0000 - val_fp: 1.0000 - val_tn: 29.0000 - val_fn: 0.0000e+00 - val_accuracy: 0.9706 - val_precision: 0.8000 - val_recall: 1.0000 - val_auc: 0.9917\n",
            "Epoch 67/150\n",
            "5/5 [==============================] - 0s 11ms/step - loss: 0.0643 - tp: 17.0000 - fp: 0.0000e+00 - tn: 115.0000 - fn: 2.0000 - accuracy: 0.9851 - precision: 1.0000 - recall: 0.8947 - auc: 0.9936 - val_loss: 0.0938 - val_tp: 4.0000 - val_fp: 1.0000 - val_tn: 29.0000 - val_fn: 0.0000e+00 - val_accuracy: 0.9706 - val_precision: 0.8000 - val_recall: 1.0000 - val_auc: 0.9917\n",
            "Epoch 68/150\n",
            "5/5 [==============================] - 0s 12ms/step - loss: 0.0656 - tp: 16.0000 - fp: 0.0000e+00 - tn: 115.0000 - fn: 3.0000 - accuracy: 0.9776 - precision: 1.0000 - recall: 0.8421 - auc: 0.9959 - val_loss: 0.0947 - val_tp: 4.0000 - val_fp: 1.0000 - val_tn: 29.0000 - val_fn: 0.0000e+00 - val_accuracy: 0.9706 - val_precision: 0.8000 - val_recall: 1.0000 - val_auc: 0.9917\n",
            "Epoch 69/150\n",
            "5/5 [==============================] - 0s 11ms/step - loss: 0.0564 - tp: 17.0000 - fp: 0.0000e+00 - tn: 115.0000 - fn: 2.0000 - accuracy: 0.9851 - precision: 1.0000 - recall: 0.8947 - auc: 0.9973 - val_loss: 0.0961 - val_tp: 4.0000 - val_fp: 1.0000 - val_tn: 29.0000 - val_fn: 0.0000e+00 - val_accuracy: 0.9706 - val_precision: 0.8000 - val_recall: 1.0000 - val_auc: 0.9917\n",
            "Epoch 70/150\n",
            "5/5 [==============================] - 0s 12ms/step - loss: 0.0679 - tp: 16.0000 - fp: 0.0000e+00 - tn: 115.0000 - fn: 3.0000 - accuracy: 0.9776 - precision: 1.0000 - recall: 0.8421 - auc: 0.9959 - val_loss: 0.0966 - val_tp: 4.0000 - val_fp: 1.0000 - val_tn: 29.0000 - val_fn: 0.0000e+00 - val_accuracy: 0.9706 - val_precision: 0.8000 - val_recall: 1.0000 - val_auc: 0.9917\n",
            "Epoch 71/150\n",
            "5/5 [==============================] - 0s 11ms/step - loss: 0.0619 - tp: 17.0000 - fp: 0.0000e+00 - tn: 115.0000 - fn: 2.0000 - accuracy: 0.9851 - precision: 1.0000 - recall: 0.8947 - auc: 0.9954 - val_loss: 0.0977 - val_tp: 4.0000 - val_fp: 1.0000 - val_tn: 29.0000 - val_fn: 0.0000e+00 - val_accuracy: 0.9706 - val_precision: 0.8000 - val_recall: 1.0000 - val_auc: 0.9917\n",
            "Epoch 72/150\n",
            "5/5 [==============================] - 0s 12ms/step - loss: 0.0641 - tp: 17.0000 - fp: 0.0000e+00 - tn: 115.0000 - fn: 2.0000 - accuracy: 0.9851 - precision: 1.0000 - recall: 0.8947 - auc: 0.9931 - val_loss: 0.0980 - val_tp: 4.0000 - val_fp: 1.0000 - val_tn: 29.0000 - val_fn: 0.0000e+00 - val_accuracy: 0.9706 - val_precision: 0.8000 - val_recall: 1.0000 - val_auc: 0.9917\n",
            "Epoch 73/150\n",
            "5/5 [==============================] - 0s 12ms/step - loss: 0.0601 - tp: 17.0000 - fp: 0.0000e+00 - tn: 115.0000 - fn: 2.0000 - accuracy: 0.9851 - precision: 1.0000 - recall: 0.8947 - auc: 0.9941 - val_loss: 0.0987 - val_tp: 4.0000 - val_fp: 1.0000 - val_tn: 29.0000 - val_fn: 0.0000e+00 - val_accuracy: 0.9706 - val_precision: 0.8000 - val_recall: 1.0000 - val_auc: 0.9917\n",
            "Epoch 74/150\n",
            "5/5 [==============================] - 0s 11ms/step - loss: 0.0550 - tp: 17.0000 - fp: 0.0000e+00 - tn: 115.0000 - fn: 2.0000 - accuracy: 0.9851 - precision: 1.0000 - recall: 0.8947 - auc: 0.9966 - val_loss: 0.0989 - val_tp: 4.0000 - val_fp: 1.0000 - val_tn: 29.0000 - val_fn: 0.0000e+00 - val_accuracy: 0.9706 - val_precision: 0.8000 - val_recall: 1.0000 - val_auc: 0.9917\n",
            "Epoch 75/150\n",
            "5/5 [==============================] - 0s 12ms/step - loss: 0.0666 - tp: 17.0000 - fp: 0.0000e+00 - tn: 115.0000 - fn: 2.0000 - accuracy: 0.9851 - precision: 1.0000 - recall: 0.8947 - auc: 0.9920 - val_loss: 0.0990 - val_tp: 4.0000 - val_fp: 1.0000 - val_tn: 29.0000 - val_fn: 0.0000e+00 - val_accuracy: 0.9706 - val_precision: 0.8000 - val_recall: 1.0000 - val_auc: 0.9917\n",
            "Epoch 76/150\n",
            "5/5 [==============================] - 0s 13ms/step - loss: 0.0642 - tp: 16.0000 - fp: 0.0000e+00 - tn: 115.0000 - fn: 3.0000 - accuracy: 0.9776 - precision: 1.0000 - recall: 0.8421 - auc: 0.9954 - val_loss: 0.0989 - val_tp: 4.0000 - val_fp: 1.0000 - val_tn: 29.0000 - val_fn: 0.0000e+00 - val_accuracy: 0.9706 - val_precision: 0.8000 - val_recall: 1.0000 - val_auc: 0.9917\n",
            "Epoch 77/150\n",
            "5/5 [==============================] - 0s 14ms/step - loss: 0.0564 - tp: 17.0000 - fp: 0.0000e+00 - tn: 115.0000 - fn: 2.0000 - accuracy: 0.9851 - precision: 1.0000 - recall: 0.8947 - auc: 0.9959 - val_loss: 0.0973 - val_tp: 4.0000 - val_fp: 1.0000 - val_tn: 29.0000 - val_fn: 0.0000e+00 - val_accuracy: 0.9706 - val_precision: 0.8000 - val_recall: 1.0000 - val_auc: 0.9917\n",
            "Epoch 78/150\n",
            "5/5 [==============================] - 0s 11ms/step - loss: 0.0499 - tp: 18.0000 - fp: 0.0000e+00 - tn: 115.0000 - fn: 1.0000 - accuracy: 0.9925 - precision: 1.0000 - recall: 0.9474 - auc: 0.9982 - val_loss: 0.0965 - val_tp: 4.0000 - val_fp: 1.0000 - val_tn: 29.0000 - val_fn: 0.0000e+00 - val_accuracy: 0.9706 - val_precision: 0.8000 - val_recall: 1.0000 - val_auc: 0.9917\n",
            "Epoch 79/150\n",
            "5/5 [==============================] - 0s 13ms/step - loss: 0.0589 - tp: 17.0000 - fp: 0.0000e+00 - tn: 115.0000 - fn: 2.0000 - accuracy: 0.9851 - precision: 1.0000 - recall: 0.8947 - auc: 0.9957 - val_loss: 0.0970 - val_tp: 4.0000 - val_fp: 1.0000 - val_tn: 29.0000 - val_fn: 0.0000e+00 - val_accuracy: 0.9706 - val_precision: 0.8000 - val_recall: 1.0000 - val_auc: 0.9917\n",
            "Epoch 80/150\n",
            "5/5 [==============================] - 0s 11ms/step - loss: 0.0668 - tp: 16.0000 - fp: 0.0000e+00 - tn: 115.0000 - fn: 3.0000 - accuracy: 0.9776 - precision: 1.0000 - recall: 0.8421 - auc: 0.9938 - val_loss: 0.0981 - val_tp: 4.0000 - val_fp: 1.0000 - val_tn: 29.0000 - val_fn: 0.0000e+00 - val_accuracy: 0.9706 - val_precision: 0.8000 - val_recall: 1.0000 - val_auc: 0.9917\n",
            "Epoch 81/150\n",
            "5/5 [==============================] - 0s 11ms/step - loss: 0.0572 - tp: 17.0000 - fp: 0.0000e+00 - tn: 115.0000 - fn: 2.0000 - accuracy: 0.9851 - precision: 1.0000 - recall: 0.8947 - auc: 0.9959 - val_loss: 0.1003 - val_tp: 4.0000 - val_fp: 1.0000 - val_tn: 29.0000 - val_fn: 0.0000e+00 - val_accuracy: 0.9706 - val_precision: 0.8000 - val_recall: 1.0000 - val_auc: 0.9917\n",
            "Epoch 82/150\n",
            "5/5 [==============================] - 0s 12ms/step - loss: 0.0556 - tp: 17.0000 - fp: 0.0000e+00 - tn: 115.0000 - fn: 2.0000 - accuracy: 0.9851 - precision: 1.0000 - recall: 0.8947 - auc: 0.9954 - val_loss: 0.1015 - val_tp: 4.0000 - val_fp: 1.0000 - val_tn: 29.0000 - val_fn: 0.0000e+00 - val_accuracy: 0.9706 - val_precision: 0.8000 - val_recall: 1.0000 - val_auc: 0.9917\n",
            "Epoch 83/150\n",
            "5/5 [==============================] - 0s 13ms/step - loss: 0.0579 - tp: 17.0000 - fp: 0.0000e+00 - tn: 115.0000 - fn: 2.0000 - accuracy: 0.9851 - precision: 1.0000 - recall: 0.8947 - auc: 0.9959 - val_loss: 0.1049 - val_tp: 4.0000 - val_fp: 1.0000 - val_tn: 29.0000 - val_fn: 0.0000e+00 - val_accuracy: 0.9706 - val_precision: 0.8000 - val_recall: 1.0000 - val_auc: 0.9917\n",
            "Epoch 84/150\n",
            "5/5 [==============================] - 0s 11ms/step - loss: 0.0564 - tp: 17.0000 - fp: 0.0000e+00 - tn: 115.0000 - fn: 2.0000 - accuracy: 0.9851 - precision: 1.0000 - recall: 0.8947 - auc: 0.9959 - val_loss: 0.1064 - val_tp: 4.0000 - val_fp: 1.0000 - val_tn: 29.0000 - val_fn: 0.0000e+00 - val_accuracy: 0.9706 - val_precision: 0.8000 - val_recall: 1.0000 - val_auc: 0.9917\n",
            "Epoch 85/150\n",
            "5/5 [==============================] - 0s 13ms/step - loss: 0.0528 - tp: 17.0000 - fp: 0.0000e+00 - tn: 115.0000 - fn: 2.0000 - accuracy: 0.9851 - precision: 1.0000 - recall: 0.8947 - auc: 0.9970 - val_loss: 0.1048 - val_tp: 4.0000 - val_fp: 1.0000 - val_tn: 29.0000 - val_fn: 0.0000e+00 - val_accuracy: 0.9706 - val_precision: 0.8000 - val_recall: 1.0000 - val_auc: 0.9917\n",
            "Epoch 86/150\n",
            "5/5 [==============================] - 0s 12ms/step - loss: 0.0536 - tp: 18.0000 - fp: 0.0000e+00 - tn: 115.0000 - fn: 1.0000 - accuracy: 0.9925 - precision: 1.0000 - recall: 0.9474 - auc: 0.9959 - val_loss: 0.1034 - val_tp: 4.0000 - val_fp: 1.0000 - val_tn: 29.0000 - val_fn: 0.0000e+00 - val_accuracy: 0.9706 - val_precision: 0.8000 - val_recall: 1.0000 - val_auc: 0.9917\n",
            "Epoch 87/150\n",
            "5/5 [==============================] - 0s 11ms/step - loss: 0.0554 - tp: 17.0000 - fp: 0.0000e+00 - tn: 115.0000 - fn: 2.0000 - accuracy: 0.9851 - precision: 1.0000 - recall: 0.8947 - auc: 0.9968 - val_loss: 0.1022 - val_tp: 4.0000 - val_fp: 1.0000 - val_tn: 29.0000 - val_fn: 0.0000e+00 - val_accuracy: 0.9706 - val_precision: 0.8000 - val_recall: 1.0000 - val_auc: 0.9917\n",
            "Epoch 88/150\n",
            "5/5 [==============================] - 0s 13ms/step - loss: 0.0574 - tp: 17.0000 - fp: 0.0000e+00 - tn: 115.0000 - fn: 2.0000 - accuracy: 0.9851 - precision: 1.0000 - recall: 0.8947 - auc: 0.9954 - val_loss: 0.1008 - val_tp: 4.0000 - val_fp: 1.0000 - val_tn: 29.0000 - val_fn: 0.0000e+00 - val_accuracy: 0.9706 - val_precision: 0.8000 - val_recall: 1.0000 - val_auc: 0.9917\n",
            "Epoch 89/150\n",
            "5/5 [==============================] - 0s 11ms/step - loss: 0.0631 - tp: 17.0000 - fp: 0.0000e+00 - tn: 115.0000 - fn: 2.0000 - accuracy: 0.9851 - precision: 1.0000 - recall: 0.8947 - auc: 0.9945 - val_loss: 0.1004 - val_tp: 4.0000 - val_fp: 1.0000 - val_tn: 29.0000 - val_fn: 0.0000e+00 - val_accuracy: 0.9706 - val_precision: 0.8000 - val_recall: 1.0000 - val_auc: 0.9917\n",
            "Epoch 90/150\n",
            "5/5 [==============================] - 0s 12ms/step - loss: 0.0515 - tp: 17.0000 - fp: 0.0000e+00 - tn: 115.0000 - fn: 2.0000 - accuracy: 0.9851 - precision: 1.0000 - recall: 0.8947 - auc: 0.9973 - val_loss: 0.0997 - val_tp: 4.0000 - val_fp: 1.0000 - val_tn: 29.0000 - val_fn: 0.0000e+00 - val_accuracy: 0.9706 - val_precision: 0.8000 - val_recall: 1.0000 - val_auc: 0.9917\n",
            "Epoch 91/150\n",
            "5/5 [==============================] - 0s 11ms/step - loss: 0.0581 - tp: 16.0000 - fp: 0.0000e+00 - tn: 115.0000 - fn: 3.0000 - accuracy: 0.9776 - precision: 1.0000 - recall: 0.8421 - auc: 0.9959 - val_loss: 0.0995 - val_tp: 4.0000 - val_fp: 1.0000 - val_tn: 29.0000 - val_fn: 0.0000e+00 - val_accuracy: 0.9706 - val_precision: 0.8000 - val_recall: 1.0000 - val_auc: 0.9917\n",
            "Epoch 92/150\n",
            "5/5 [==============================] - 0s 12ms/step - loss: 0.0626 - tp: 17.0000 - fp: 2.0000 - tn: 113.0000 - fn: 2.0000 - accuracy: 0.9701 - precision: 0.8947 - recall: 0.8947 - auc: 0.9950 - val_loss: 0.0993 - val_tp: 4.0000 - val_fp: 1.0000 - val_tn: 29.0000 - val_fn: 0.0000e+00 - val_accuracy: 0.9706 - val_precision: 0.8000 - val_recall: 1.0000 - val_auc: 0.9917\n",
            "Epoch 93/150\n",
            "5/5 [==============================] - 0s 12ms/step - loss: 0.0567 - tp: 16.0000 - fp: 0.0000e+00 - tn: 115.0000 - fn: 3.0000 - accuracy: 0.9776 - precision: 1.0000 - recall: 0.8421 - auc: 0.9961 - val_loss: 0.0982 - val_tp: 4.0000 - val_fp: 1.0000 - val_tn: 29.0000 - val_fn: 0.0000e+00 - val_accuracy: 0.9706 - val_precision: 0.8000 - val_recall: 1.0000 - val_auc: 0.9917\n",
            "Epoch 94/150\n",
            "5/5 [==============================] - 0s 12ms/step - loss: 0.0599 - tp: 17.0000 - fp: 0.0000e+00 - tn: 115.0000 - fn: 2.0000 - accuracy: 0.9851 - precision: 1.0000 - recall: 0.8947 - auc: 0.9963 - val_loss: 0.0980 - val_tp: 4.0000 - val_fp: 1.0000 - val_tn: 29.0000 - val_fn: 0.0000e+00 - val_accuracy: 0.9706 - val_precision: 0.8000 - val_recall: 1.0000 - val_auc: 0.9917\n",
            "Epoch 95/150\n",
            "5/5 [==============================] - 0s 13ms/step - loss: 0.0538 - tp: 17.0000 - fp: 0.0000e+00 - tn: 115.0000 - fn: 2.0000 - accuracy: 0.9851 - precision: 1.0000 - recall: 0.8947 - auc: 0.9959 - val_loss: 0.0981 - val_tp: 4.0000 - val_fp: 1.0000 - val_tn: 29.0000 - val_fn: 0.0000e+00 - val_accuracy: 0.9706 - val_precision: 0.8000 - val_recall: 1.0000 - val_auc: 0.9917\n",
            "Epoch 96/150\n",
            "5/5 [==============================] - 0s 14ms/step - loss: 0.0533 - tp: 17.0000 - fp: 0.0000e+00 - tn: 115.0000 - fn: 2.0000 - accuracy: 0.9851 - precision: 1.0000 - recall: 0.8947 - auc: 0.9963 - val_loss: 0.0981 - val_tp: 4.0000 - val_fp: 1.0000 - val_tn: 29.0000 - val_fn: 0.0000e+00 - val_accuracy: 0.9706 - val_precision: 0.8000 - val_recall: 1.0000 - val_auc: 0.9917\n",
            "Epoch 97/150\n",
            "5/5 [==============================] - 0s 12ms/step - loss: 0.0562 - tp: 17.0000 - fp: 0.0000e+00 - tn: 115.0000 - fn: 2.0000 - accuracy: 0.9851 - precision: 1.0000 - recall: 0.8947 - auc: 0.9950 - val_loss: 0.0987 - val_tp: 4.0000 - val_fp: 1.0000 - val_tn: 29.0000 - val_fn: 0.0000e+00 - val_accuracy: 0.9706 - val_precision: 0.8000 - val_recall: 1.0000 - val_auc: 0.9917\n",
            "Epoch 98/150\n",
            "5/5 [==============================] - 0s 11ms/step - loss: 0.0465 - tp: 17.0000 - fp: 0.0000e+00 - tn: 115.0000 - fn: 2.0000 - accuracy: 0.9851 - precision: 1.0000 - recall: 0.8947 - auc: 0.9973 - val_loss: 0.0986 - val_tp: 4.0000 - val_fp: 1.0000 - val_tn: 29.0000 - val_fn: 0.0000e+00 - val_accuracy: 0.9706 - val_precision: 0.8000 - val_recall: 1.0000 - val_auc: 0.9917\n",
            "Epoch 99/150\n",
            "5/5 [==============================] - 0s 12ms/step - loss: 0.0600 - tp: 16.0000 - fp: 0.0000e+00 - tn: 115.0000 - fn: 3.0000 - accuracy: 0.9776 - precision: 1.0000 - recall: 0.8421 - auc: 0.9963 - val_loss: 0.0989 - val_tp: 4.0000 - val_fp: 1.0000 - val_tn: 29.0000 - val_fn: 0.0000e+00 - val_accuracy: 0.9706 - val_precision: 0.8000 - val_recall: 1.0000 - val_auc: 0.9917\n",
            "Epoch 100/150\n",
            "5/5 [==============================] - 0s 12ms/step - loss: 0.0564 - tp: 16.0000 - fp: 0.0000e+00 - tn: 115.0000 - fn: 3.0000 - accuracy: 0.9776 - precision: 1.0000 - recall: 0.8421 - auc: 0.9963 - val_loss: 0.1024 - val_tp: 4.0000 - val_fp: 1.0000 - val_tn: 29.0000 - val_fn: 0.0000e+00 - val_accuracy: 0.9706 - val_precision: 0.8000 - val_recall: 1.0000 - val_auc: 0.9917\n",
            "Epoch 101/150\n",
            "5/5 [==============================] - 0s 13ms/step - loss: 0.0547 - tp: 17.0000 - fp: 0.0000e+00 - tn: 115.0000 - fn: 2.0000 - accuracy: 0.9851 - precision: 1.0000 - recall: 0.8947 - auc: 0.9959 - val_loss: 0.1053 - val_tp: 4.0000 - val_fp: 1.0000 - val_tn: 29.0000 - val_fn: 0.0000e+00 - val_accuracy: 0.9706 - val_precision: 0.8000 - val_recall: 1.0000 - val_auc: 0.9917\n",
            "Epoch 102/150\n",
            "5/5 [==============================] - 0s 12ms/step - loss: 0.0566 - tp: 16.0000 - fp: 0.0000e+00 - tn: 115.0000 - fn: 3.0000 - accuracy: 0.9776 - precision: 1.0000 - recall: 0.8421 - auc: 0.9959 - val_loss: 0.1068 - val_tp: 4.0000 - val_fp: 1.0000 - val_tn: 29.0000 - val_fn: 0.0000e+00 - val_accuracy: 0.9706 - val_precision: 0.8000 - val_recall: 1.0000 - val_auc: 0.9917\n",
            "Epoch 103/150\n",
            "5/5 [==============================] - 0s 12ms/step - loss: 0.0497 - tp: 17.0000 - fp: 0.0000e+00 - tn: 115.0000 - fn: 2.0000 - accuracy: 0.9851 - precision: 1.0000 - recall: 0.8947 - auc: 0.9975 - val_loss: 0.1078 - val_tp: 4.0000 - val_fp: 1.0000 - val_tn: 29.0000 - val_fn: 0.0000e+00 - val_accuracy: 0.9706 - val_precision: 0.8000 - val_recall: 1.0000 - val_auc: 0.9917\n",
            "Epoch 104/150\n",
            "5/5 [==============================] - 0s 15ms/step - loss: 0.0496 - tp: 17.0000 - fp: 0.0000e+00 - tn: 115.0000 - fn: 2.0000 - accuracy: 0.9851 - precision: 1.0000 - recall: 0.8947 - auc: 0.9968 - val_loss: 0.1089 - val_tp: 4.0000 - val_fp: 1.0000 - val_tn: 29.0000 - val_fn: 0.0000e+00 - val_accuracy: 0.9706 - val_precision: 0.8000 - val_recall: 1.0000 - val_auc: 0.9917\n",
            "Epoch 105/150\n",
            "5/5 [==============================] - 0s 12ms/step - loss: 0.0599 - tp: 17.0000 - fp: 1.0000 - tn: 114.0000 - fn: 2.0000 - accuracy: 0.9776 - precision: 0.9444 - recall: 0.8947 - auc: 0.9945 - val_loss: 0.1085 - val_tp: 4.0000 - val_fp: 1.0000 - val_tn: 29.0000 - val_fn: 0.0000e+00 - val_accuracy: 0.9706 - val_precision: 0.8000 - val_recall: 1.0000 - val_auc: 0.9917\n",
            "Epoch 106/150\n",
            "5/5 [==============================] - 0s 12ms/step - loss: 0.0575 - tp: 17.0000 - fp: 0.0000e+00 - tn: 115.0000 - fn: 2.0000 - accuracy: 0.9851 - precision: 1.0000 - recall: 0.8947 - auc: 0.9941 - val_loss: 0.1100 - val_tp: 4.0000 - val_fp: 1.0000 - val_tn: 29.0000 - val_fn: 0.0000e+00 - val_accuracy: 0.9706 - val_precision: 0.8000 - val_recall: 1.0000 - val_auc: 0.9917\n",
            "Epoch 107/150\n",
            "5/5 [==============================] - 0s 12ms/step - loss: 0.0566 - tp: 17.0000 - fp: 0.0000e+00 - tn: 115.0000 - fn: 2.0000 - accuracy: 0.9851 - precision: 1.0000 - recall: 0.8947 - auc: 0.9950 - val_loss: 0.1094 - val_tp: 4.0000 - val_fp: 1.0000 - val_tn: 29.0000 - val_fn: 0.0000e+00 - val_accuracy: 0.9706 - val_precision: 0.8000 - val_recall: 1.0000 - val_auc: 0.9917\n",
            "Epoch 108/150\n",
            "5/5 [==============================] - 0s 12ms/step - loss: 0.0514 - tp: 17.0000 - fp: 0.0000e+00 - tn: 115.0000 - fn: 2.0000 - accuracy: 0.9851 - precision: 1.0000 - recall: 0.8947 - auc: 0.9959 - val_loss: 0.1089 - val_tp: 4.0000 - val_fp: 1.0000 - val_tn: 29.0000 - val_fn: 0.0000e+00 - val_accuracy: 0.9706 - val_precision: 0.8000 - val_recall: 1.0000 - val_auc: 0.9917\n",
            "Epoch 109/150\n",
            "5/5 [==============================] - 0s 13ms/step - loss: 0.0495 - tp: 17.0000 - fp: 0.0000e+00 - tn: 115.0000 - fn: 2.0000 - accuracy: 0.9851 - precision: 1.0000 - recall: 0.8947 - auc: 0.9968 - val_loss: 0.1085 - val_tp: 4.0000 - val_fp: 1.0000 - val_tn: 29.0000 - val_fn: 0.0000e+00 - val_accuracy: 0.9706 - val_precision: 0.8000 - val_recall: 1.0000 - val_auc: 0.9917\n",
            "Epoch 110/150\n",
            "5/5 [==============================] - 0s 11ms/step - loss: 0.0533 - tp: 17.0000 - fp: 0.0000e+00 - tn: 115.0000 - fn: 2.0000 - accuracy: 0.9851 - precision: 1.0000 - recall: 0.8947 - auc: 0.9963 - val_loss: 0.1095 - val_tp: 4.0000 - val_fp: 1.0000 - val_tn: 29.0000 - val_fn: 0.0000e+00 - val_accuracy: 0.9706 - val_precision: 0.8000 - val_recall: 1.0000 - val_auc: 0.9917\n",
            "Epoch 111/150\n",
            "5/5 [==============================] - 0s 13ms/step - loss: 0.0514 - tp: 17.0000 - fp: 0.0000e+00 - tn: 115.0000 - fn: 2.0000 - accuracy: 0.9851 - precision: 1.0000 - recall: 0.8947 - auc: 0.9968 - val_loss: 0.1085 - val_tp: 4.0000 - val_fp: 1.0000 - val_tn: 29.0000 - val_fn: 0.0000e+00 - val_accuracy: 0.9706 - val_precision: 0.8000 - val_recall: 1.0000 - val_auc: 0.9917\n",
            "Epoch 112/150\n",
            "5/5 [==============================] - 0s 11ms/step - loss: 0.0463 - tp: 18.0000 - fp: 0.0000e+00 - tn: 115.0000 - fn: 1.0000 - accuracy: 0.9925 - precision: 1.0000 - recall: 0.9474 - auc: 0.9963 - val_loss: 0.1069 - val_tp: 4.0000 - val_fp: 1.0000 - val_tn: 29.0000 - val_fn: 0.0000e+00 - val_accuracy: 0.9706 - val_precision: 0.8000 - val_recall: 1.0000 - val_auc: 0.9917\n",
            "Epoch 113/150\n",
            "5/5 [==============================] - 0s 12ms/step - loss: 0.0533 - tp: 17.0000 - fp: 0.0000e+00 - tn: 115.0000 - fn: 2.0000 - accuracy: 0.9851 - precision: 1.0000 - recall: 0.8947 - auc: 0.9959 - val_loss: 0.1062 - val_tp: 4.0000 - val_fp: 1.0000 - val_tn: 29.0000 - val_fn: 0.0000e+00 - val_accuracy: 0.9706 - val_precision: 0.8000 - val_recall: 1.0000 - val_auc: 0.9917\n",
            "Epoch 114/150\n",
            "5/5 [==============================] - 0s 13ms/step - loss: 0.0546 - tp: 18.0000 - fp: 0.0000e+00 - tn: 115.0000 - fn: 1.0000 - accuracy: 0.9925 - precision: 1.0000 - recall: 0.9474 - auc: 0.9963 - val_loss: 0.1045 - val_tp: 4.0000 - val_fp: 1.0000 - val_tn: 29.0000 - val_fn: 0.0000e+00 - val_accuracy: 0.9706 - val_precision: 0.8000 - val_recall: 1.0000 - val_auc: 0.9917\n",
            "Epoch 115/150\n",
            "5/5 [==============================] - 0s 11ms/step - loss: 0.0527 - tp: 17.0000 - fp: 0.0000e+00 - tn: 115.0000 - fn: 2.0000 - accuracy: 0.9851 - precision: 1.0000 - recall: 0.8947 - auc: 0.9963 - val_loss: 0.1034 - val_tp: 4.0000 - val_fp: 1.0000 - val_tn: 29.0000 - val_fn: 0.0000e+00 - val_accuracy: 0.9706 - val_precision: 0.8000 - val_recall: 1.0000 - val_auc: 0.9917\n",
            "Epoch 116/150\n",
            "5/5 [==============================] - 0s 12ms/step - loss: 0.0458 - tp: 18.0000 - fp: 0.0000e+00 - tn: 115.0000 - fn: 1.0000 - accuracy: 0.9925 - precision: 1.0000 - recall: 0.9474 - auc: 0.9975 - val_loss: 0.1019 - val_tp: 4.0000 - val_fp: 1.0000 - val_tn: 29.0000 - val_fn: 0.0000e+00 - val_accuracy: 0.9706 - val_precision: 0.8000 - val_recall: 1.0000 - val_auc: 0.9917\n",
            "Epoch 117/150\n",
            "5/5 [==============================] - 0s 12ms/step - loss: 0.0457 - tp: 18.0000 - fp: 0.0000e+00 - tn: 115.0000 - fn: 1.0000 - accuracy: 0.9925 - precision: 1.0000 - recall: 0.9474 - auc: 0.9963 - val_loss: 0.0997 - val_tp: 4.0000 - val_fp: 1.0000 - val_tn: 29.0000 - val_fn: 0.0000e+00 - val_accuracy: 0.9706 - val_precision: 0.8000 - val_recall: 1.0000 - val_auc: 0.9917\n",
            "Epoch 118/150\n",
            "5/5 [==============================] - 0s 13ms/step - loss: 0.0524 - tp: 16.0000 - fp: 0.0000e+00 - tn: 115.0000 - fn: 3.0000 - accuracy: 0.9776 - precision: 1.0000 - recall: 0.8421 - auc: 0.9973 - val_loss: 0.0997 - val_tp: 4.0000 - val_fp: 1.0000 - val_tn: 29.0000 - val_fn: 0.0000e+00 - val_accuracy: 0.9706 - val_precision: 0.8000 - val_recall: 1.0000 - val_auc: 0.9917\n",
            "Epoch 119/150\n",
            "5/5 [==============================] - 0s 12ms/step - loss: 0.0454 - tp: 18.0000 - fp: 0.0000e+00 - tn: 115.0000 - fn: 1.0000 - accuracy: 0.9925 - precision: 1.0000 - recall: 0.9474 - auc: 0.9959 - val_loss: 0.1015 - val_tp: 4.0000 - val_fp: 1.0000 - val_tn: 29.0000 - val_fn: 0.0000e+00 - val_accuracy: 0.9706 - val_precision: 0.8000 - val_recall: 1.0000 - val_auc: 0.9917\n",
            "Epoch 120/150\n",
            "5/5 [==============================] - 0s 12ms/step - loss: 0.0512 - tp: 18.0000 - fp: 0.0000e+00 - tn: 115.0000 - fn: 1.0000 - accuracy: 0.9925 - precision: 1.0000 - recall: 0.9474 - auc: 0.9950 - val_loss: 0.1036 - val_tp: 4.0000 - val_fp: 1.0000 - val_tn: 29.0000 - val_fn: 0.0000e+00 - val_accuracy: 0.9706 - val_precision: 0.8000 - val_recall: 1.0000 - val_auc: 0.9917\n",
            "Epoch 121/150\n",
            "5/5 [==============================] - 0s 11ms/step - loss: 0.0456 - tp: 18.0000 - fp: 0.0000e+00 - tn: 115.0000 - fn: 1.0000 - accuracy: 0.9925 - precision: 1.0000 - recall: 0.9474 - auc: 0.9977 - val_loss: 0.1067 - val_tp: 4.0000 - val_fp: 1.0000 - val_tn: 29.0000 - val_fn: 0.0000e+00 - val_accuracy: 0.9706 - val_precision: 0.8000 - val_recall: 1.0000 - val_auc: 0.9917\n",
            "Epoch 122/150\n",
            "5/5 [==============================] - 0s 11ms/step - loss: 0.0471 - tp: 17.0000 - fp: 0.0000e+00 - tn: 115.0000 - fn: 2.0000 - accuracy: 0.9851 - precision: 1.0000 - recall: 0.8947 - auc: 0.9973 - val_loss: 0.1103 - val_tp: 4.0000 - val_fp: 1.0000 - val_tn: 29.0000 - val_fn: 0.0000e+00 - val_accuracy: 0.9706 - val_precision: 0.8000 - val_recall: 1.0000 - val_auc: 0.9917\n",
            "Epoch 123/150\n",
            "5/5 [==============================] - 0s 15ms/step - loss: 0.0538 - tp: 18.0000 - fp: 0.0000e+00 - tn: 115.0000 - fn: 1.0000 - accuracy: 0.9925 - precision: 1.0000 - recall: 0.9474 - auc: 0.9957 - val_loss: 0.1117 - val_tp: 4.0000 - val_fp: 1.0000 - val_tn: 29.0000 - val_fn: 0.0000e+00 - val_accuracy: 0.9706 - val_precision: 0.8000 - val_recall: 1.0000 - val_auc: 0.9917\n",
            "Epoch 124/150\n",
            "5/5 [==============================] - 0s 12ms/step - loss: 0.0456 - tp: 18.0000 - fp: 0.0000e+00 - tn: 115.0000 - fn: 1.0000 - accuracy: 0.9925 - precision: 1.0000 - recall: 0.9474 - auc: 0.9977 - val_loss: 0.1114 - val_tp: 4.0000 - val_fp: 1.0000 - val_tn: 29.0000 - val_fn: 0.0000e+00 - val_accuracy: 0.9706 - val_precision: 0.8000 - val_recall: 1.0000 - val_auc: 0.9917\n",
            "Epoch 125/150\n",
            "5/5 [==============================] - 0s 12ms/step - loss: 0.0478 - tp: 18.0000 - fp: 0.0000e+00 - tn: 115.0000 - fn: 1.0000 - accuracy: 0.9925 - precision: 1.0000 - recall: 0.9474 - auc: 0.9973 - val_loss: 0.1103 - val_tp: 4.0000 - val_fp: 1.0000 - val_tn: 29.0000 - val_fn: 0.0000e+00 - val_accuracy: 0.9706 - val_precision: 0.8000 - val_recall: 1.0000 - val_auc: 0.9917\n",
            "Epoch 126/150\n",
            "5/5 [==============================] - 0s 13ms/step - loss: 0.0472 - tp: 17.0000 - fp: 0.0000e+00 - tn: 115.0000 - fn: 2.0000 - accuracy: 0.9851 - precision: 1.0000 - recall: 0.8947 - auc: 0.9973 - val_loss: 0.1093 - val_tp: 4.0000 - val_fp: 1.0000 - val_tn: 29.0000 - val_fn: 0.0000e+00 - val_accuracy: 0.9706 - val_precision: 0.8000 - val_recall: 1.0000 - val_auc: 0.9917\n",
            "Epoch 127/150\n",
            "5/5 [==============================] - 0s 12ms/step - loss: 0.0459 - tp: 18.0000 - fp: 0.0000e+00 - tn: 115.0000 - fn: 1.0000 - accuracy: 0.9925 - precision: 1.0000 - recall: 0.9474 - auc: 0.9975 - val_loss: 0.1084 - val_tp: 4.0000 - val_fp: 1.0000 - val_tn: 29.0000 - val_fn: 0.0000e+00 - val_accuracy: 0.9706 - val_precision: 0.8000 - val_recall: 1.0000 - val_auc: 0.9917\n",
            "Epoch 128/150\n",
            "5/5 [==============================] - 0s 13ms/step - loss: 0.0496 - tp: 17.0000 - fp: 0.0000e+00 - tn: 115.0000 - fn: 2.0000 - accuracy: 0.9851 - precision: 1.0000 - recall: 0.8947 - auc: 0.9954 - val_loss: 0.1080 - val_tp: 4.0000 - val_fp: 1.0000 - val_tn: 29.0000 - val_fn: 0.0000e+00 - val_accuracy: 0.9706 - val_precision: 0.8000 - val_recall: 1.0000 - val_auc: 0.9917\n",
            "Epoch 129/150\n",
            "5/5 [==============================] - 0s 12ms/step - loss: 0.0452 - tp: 18.0000 - fp: 0.0000e+00 - tn: 115.0000 - fn: 1.0000 - accuracy: 0.9925 - precision: 1.0000 - recall: 0.9474 - auc: 0.9963 - val_loss: 0.1084 - val_tp: 4.0000 - val_fp: 1.0000 - val_tn: 29.0000 - val_fn: 0.0000e+00 - val_accuracy: 0.9706 - val_precision: 0.8000 - val_recall: 1.0000 - val_auc: 0.9917\n",
            "Epoch 130/150\n",
            "5/5 [==============================] - 0s 13ms/step - loss: 0.0463 - tp: 18.0000 - fp: 0.0000e+00 - tn: 115.0000 - fn: 1.0000 - accuracy: 0.9925 - precision: 1.0000 - recall: 0.9474 - auc: 0.9968 - val_loss: 0.1095 - val_tp: 4.0000 - val_fp: 1.0000 - val_tn: 29.0000 - val_fn: 0.0000e+00 - val_accuracy: 0.9706 - val_precision: 0.8000 - val_recall: 1.0000 - val_auc: 0.9917\n",
            "Epoch 131/150\n",
            "5/5 [==============================] - 0s 11ms/step - loss: 0.0443 - tp: 17.0000 - fp: 0.0000e+00 - tn: 115.0000 - fn: 2.0000 - accuracy: 0.9851 - precision: 1.0000 - recall: 0.8947 - auc: 0.9975 - val_loss: 0.1102 - val_tp: 4.0000 - val_fp: 1.0000 - val_tn: 29.0000 - val_fn: 0.0000e+00 - val_accuracy: 0.9706 - val_precision: 0.8000 - val_recall: 1.0000 - val_auc: 0.9917\n",
            "Epoch 132/150\n",
            "5/5 [==============================] - 0s 12ms/step - loss: 0.0458 - tp: 17.0000 - fp: 0.0000e+00 - tn: 115.0000 - fn: 2.0000 - accuracy: 0.9851 - precision: 1.0000 - recall: 0.8947 - auc: 0.9973 - val_loss: 0.1103 - val_tp: 4.0000 - val_fp: 1.0000 - val_tn: 29.0000 - val_fn: 0.0000e+00 - val_accuracy: 0.9706 - val_precision: 0.8000 - val_recall: 1.0000 - val_auc: 0.9917\n",
            "Epoch 133/150\n",
            "5/5 [==============================] - 0s 15ms/step - loss: 0.0461 - tp: 17.0000 - fp: 0.0000e+00 - tn: 115.0000 - fn: 2.0000 - accuracy: 0.9851 - precision: 1.0000 - recall: 0.8947 - auc: 0.9973 - val_loss: 0.1101 - val_tp: 4.0000 - val_fp: 1.0000 - val_tn: 29.0000 - val_fn: 0.0000e+00 - val_accuracy: 0.9706 - val_precision: 0.8000 - val_recall: 1.0000 - val_auc: 0.9917\n",
            "Epoch 134/150\n",
            "5/5 [==============================] - 0s 13ms/step - loss: 0.0454 - tp: 17.0000 - fp: 0.0000e+00 - tn: 115.0000 - fn: 2.0000 - accuracy: 0.9851 - precision: 1.0000 - recall: 0.8947 - auc: 0.9982 - val_loss: 0.1096 - val_tp: 4.0000 - val_fp: 1.0000 - val_tn: 29.0000 - val_fn: 0.0000e+00 - val_accuracy: 0.9706 - val_precision: 0.8000 - val_recall: 1.0000 - val_auc: 0.9917\n",
            "Epoch 135/150\n",
            "5/5 [==============================] - 0s 12ms/step - loss: 0.0415 - tp: 18.0000 - fp: 0.0000e+00 - tn: 115.0000 - fn: 1.0000 - accuracy: 0.9925 - precision: 1.0000 - recall: 0.9474 - auc: 0.9977 - val_loss: 0.1095 - val_tp: 4.0000 - val_fp: 1.0000 - val_tn: 29.0000 - val_fn: 0.0000e+00 - val_accuracy: 0.9706 - val_precision: 0.8000 - val_recall: 1.0000 - val_auc: 0.9917\n",
            "Epoch 136/150\n",
            "5/5 [==============================] - 0s 11ms/step - loss: 0.0432 - tp: 18.0000 - fp: 0.0000e+00 - tn: 115.0000 - fn: 1.0000 - accuracy: 0.9925 - precision: 1.0000 - recall: 0.9474 - auc: 0.9973 - val_loss: 0.1099 - val_tp: 4.0000 - val_fp: 1.0000 - val_tn: 29.0000 - val_fn: 0.0000e+00 - val_accuracy: 0.9706 - val_precision: 0.8000 - val_recall: 1.0000 - val_auc: 0.9917\n",
            "Epoch 137/150\n",
            "5/5 [==============================] - 0s 11ms/step - loss: 0.0417 - tp: 18.0000 - fp: 0.0000e+00 - tn: 115.0000 - fn: 1.0000 - accuracy: 0.9925 - precision: 1.0000 - recall: 0.9474 - auc: 0.9982 - val_loss: 0.1115 - val_tp: 4.0000 - val_fp: 1.0000 - val_tn: 29.0000 - val_fn: 0.0000e+00 - val_accuracy: 0.9706 - val_precision: 0.8000 - val_recall: 1.0000 - val_auc: 0.9917\n",
            "Epoch 138/150\n",
            "5/5 [==============================] - 0s 12ms/step - loss: 0.0417 - tp: 18.0000 - fp: 0.0000e+00 - tn: 115.0000 - fn: 1.0000 - accuracy: 0.9925 - precision: 1.0000 - recall: 0.9474 - auc: 0.9977 - val_loss: 0.1108 - val_tp: 4.0000 - val_fp: 1.0000 - val_tn: 29.0000 - val_fn: 0.0000e+00 - val_accuracy: 0.9706 - val_precision: 0.8000 - val_recall: 1.0000 - val_auc: 0.9917\n",
            "Epoch 139/150\n",
            "5/5 [==============================] - 0s 11ms/step - loss: 0.0521 - tp: 18.0000 - fp: 0.0000e+00 - tn: 115.0000 - fn: 1.0000 - accuracy: 0.9925 - precision: 1.0000 - recall: 0.9474 - auc: 0.9963 - val_loss: 0.1105 - val_tp: 4.0000 - val_fp: 1.0000 - val_tn: 29.0000 - val_fn: 0.0000e+00 - val_accuracy: 0.9706 - val_precision: 0.8000 - val_recall: 1.0000 - val_auc: 0.9917\n",
            "Epoch 140/150\n",
            "5/5 [==============================] - 0s 12ms/step - loss: 0.0455 - tp: 17.0000 - fp: 0.0000e+00 - tn: 115.0000 - fn: 2.0000 - accuracy: 0.9851 - precision: 1.0000 - recall: 0.8947 - auc: 0.9975 - val_loss: 0.1112 - val_tp: 4.0000 - val_fp: 1.0000 - val_tn: 29.0000 - val_fn: 0.0000e+00 - val_accuracy: 0.9706 - val_precision: 0.8000 - val_recall: 1.0000 - val_auc: 0.9917\n",
            "Epoch 141/150\n",
            "5/5 [==============================] - 0s 11ms/step - loss: 0.0513 - tp: 18.0000 - fp: 1.0000 - tn: 114.0000 - fn: 1.0000 - accuracy: 0.9851 - precision: 0.9474 - recall: 0.9474 - auc: 0.9963 - val_loss: 0.1102 - val_tp: 4.0000 - val_fp: 1.0000 - val_tn: 29.0000 - val_fn: 0.0000e+00 - val_accuracy: 0.9706 - val_precision: 0.8000 - val_recall: 1.0000 - val_auc: 0.9917\n",
            "Epoch 142/150\n",
            "5/5 [==============================] - 0s 13ms/step - loss: 0.0393 - tp: 18.0000 - fp: 0.0000e+00 - tn: 115.0000 - fn: 1.0000 - accuracy: 0.9925 - precision: 1.0000 - recall: 0.9474 - auc: 0.9977 - val_loss: 0.1096 - val_tp: 4.0000 - val_fp: 1.0000 - val_tn: 29.0000 - val_fn: 0.0000e+00 - val_accuracy: 0.9706 - val_precision: 0.8000 - val_recall: 1.0000 - val_auc: 0.9917\n",
            "Epoch 143/150\n",
            "5/5 [==============================] - 0s 13ms/step - loss: 0.0429 - tp: 18.0000 - fp: 0.0000e+00 - tn: 115.0000 - fn: 1.0000 - accuracy: 0.9925 - precision: 1.0000 - recall: 0.9474 - auc: 0.9973 - val_loss: 0.1097 - val_tp: 4.0000 - val_fp: 1.0000 - val_tn: 29.0000 - val_fn: 0.0000e+00 - val_accuracy: 0.9706 - val_precision: 0.8000 - val_recall: 1.0000 - val_auc: 0.9917\n",
            "Epoch 144/150\n",
            "5/5 [==============================] - 0s 11ms/step - loss: 0.0477 - tp: 17.0000 - fp: 0.0000e+00 - tn: 115.0000 - fn: 2.0000 - accuracy: 0.9851 - precision: 1.0000 - recall: 0.8947 - auc: 0.9973 - val_loss: 0.1095 - val_tp: 4.0000 - val_fp: 1.0000 - val_tn: 29.0000 - val_fn: 0.0000e+00 - val_accuracy: 0.9706 - val_precision: 0.8000 - val_recall: 1.0000 - val_auc: 0.9917\n",
            "Epoch 145/150\n",
            "5/5 [==============================] - 0s 11ms/step - loss: 0.0421 - tp: 18.0000 - fp: 0.0000e+00 - tn: 115.0000 - fn: 1.0000 - accuracy: 0.9925 - precision: 1.0000 - recall: 0.9474 - auc: 0.9968 - val_loss: 0.1086 - val_tp: 4.0000 - val_fp: 1.0000 - val_tn: 29.0000 - val_fn: 0.0000e+00 - val_accuracy: 0.9706 - val_precision: 0.8000 - val_recall: 1.0000 - val_auc: 0.9917\n",
            "Epoch 146/150\n",
            "5/5 [==============================] - 0s 11ms/step - loss: 0.0489 - tp: 17.0000 - fp: 0.0000e+00 - tn: 115.0000 - fn: 2.0000 - accuracy: 0.9851 - precision: 1.0000 - recall: 0.8947 - auc: 0.9959 - val_loss: 0.1081 - val_tp: 4.0000 - val_fp: 1.0000 - val_tn: 29.0000 - val_fn: 0.0000e+00 - val_accuracy: 0.9706 - val_precision: 0.8000 - val_recall: 1.0000 - val_auc: 0.9917\n",
            "Epoch 147/150\n",
            "5/5 [==============================] - 0s 11ms/step - loss: 0.0428 - tp: 18.0000 - fp: 0.0000e+00 - tn: 115.0000 - fn: 1.0000 - accuracy: 0.9925 - precision: 1.0000 - recall: 0.9474 - auc: 0.9979 - val_loss: 0.1096 - val_tp: 4.0000 - val_fp: 1.0000 - val_tn: 29.0000 - val_fn: 0.0000e+00 - val_accuracy: 0.9706 - val_precision: 0.8000 - val_recall: 1.0000 - val_auc: 0.9917\n",
            "Epoch 148/150\n",
            "5/5 [==============================] - 0s 11ms/step - loss: 0.0431 - tp: 18.0000 - fp: 0.0000e+00 - tn: 115.0000 - fn: 1.0000 - accuracy: 0.9925 - precision: 1.0000 - recall: 0.9474 - auc: 0.9970 - val_loss: 0.1116 - val_tp: 4.0000 - val_fp: 1.0000 - val_tn: 29.0000 - val_fn: 0.0000e+00 - val_accuracy: 0.9706 - val_precision: 0.8000 - val_recall: 1.0000 - val_auc: 0.9917\n",
            "Epoch 149/150\n",
            "5/5 [==============================] - 0s 11ms/step - loss: 0.0429 - tp: 18.0000 - fp: 0.0000e+00 - tn: 115.0000 - fn: 1.0000 - accuracy: 0.9925 - precision: 1.0000 - recall: 0.9474 - auc: 0.9977 - val_loss: 0.1124 - val_tp: 4.0000 - val_fp: 1.0000 - val_tn: 29.0000 - val_fn: 0.0000e+00 - val_accuracy: 0.9706 - val_precision: 0.8000 - val_recall: 1.0000 - val_auc: 0.9917\n",
            "Epoch 150/150\n",
            "5/5 [==============================] - 0s 12ms/step - loss: 0.0461 - tp: 17.0000 - fp: 0.0000e+00 - tn: 115.0000 - fn: 2.0000 - accuracy: 0.9851 - precision: 1.0000 - recall: 0.8947 - auc: 0.9973 - val_loss: 0.1119 - val_tp: 4.0000 - val_fp: 1.0000 - val_tn: 29.0000 - val_fn: 0.0000e+00 - val_accuracy: 0.9706 - val_precision: 0.8000 - val_recall: 1.0000 - val_auc: 0.9917\n"
          ],
          "name": "stdout"
        },
        {
          "output_type": "execute_result",
          "data": {
            "text/plain": [
              "<tensorflow.python.keras.callbacks.History at 0x7f4b827a0048>"
            ]
          },
          "metadata": {
            "tags": []
          },
          "execution_count": 21
        }
      ]
    },
    {
      "cell_type": "code",
      "metadata": {
        "id": "z888rrtb6w9U",
        "colab_type": "code",
        "colab": {}
      },
      "source": [
        "dataset_copy = log_1df\n",
        "y = dataset_copy.pop('NBER')\n",
        "x = dataset_copy"
      ],
      "execution_count": 0,
      "outputs": []
    },
    {
      "cell_type": "code",
      "metadata": {
        "id": "VXgYxb3vKE9F",
        "colab_type": "code",
        "outputId": "6aa379a4-4389-4271-af70-f75fd2908e41",
        "colab": {
          "base_uri": "https://localhost:8080/",
          "height": 592
        }
      },
      "source": [
        "USDL_model = model.predict(scaler.fit_transform(x)) #fit_transform or transform ???\n",
        "#USDL_model = [np.round(x) for x in DL_model]\n",
        "time_axis = range(0,y.shape[0]) #log_df_date[1:]\n",
        "plt.bar(time_axis, y.T, width=1, linewidth=1, align='center', color=\"lightgray\", label='NBER') #****check width and linewidht\n",
        "plt.plot(time_axis, USDL_model, 'b-', color=\"royalblue\", label='USDL_model') #model\n",
        "plt.legend()\n",
        "plt.show()"
      ],
      "execution_count": 23,
      "outputs": [
        {
          "output_type": "display_data",
          "data": {
            "image/png": "[encoded data removed]",
            "text/plain": [
              "<Figure size 864x720 with 1 Axes>"
            ]
          },
          "metadata": {
            "tags": [],
            "needs_background": "light"
          }
        }
      ]
    },
    {
      "cell_type": "markdown",
      "metadata": {
        "id": "Powqfzrb0k6t",
        "colab_type": "text"
      },
      "source": [
        "#Transfer Learning | Brazil and EURO"
      ]
    },
    {
      "cell_type": "markdown",
      "metadata": {
        "id": "Esqz70H604Zm",
        "colab_type": "text"
      },
      "source": [
        "##Brazil"
      ]
    },
    {
      "cell_type": "code",
      "metadata": {
        "id": "vG54Zdiuzmav",
        "colab_type": "code",
        "colab": {}
      },
      "source": [
        "BR_raw_data = pd.read_csv('https://raw.githubusercontent.com/rrsguim/PhD_Economics/master/NN4BC/TL4BC_Brazil_data.csv')"
      ],
      "execution_count": 0,
      "outputs": []
    },
    {
      "cell_type": "code",
      "metadata": {
        "id": "Tvs7ociZfXnH",
        "colab_type": "code",
        "colab": {}
      },
      "source": [
        "BR_raw_data.index = BR_raw_data['DATE']\n",
        "drop_DATE = BR_raw_data.pop('DATE')\n",
        "BR_raw_data.index = pd.to_datetime(BR_raw_data.index,infer_datetime_format=True)\n",
        "BR_raw_data.index = BR_raw_data.index.to_period(\"Q\")\n"
      ],
      "execution_count": 0,
      "outputs": []
    },
    {
      "cell_type": "code",
      "metadata": {
        "id": "912wed-mJ216",
        "colab_type": "code",
        "colab": {}
      },
      "source": [
        "BR_log_data = BR_raw_data.copy()\n",
        "\n",
        "BR_log_data['GDP'] = np.log(BR_log_data['GDP'])\n",
        "BR_log_data['Income'] = np.log(BR_log_data['Income'])\n",
        "BR_log_data['Employment'] = np.log(BR_log_data['Employment'])\n",
        "BR_log_data['Industry'] = np.log(BR_log_data['Industry'])\n",
        "BR_log_data['Sales'] = np.log(BR_log_data['Sales'])"
      ],
      "execution_count": 0,
      "outputs": []
    },
    {
      "cell_type": "code",
      "metadata": {
        "id": "UmgiD7OfLVON",
        "colab_type": "code",
        "colab": {}
      },
      "source": [
        "BR_log_1df = BR_log_data.copy()\n",
        "\n",
        "BR_log_1df['GDP'] = BR_log_data['GDP'] - BR_log_data['GDP'].shift(1)\n",
        "BR_log_1df['Income'] = BR_log_data['Income'] - BR_log_data['Income'].shift(1)\n",
        "BR_log_1df['Employment'] = BR_log_data['Employment'] - BR_log_data['Employment'].shift(1)\n",
        "BR_log_1df['Industry'] = BR_log_data['Industry'] - BR_log_data['Industry'].shift(1)\n",
        "BR_log_1df['Sales'] = BR_log_data['Sales'] - BR_log_data['Sales'].shift(1)"
      ],
      "execution_count": 0,
      "outputs": []
    },
    {
      "cell_type": "code",
      "metadata": {
        "id": "ufr_WahMJ2mU",
        "colab_type": "code",
        "colab": {}
      },
      "source": [
        "BR_dataset_copy = BR_log_1df\n",
        "yBR = BR_dataset_copy.pop('CODACE')\n",
        "xBR = BR_dataset_copy"
      ],
      "execution_count": 0,
      "outputs": []
    },
    {
      "cell_type": "code",
      "metadata": {
        "id": "DDl38IvdJ1wl",
        "colab_type": "code",
        "outputId": "34cf510b-2d43-441b-d0a6-f0a346358e0e",
        "colab": {
          "base_uri": "https://localhost:8080/",
          "height": 592
        }
      },
      "source": [
        "BRTL_model = model.predict(scaler.fit_transform(xBR)) #fit_transform or transform ???\n",
        "#BRTL_model = [np.round(xBR) for x in BRTL_model]\n",
        "time_axis = range(0,yBR.shape[0])\n",
        "plt.bar(time_axis, yBR.T, width=1, linewidth=1, align='center', color=\"lightgray\", label='CODACE') #****check width and linewidht\n",
        "plt.plot(time_axis, BRTL_model, 'b-', color=\"royalblue\", label='BRTL_model') #model\n",
        "plt.legend()\n",
        "plt.show()"
      ],
      "execution_count": 29,
      "outputs": [
        {
          "output_type": "display_data",
          "data": {
            "image/png": "[encoded data removed]",
            "text/plain": [
              "<Figure size 864x720 with 1 Axes>"
            ]
          },
          "metadata": {
            "tags": [],
            "needs_background": "light"
          }
        }
      ]
    },
    {
      "cell_type": "markdown",
      "metadata": {
        "id": "FD-v-hUN_l5n",
        "colab_type": "text"
      },
      "source": [
        "##EURO"
      ]
    },
    {
      "cell_type": "code",
      "metadata": {
        "id": "NZktF-_T_o1I",
        "colab_type": "code",
        "colab": {}
      },
      "source": [
        "EURO_raw_data = pd.read_csv('https://raw.githubusercontent.com/rrsguim/PhD_Economics/master/NN4BC/TL4BC_Euro_data_2005.csv')"
      ],
      "execution_count": 0,
      "outputs": []
    },
    {
      "cell_type": "code",
      "metadata": {
        "id": "lZcWqG33_6p9",
        "colab_type": "code",
        "colab": {}
      },
      "source": [
        "EURO_raw_data.index = EURO_raw_data['DATE']\n",
        "drop_DATE = EURO_raw_data.pop('DATE')\n",
        "EURO_raw_data.index = pd.to_datetime(EURO_raw_data.index,infer_datetime_format=True)\n",
        "EURO_raw_data.index = EURO_raw_data.index.to_period(\"Q\")"
      ],
      "execution_count": 0,
      "outputs": []
    },
    {
      "cell_type": "code",
      "metadata": {
        "id": "TaT9FKfx_6fY",
        "colab_type": "code",
        "colab": {}
      },
      "source": [
        "EURO_log_data = EURO_raw_data.copy()\n",
        "\n",
        "EURO_log_data['GDP'] = np.log(EURO_log_data['GDP'])\n",
        "EURO_log_data['Income'] = np.log(EURO_log_data['Income'])\n",
        "EURO_log_data['Employment'] = np.log(EURO_log_data['Employment'])\n",
        "EURO_log_data['Industry'] = np.log(EURO_log_data['Industry'])\n",
        "EURO_log_data['Sales'] = np.log(EURO_log_data['Sales'])"
      ],
      "execution_count": 0,
      "outputs": []
    },
    {
      "cell_type": "code",
      "metadata": {
        "id": "wUnraqdo_6WK",
        "colab_type": "code",
        "colab": {}
      },
      "source": [
        "EURO_log_1df = EURO_log_data.copy()\n",
        "\n",
        "EURO_log_1df['GDP'] = EURO_log_data['GDP'] - EURO_log_data['GDP'].shift(1)\n",
        "EURO_log_1df['Income'] = EURO_log_data['Income'] - EURO_log_data['Income'].shift(1)\n",
        "EURO_log_1df['Employment'] = EURO_log_data['Employment'] - EURO_log_data['Employment'].shift(1)\n",
        "EURO_log_1df['Industry'] = EURO_log_data['Industry'] - EURO_log_data['Industry'].shift(1)\n",
        "EURO_log_1df['Sales'] = EURO_log_data['Sales'] - EURO_log_data['Sales'].shift(1)"
      ],
      "execution_count": 0,
      "outputs": []
    },
    {
      "cell_type": "code",
      "metadata": {
        "id": "t9Fjt4il_6M6",
        "colab_type": "code",
        "colab": {}
      },
      "source": [
        "EURO_dataset_copy = EURO_log_1df\n",
        "yEURO = EURO_dataset_copy.pop('CEPR')\n",
        "xEURO = EURO_dataset_copy"
      ],
      "execution_count": 0,
      "outputs": []
    },
    {
      "cell_type": "code",
      "metadata": {
        "id": "tHcS_it__58i",
        "colab_type": "code",
        "outputId": "4a723b6d-3401-449a-8e23-1340066e1967",
        "colab": {
          "base_uri": "https://localhost:8080/",
          "height": 592
        }
      },
      "source": [
        "EuroTL_model = model.predict(scaler.fit_transform(xEURO)) #fit_transform or transform ???\n",
        "#EuroTL_model = [np.round(xEURO) for x in EuroTL_model]\n",
        "time_axis = range(0,yEURO.shape[0])\n",
        "plt.bar(time_axis, yEURO.T, width=1, linewidth=1, align='center', color=\"lightgray\", label='CEPR') #****check width and linewidht\n",
        "plt.plot(time_axis, EuroTL_model, 'b-', color=\"royalblue\", label='EuroTL_model') #model\n",
        "plt.legend()\n",
        "plt.show()"
      ],
      "execution_count": 35,
      "outputs": [
        {
          "output_type": "display_data",
          "data": {
            "image/png": "[encoded data removed]",
            "text/plain": [
              "<Figure size 864x720 with 1 Axes>"
            ]
          },
          "metadata": {
            "tags": [],
            "needs_background": "light"
          }
        }
      ]
    },
    {
      "cell_type": "markdown",
      "metadata": {
        "id": "FTiwfmOgmer1",
        "colab_type": "text"
      },
      "source": [
        "#Export classification data"
      ]
    },
    {
      "cell_type": "code",
      "metadata": {
        "id": "RLseY0JwmsHa",
        "colab_type": "code",
        "colab": {}
      },
      "source": [
        "import datetime\n",
        "now = datetime.datetime.now().strftime(\"%Y%m%d_%Hh%M\")"
      ],
      "execution_count": 0,
      "outputs": []
    },
    {
      "cell_type": "code",
      "metadata": {
        "id": "krjbSWZoz-PX",
        "colab_type": "code",
        "colab": {}
      },
      "source": [
        "TL4BC_USDL = pd.DataFrame(y)\n",
        "TL4BC_USDL['USDL_model'] = np.array(USDL_model)\n",
        "\n",
        "a1 = np.asarray(TL4BC_USDL)\n",
        "np.savetxt(\"TL4BC_USDL_output_\"+now+\".csv\", a1, delimiter=\",\")"
      ],
      "execution_count": 0,
      "outputs": []
    },
    {
      "cell_type": "code",
      "metadata": {
        "id": "m-JWO9RcwHRs",
        "colab_type": "code",
        "colab": {}
      },
      "source": [
        "TL4BC_BRTL = pd.DataFrame(yBR)\n",
        "TL4BC_BRTL['BRTL_model'] = np.array(BRTL_model)\n",
        "\n",
        "a2 = np.asarray(TL4BC_BRTL)\n",
        "np.savetxt(\"TL4BC_BRTL_output_\"+now+\".csv\", a2, delimiter=\",\")"
      ],
      "execution_count": 0,
      "outputs": []
    },
    {
      "cell_type": "code",
      "metadata": {
        "id": "H-rxwPMAwkDb",
        "colab_type": "code",
        "colab": {}
      },
      "source": [
        "TL4BC_EuroTL = pd.DataFrame(yEURO)\n",
        "TL4BC_EuroTL['EuroTL_model'] = np.array(EuroTL_model)\n",
        "\n",
        "a3 = np.asarray(TL4BC_EuroTL)\n",
        "np.savetxt(\"TL4BC_EuroTL_output_\"+now+\".csv\", a3, delimiter=\",\")"
      ],
      "execution_count": 0,
      "outputs": []
    }
  ]
}
