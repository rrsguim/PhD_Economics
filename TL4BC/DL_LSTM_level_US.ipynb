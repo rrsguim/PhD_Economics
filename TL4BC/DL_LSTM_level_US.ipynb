{
  "nbformat": 4,
  "nbformat_minor": 0,
  "metadata": {
    "colab": {
      "name": "DL_LSTM_level_US.ipynb",
      "provenance": [],
      "collapsed_sections": [],
      "toc_visible": true,
      "include_colab_link": true
    },
    "kernelspec": {
      "name": "python3",
      "display_name": "Python 3"
    }
  },
  "cells": [
    {
      "cell_type": "markdown",
      "metadata": {
        "id": "view-in-github",
        "colab_type": "text"
      },
      "source": [
        "<a href=\"https://colab.research.google.com/github/rrsguim/PhD_Economics/blob/master/NN4BC/DL_LSTM_level_US.ipynb\" target=\"_parent\"><img src=\"https://colab.research.google.com/assets/colab-badge.svg\" alt=\"Open In Colab\"/></a>"
      ]
    },
    {
      "cell_type": "markdown",
      "metadata": {
        "id": "dUeKVCYTbcyT"
      },
      "source": [
        "------------------------------------------------------------------------------------------------------\n",
        "Copyright (c) 2020 Rafael Guimaraes\n",
        "\n",
        "This work was done when I was at the University of California, Riverside, USA. \n",
        "\n",
        "It is part of my doctoral thesis in Economics at the Federal University of \n",
        "\n",
        "Rio Grande do Sul, Porto Alegre, Brazil.\n",
        "\n",
        "\n",
        "See full material at https://github.com/rrsguim/PhD_Economics\n",
        "\n",
        "The code below, under the Apache License, was inspired by\n",
        "\n",
        "*Classification on imbalanced data*, and \n",
        "\n",
        "*Introduction to the Keras Tuner*\n",
        "\n",
        "Copyright 2020 The TensorFlow Authors\n",
        "\n",
        "https://www.tensorflow.org/tutorials/structured_data/imbalanced_data\n",
        "\n",
        "https://www.tensorflow.org/tutorials/keras/keras_tuner\n",
        "\n",
        "-------------------------------------------------------------------------"
      ]
    },
    {
      "cell_type": "markdown",
      "metadata": {
        "id": "gJT7cOb44eDi"
      },
      "source": [
        "# Transfer Learning for Business Cycle Identification"
      ]
    },
    {
      "cell_type": "markdown",
      "metadata": {
        "id": "CJW6mqC85CRP"
      },
      "source": [
        "##Setup"
      ]
    },
    {
      "cell_type": "code",
      "metadata": {
        "id": "yJHVo_K_v20i"
      },
      "source": [
        "from __future__ import absolute_import, division, print_function, unicode_literals"
      ],
      "execution_count": null,
      "outputs": []
    },
    {
      "cell_type": "code",
      "metadata": {
        "id": "fYBlUQ5FvzxP"
      },
      "source": [
        "try:\n",
        "  # %tensorflow_version only exists in Colab.\n",
        "  %tensorflow_version 2.x\n",
        "except Exception:\n",
        "  pass"
      ],
      "execution_count": null,
      "outputs": []
    },
    {
      "cell_type": "code",
      "metadata": {
        "id": "43tKdRoNecNy",
        "colab": {
          "base_uri": "https://localhost:8080/"
        },
        "outputId": "a937ef91-42c5-4cfa-e387-81f04007ffb9"
      },
      "source": [
        "!pip install -U keras-tuner"
      ],
      "execution_count": null,
      "outputs": [
        {
          "output_type": "stream",
          "text": [
            "Requirement already up-to-date: keras-tuner in /usr/local/lib/python3.6/dist-packages (1.0.1)\n",
            "Requirement already satisfied, skipping upgrade: scipy in /usr/local/lib/python3.6/dist-packages (from keras-tuner) (1.4.1)\n",
            "Requirement already satisfied, skipping upgrade: future in /usr/local/lib/python3.6/dist-packages (from keras-tuner) (0.16.0)\n",
            "Requirement already satisfied, skipping upgrade: terminaltables in /usr/local/lib/python3.6/dist-packages (from keras-tuner) (3.1.0)\n",
            "Requirement already satisfied, skipping upgrade: scikit-learn in /usr/local/lib/python3.6/dist-packages (from keras-tuner) (0.22.2.post1)\n",
            "Requirement already satisfied, skipping upgrade: requests in /usr/local/lib/python3.6/dist-packages (from keras-tuner) (2.23.0)\n",
            "Requirement already satisfied, skipping upgrade: numpy in /usr/local/lib/python3.6/dist-packages (from keras-tuner) (1.18.5)\n",
            "Requirement already satisfied, skipping upgrade: tqdm in /usr/local/lib/python3.6/dist-packages (from keras-tuner) (4.41.1)\n",
            "Requirement already satisfied, skipping upgrade: colorama in /usr/local/lib/python3.6/dist-packages (from keras-tuner) (0.4.4)\n",
            "Requirement already satisfied, skipping upgrade: tabulate in /usr/local/lib/python3.6/dist-packages (from keras-tuner) (0.8.7)\n",
            "Requirement already satisfied, skipping upgrade: joblib>=0.11 in /usr/local/lib/python3.6/dist-packages (from scikit-learn->keras-tuner) (0.17.0)\n",
            "Requirement already satisfied, skipping upgrade: chardet<4,>=3.0.2 in /usr/local/lib/python3.6/dist-packages (from requests->keras-tuner) (3.0.4)\n",
            "Requirement already satisfied, skipping upgrade: urllib3!=1.25.0,!=1.25.1,<1.26,>=1.21.1 in /usr/local/lib/python3.6/dist-packages (from requests->keras-tuner) (1.24.3)\n",
            "Requirement already satisfied, skipping upgrade: certifi>=2017.4.17 in /usr/local/lib/python3.6/dist-packages (from requests->keras-tuner) (2020.6.20)\n",
            "Requirement already satisfied, skipping upgrade: idna<3,>=2.5 in /usr/local/lib/python3.6/dist-packages (from requests->keras-tuner) (2.10)\n"
          ],
          "name": "stdout"
        }
      ]
    },
    {
      "cell_type": "code",
      "metadata": {
        "id": "JM7hDSNClfoK"
      },
      "source": [
        "import tensorflow as tf\n",
        "from tensorflow import keras\n",
        "\n",
        "import IPython\n",
        "\n",
        "import kerastuner as kt\n",
        "from kerastuner import RandomSearch\n",
        "\n",
        "import os\n",
        "import tempfile\n",
        "\n",
        "import matplotlib as mpl\n",
        "import matplotlib.pyplot as plt\n",
        "import numpy as np\n",
        "import pandas as pd\n",
        "import seaborn as sns\n",
        "\n",
        "import sklearn\n",
        "from sklearn.metrics import confusion_matrix\n",
        "from sklearn.model_selection import train_test_split\n",
        "from sklearn.preprocessing import StandardScaler"
      ],
      "execution_count": null,
      "outputs": []
    },
    {
      "cell_type": "code",
      "metadata": {
        "id": "c8o1FHzD-_y_"
      },
      "source": [
        "mpl.rcParams['figure.figsize'] = (12, 10)\n",
        "colors = plt.rcParams['axes.prop_cycle'].by_key()['color']"
      ],
      "execution_count": null,
      "outputs": []
    },
    {
      "cell_type": "markdown",
      "metadata": {
        "id": "7JfLUlawto_D"
      },
      "source": [
        "## Deep Learning | United States"
      ]
    },
    {
      "cell_type": "markdown",
      "metadata": {
        "id": "oG4spZ-K5MkL"
      },
      "source": [
        "###Data loading and pre-processing"
      ]
    },
    {
      "cell_type": "markdown",
      "metadata": {
        "id": "Rv6BaNhL5eLQ"
      },
      "source": [
        "#### Download the data set\n",
        "\n",
        "##### The Dataset\n",
        "\n",
        "We use FRED Economic Data, provided by the Federal Reserve Bank of Saint Louis. There are several rows in the CSV file. Each row corresponds to a quarter, and each column describes an attribute. We will use this information to infer whether the US Economy is in recession, which in this dataset is a binary classification task.\n",
        "\n",
        "Following is a description of this dataset. Notice that there are both numeric and categorical columns. All data refer to United States of America from 1967Q1 to 2019Q4.\n",
        "\n",
        ">Column| Source| Description| Feature Type | Data Type\n",
        ">------------|--------------------|----------------------|-----------------|----------------\n",
        ">GDP | FRED-MD | GDPC1 - Real Gross Domestic Product, s.a. | Numerical | float\n",
        ">Income | FRED-MD | PIECTR - Real personal income ex current transfer receipts, s.a. | Numerical | float\n",
        ">Employment | FRED-MD | PRS85006013 - Nonfarm Business Sector employment index, s.a. | Numerical | float\n",
        ">Industry | FRED-MD | IPB50001SQ - Industrial production index, s.a. | Numerical | float\n",
        ">Sales | FRED-MD | CQRMTSPL - Real manufacturing and trade industries sales, s.a. | Numerical | float\n",
        ">Target | FRED-MD | USRECQ - NBER based Recession Indicator (1 = true; 0 = false) | Classification | integer"
      ]
    },
    {
      "cell_type": "code",
      "metadata": {
        "id": "pR_SnbMArXr7"
      },
      "source": [
        "file = tf.keras.utils\n",
        "raw_data = pd.read_csv('https://raw.githubusercontent.com/rrsguim/PhD_Economics/master/TL4BC/TL4BC_US_data.csv')"
      ],
      "execution_count": null,
      "outputs": []
    },
    {
      "cell_type": "code",
      "metadata": {
        "id": "rGVtGyAas2Hz"
      },
      "source": [
        "raw_data.index = raw_data['DATE']\n",
        "drop_DATE = raw_data.pop('DATE')\n",
        "raw_data.index = pd.to_datetime(raw_data.index,infer_datetime_format=True)\n",
        "raw_data.index = raw_data.index.to_period(\"Q\")"
      ],
      "execution_count": null,
      "outputs": []
    },
    {
      "cell_type": "markdown",
      "metadata": {
        "id": "ABKRH0il6j3f"
      },
      "source": [
        "#### Examine the class label imbalance"
      ]
    },
    {
      "cell_type": "code",
      "metadata": {
        "id": "HCJFrtuY2iLF",
        "colab": {
          "base_uri": "https://localhost:8080/"
        },
        "outputId": "8beddeb1-16b3-4f7d-82ba-cbc4a10a7862"
      },
      "source": [
        "neg, pos = np.bincount(raw_data['NBER'])\n",
        "total = neg + pos\n",
        "print('Examples:\\n    Total: {}\\n    Positive: {} ({:.2f}% of total)\\n'.format(\n",
        "    total, pos, 100 * pos / total))"
      ],
      "execution_count": null,
      "outputs": [
        {
          "output_type": "stream",
          "text": [
            "Examples:\n",
            "    Total: 212\n",
            "    Positive: 27 (12.74% of total)\n",
            "\n"
          ],
          "name": "stdout"
        }
      ]
    },
    {
      "cell_type": "markdown",
      "metadata": {
        "id": "pScKKNZn66QT"
      },
      "source": [
        "#### Transform the features into log."
      ]
    },
    {
      "cell_type": "code",
      "metadata": {
        "id": "Ef42jTuxEjnj"
      },
      "source": [
        "log_data = raw_data.copy()\n",
        "\n",
        "log_data['GDP'] = np.log(log_data['GDP'])\n",
        "log_data['Income'] = np.log(log_data['Income'])\n",
        "log_data['Employment'] = np.log(log_data['Employment'])\n",
        "log_data['Industry'] = np.log(log_data['Industry'])\n",
        "log_data['Sales'] = np.log(log_data['Sales'])"
      ],
      "execution_count": null,
      "outputs": []
    },
    {
      "cell_type": "markdown",
      "metadata": {
        "id": "XD4o60p47wlD"
      },
      "source": [
        "Observe last lines of the adjusted dataset."
      ]
    },
    {
      "cell_type": "code",
      "metadata": {
        "id": "OqJOIP2AY5RJ",
        "colab": {
          "base_uri": "https://localhost:8080/",
          "height": 235
        },
        "outputId": "d23f55d7-62dc-4a7a-c27b-8e4b62224a36"
      },
      "source": [
        "log_data.tail()"
      ],
      "execution_count": null,
      "outputs": [
        {
          "output_type": "execute_result",
          "data": {
            "text/html": [
              "<div>\n",
              "<style scoped>\n",
              "    .dataframe tbody tr th:only-of-type {\n",
              "        vertical-align: middle;\n",
              "    }\n",
              "\n",
              "    .dataframe tbody tr th {\n",
              "        vertical-align: top;\n",
              "    }\n",
              "\n",
              "    .dataframe thead th {\n",
              "        text-align: right;\n",
              "    }\n",
              "</style>\n",
              "<table border=\"1\" class=\"dataframe\">\n",
              "  <thead>\n",
              "    <tr style=\"text-align: right;\">\n",
              "      <th></th>\n",
              "      <th>GDP</th>\n",
              "      <th>Income</th>\n",
              "      <th>Employment</th>\n",
              "      <th>Industry</th>\n",
              "      <th>Sales</th>\n",
              "      <th>NBER</th>\n",
              "    </tr>\n",
              "    <tr>\n",
              "      <th>DATE</th>\n",
              "      <th></th>\n",
              "      <th></th>\n",
              "      <th></th>\n",
              "      <th></th>\n",
              "      <th></th>\n",
              "      <th></th>\n",
              "    </tr>\n",
              "  </thead>\n",
              "  <tbody>\n",
              "    <tr>\n",
              "      <th>2018Q4</th>\n",
              "      <td>9.840737</td>\n",
              "      <td>9.537023</td>\n",
              "      <td>4.723629</td>\n",
              "      <td>4.703431</td>\n",
              "      <td>7.308434</td>\n",
              "      <td>0</td>\n",
              "    </tr>\n",
              "    <tr>\n",
              "      <th>2019Q1</th>\n",
              "      <td>9.848360</td>\n",
              "      <td>9.546800</td>\n",
              "      <td>4.725031</td>\n",
              "      <td>4.698551</td>\n",
              "      <td>7.323390</td>\n",
              "      <td>0</td>\n",
              "    </tr>\n",
              "    <tr>\n",
              "      <th>2019Q2</th>\n",
              "      <td>9.853344</td>\n",
              "      <td>9.551028</td>\n",
              "      <td>4.725935</td>\n",
              "      <td>4.692851</td>\n",
              "      <td>7.318098</td>\n",
              "      <td>0</td>\n",
              "    </tr>\n",
              "    <tr>\n",
              "      <th>2019Q3</th>\n",
              "      <td>9.858548</td>\n",
              "      <td>9.552763</td>\n",
              "      <td>4.732956</td>\n",
              "      <td>4.695660</td>\n",
              "      <td>7.327270</td>\n",
              "      <td>0</td>\n",
              "    </tr>\n",
              "    <tr>\n",
              "      <th>2019Q4</th>\n",
              "      <td>9.863809</td>\n",
              "      <td>9.558607</td>\n",
              "      <td>4.734671</td>\n",
              "      <td>4.696536</td>\n",
              "      <td>7.327813</td>\n",
              "      <td>0</td>\n",
              "    </tr>\n",
              "  </tbody>\n",
              "</table>\n",
              "</div>"
            ],
            "text/plain": [
              "             GDP    Income  Employment  Industry     Sales  NBER\n",
              "DATE                                                            \n",
              "2018Q4  9.840737  9.537023    4.723629  4.703431  7.308434     0\n",
              "2019Q1  9.848360  9.546800    4.725031  4.698551  7.323390     0\n",
              "2019Q2  9.853344  9.551028    4.725935  4.692851  7.318098     0\n",
              "2019Q3  9.858548  9.552763    4.732956  4.695660  7.327270     0\n",
              "2019Q4  9.863809  9.558607    4.734671  4.696536  7.327813     0"
            ]
          },
          "metadata": {
            "tags": []
          },
          "execution_count": 10
        }
      ]
    },
    {
      "cell_type": "markdown",
      "metadata": {
        "id": "A9UejVk58KJ-"
      },
      "source": [
        "#### Inspect pre-processed data"
      ]
    },
    {
      "cell_type": "code",
      "metadata": {
        "id": "brunxYyx8Nje",
        "colab": {
          "base_uri": "https://localhost:8080/",
          "height": 592
        },
        "outputId": "497ae40a-4a80-4f69-8a86-4c166f400c63"
      },
      "source": [
        "plt.plot(drop_DATE, log_data['GDP'], label='GDP')\n",
        "plt.plot(drop_DATE, log_data['Income'], label='Income')\n",
        "plt.plot(drop_DATE, log_data['Employment'], label='Employment')\n",
        "plt.plot(drop_DATE, log_data['Industry'], label='Industry')\n",
        "plt.plot(drop_DATE, log_data['Sales'], label='Sales')\n",
        "plt.bar(drop_DATE, raw_data['NBER']*10 , width=1, linewidth=1, align='center', color=\"lightgray\", label='NBER') \n",
        "plt.legend()\n",
        "plt.show()"
      ],
      "execution_count": null,
      "outputs": [
        {
          "output_type": "display_data",
          "data": {
            "image/png": "[encoded data removed]",
            "text/plain": [
              "<Figure size 864x720 with 1 Axes>"
            ]
          },
          "metadata": {
            "tags": [],
            "needs_background": "light"
          }
        }
      ]
    },
    {
      "cell_type": "markdown",
      "metadata": {
        "id": "n9RDMZQq8sV9"
      },
      "source": [
        "#### Split, but no shuffle\n",
        "\n",
        "Split the dataset into train, validation, and test sets. The validation set is used during the model fitting to evaluate the loss and any metrics, however, the model is not fit with this data. The test set is completely unused during the training phase and is only used at the end to evaluate how well the model generalizes to new data. This is especially important with imbalanced datasets where overfitting is a significant concern from the lack of training data."
      ]
    },
    {
      "cell_type": "code",
      "metadata": {
        "id": "xfxhKg7Yr1-b"
      },
      "source": [
        "# Use a utility from sklearn to split our dataset.\n",
        "train_df, test_df = train_test_split(log_data, test_size=0.4, random_state=0, shuffle=False)  #then we have two recessions on test_set\n",
        "train_df, val_df = train_test_split(train_df, test_size=0.3, random_state=0, shuffle=False)  \n",
        "\n",
        "# Form np arrays of labels and features.\n",
        "train_labels = np.array(train_df.pop('NBER'))\n",
        "#bool_train_labels = train_labels != 0\n",
        "val_labels = np.array(val_df.pop('NBER'))\n",
        "test_labels = np.array(test_df.pop('NBER'))\n",
        "\n",
        "train_features = np.array(train_df)\n",
        "val_features = np.array(val_df)\n",
        "test_features = np.array(test_df)"
      ],
      "execution_count": null,
      "outputs": []
    },
    {
      "cell_type": "markdown",
      "metadata": {
        "id": "a7rZsWJ89bdf"
      },
      "source": [
        "#### Normalize\n",
        "\n",
        "Normalize the input features using the sklearn StandardScaler.\n",
        "This will set the mean to 0 and standard deviation to 1.\n",
        "\n",
        "Note: The `StandardScaler` is only fit using the `train_features` to be sure the model is not peeking at the validation or test sets. "
      ]
    },
    {
      "cell_type": "code",
      "metadata": {
        "id": "IO-qEUmJ5JQg"
      },
      "source": [
        "scaler = StandardScaler()\n",
        "train_features = scaler.fit_transform(train_features)\n",
        "\n",
        "val_features = scaler.transform(val_features)\n",
        "test_features = scaler.transform(test_features)\n",
        "\n",
        "train_features = np.clip(train_features, -5, 5)\n",
        "val_features = np.clip(val_features, -5, 5)\n",
        "test_features = np.clip(test_features, -5, 5)\n"
      ],
      "execution_count": null,
      "outputs": []
    },
    {
      "cell_type": "markdown",
      "metadata": {
        "id": "ESvy8DSYlGUU"
      },
      "source": [
        "Adjust model input dim because of LSTM"
      ]
    },
    {
      "cell_type": "code",
      "metadata": {
        "id": "ZNQbG84ClEb8"
      },
      "source": [
        "train_features = np.expand_dims(train_features, 1)\n",
        "val_features = np.expand_dims(val_features, 1)\n",
        "test_features = np.expand_dims(test_features, 1)"
      ],
      "execution_count": null,
      "outputs": []
    },
    {
      "cell_type": "markdown",
      "metadata": {
        "id": "ciKNINi7-dFB"
      },
      "source": [
        "#### Initial bias\n",
        "\n",
        "The correct bias to set can be derived from:\n",
        "\n",
        "$$ p_0 = pos/(pos + neg) = 1/(1+e^{-b_0}) $$\n",
        "$$ b_0 = -log_e(1/p_0 - 1) $$\n",
        "$$ b_0 = log_e(pos/neg)$$\n",
        "\n",
        "Set that as the initial bias, and the model will give much more reasonable initial guesses."
      ]
    },
    {
      "cell_type": "code",
      "metadata": {
        "id": "F5KWPSjjstUS"
      },
      "source": [
        "initial_bias = np.log([pos/neg])"
      ],
      "execution_count": null,
      "outputs": []
    },
    {
      "cell_type": "markdown",
      "metadata": {
        "id": "lRgMMwGp-6cP"
      },
      "source": [
        "### Define the model and metrics\n",
        "\n",
        "Define a function that creates a simple neural network with a densly connected hidden layer, a [dropout](https://developers.google.com/machine-learning/glossary/#dropout_regularization) layer to reduce overfitting, and an output sigmoid layer that returns the probability of recession. Also, pick the optimal set of hyperparameters with [Keras Tunner](https://www.tensorflow.org/tutorials/keras/keras_tuner)."
      ]
    },
    {
      "cell_type": "code",
      "metadata": {
        "id": "3JQDzUqT3UYG"
      },
      "source": [
        "METRICS = [\n",
        "      keras.metrics.TruePositives(name='tp'),\n",
        "      keras.metrics.FalsePositives(name='fp'),\n",
        "      keras.metrics.TrueNegatives(name='tn'),\n",
        "      keras.metrics.FalseNegatives(name='fn'), \n",
        "      keras.metrics.BinaryAccuracy(name='accuracy'),\n",
        "      keras.metrics.Precision(name='precision'),\n",
        "      keras.metrics.Recall(name='recall'),\n",
        "      keras.metrics.AUC(name='auc'),\n",
        "]\n",
        "\n",
        "\n",
        "def make_model(hp, metrics = METRICS, output_bias = initial_bias):  \n",
        "  output_bias = tf.keras.initializers.Constant(output_bias)\n",
        "\n",
        "  model = keras.Sequential()\n",
        "  #model.add(keras.layers.Flatten(input_shape=(train_features.shape[-1],))) \n",
        "  \n",
        "  # Tune the number of units in the layers\n",
        "  # Choose an optimal value between 16-256\n",
        "  hp_units = hp.Int('units', min_value = 16, max_value = 256, step = 16)\n",
        "  \n",
        "  model.add(keras.layers.LSTM(units = hp_units, input_shape = (1,train_features.shape[-1],), dropout = 0.3))\n",
        "\n",
        "  model.add(keras.layers.Dense(units = hp_units, activation = 'relu')) #Dense layer 1\n",
        "  model.add(keras.layers.Dense(units = hp_units, activation = 'relu')) #Dense layer 2\n",
        "  model.add(keras.layers.Dense(units = hp_units, activation = 'relu')) #Dense layer 3\n",
        "  model.add(keras.layers.Dense(units = hp_units, activation = 'relu')) #Dense layer 4\n",
        "\n",
        "\n",
        "  \n",
        "  model.add(keras.layers.Dropout(0.5)) # To prevent overfiting\n",
        "\n",
        "  model.add(keras.layers.Dense(1, activation='sigmoid', bias_initializer=output_bias)) # Output layer\n",
        "\n",
        "  # Tune the learning rate for the optimizer \n",
        "  # Choose an optimal value from 0.01, 0.001, or 0.0001\n",
        "  hp_learning_rate = hp.Choice('learning_rate', values = [1e-2, 1e-3, 1e-4])\n",
        "\n",
        "  model.compile(optimizer = keras.optimizers.Adam(learning_rate = hp_learning_rate),\n",
        "                loss = keras.losses.BinaryCrossentropy(), \n",
        "                metrics = metrics)\n",
        "  \n",
        "  return model\n"
      ],
      "execution_count": null,
      "outputs": []
    },
    {
      "cell_type": "code",
      "metadata": {
        "id": "Lu5g3-g6T7q0"
      },
      "source": [
        "tuner = kt.Hyperband(make_model,\n",
        "                     kt.Objective('val_auc', direction='max'), # Maximizes Area Under the ROC Curve\n",
        "                     max_epochs = 10,\n",
        "                     factor = 3,)\n",
        "                     #project_name = 'TL4BC')"
      ],
      "execution_count": null,
      "outputs": []
    },
    {
      "cell_type": "markdown",
      "metadata": {
        "id": "XBkamfpAAG-Y"
      },
      "source": [
        "#### Understanding useful metrics\n",
        "\n",
        "Notice that there are a few metrics defined above that can be computed by the model that will be helpful when evaluating the performance.\n",
        "\n",
        "\n",
        "\n",
        "*   **False** negatives and **false** positives are samples that were **incorrectly** classified\n",
        "*   **True** negatives and **true** positives are samples that were **correctly** classified\n",
        "*   **Accuracy** is the percentage of examples correctly classified\n",
        ">   $\\frac{\\text{true samples}}{\\text{total samples}}$\n",
        "*   **Precision** is the percentage of **predicted** positives that were correctly classified\n",
        ">   $\\frac{\\text{true positives}}{\\text{true positives + false positives}}$\n",
        "*   **Recall** is the percentage of **actual** positives that were correctly classified\n",
        ">   $\\frac{\\text{true positives}}{\\text{true positives + false negatives}}$\n",
        "*   **AUC** refers to the Area Under the Curve of a Receiver Operating Characteristic curve (ROC-AUC). This metric is equal to the probability that a classifier will rank a random positive sample higher than than a random negative sample.\n",
        "\n",
        "\n",
        "Read more:\n",
        "*  [True vs. False and Positive vs. Negative](https://developers.google.com/machine-learning/crash-course/classification/true-false-positive-negative)\n",
        "*  [Accuracy](https://developers.google.com/machine-learning/crash-course/classification/accuracy)\n",
        "*   [Precision and Recall](https://developers.google.com/machine-learning/crash-course/classification/precision-and-recall)\n",
        "*   [ROC-AUC](https://developers.google.com/machine-learning/crash-course/classification/roc-and-auc)"
      ]
    },
    {
      "cell_type": "markdown",
      "metadata": {
        "id": "CrOWQtQuIoz9"
      },
      "source": [
        "### Train the model"
      ]
    },
    {
      "cell_type": "markdown",
      "metadata": {
        "id": "4hKix_JPH5lq"
      },
      "source": [
        "Before running the hyperparameter search, define a callback to clear the training outputs at the end of every training step."
      ]
    },
    {
      "cell_type": "code",
      "metadata": {
        "id": "0vbL_9RaH6Xv"
      },
      "source": [
        "class ClearTrainingOutput(tf.keras.callbacks.Callback):\n",
        "  def on_train_end(*args, **kwargs):\n",
        "    IPython.display.clear_output(wait = True)"
      ],
      "execution_count": null,
      "outputs": []
    },
    {
      "cell_type": "markdown",
      "metadata": {
        "id": "LIzOvr5AIT8L"
      },
      "source": [
        "Run the hyperparameter search. The arguments for the search method are the same as those used for tf.keras.model.fit in addition to the callback above."
      ]
    },
    {
      "cell_type": "code",
      "metadata": {
        "id": "sA-2VTjfIUfL",
        "colab": {
          "base_uri": "https://localhost:8080/",
          "height": 380
        },
        "outputId": "ca3efd5f-9e81-448a-96cb-191ff00eebd0"
      },
      "source": [
        "tuner.search(train_features, train_labels,\n",
        "             epochs=50,\n",
        "             validation_data=(val_features, val_labels), callbacks = [ClearTrainingOutput()])\n",
        "\n",
        "# Get the optimal hyperparameters\n",
        "best_hps = tuner.get_best_hyperparameters(num_trials = 1)[0]\n",
        "\n",
        "print(f\"\"\"\n",
        "The hyperparameter search is complete. The optimal number of units in the densely-connected\n",
        "layers is {best_hps.get('units')} and the optimal learning rate for the optimizer\n",
        "is {best_hps.get('learning_rate')}.\n",
        "\"\"\")"
      ],
      "execution_count": null,
      "outputs": [
        {
          "output_type": "display_data",
          "data": {
            "text/html": [
              "<span style=\"color:#4527A0\"><h1 style=\"font-size:18px\">Trial complete</h1></span>"
            ],
            "text/plain": [
              "<IPython.core.display.HTML object>"
            ]
          },
          "metadata": {
            "tags": []
          }
        },
        {
          "output_type": "display_data",
          "data": {
            "text/html": [
              "<span style=\"color:#4527A0\"><h1 style=\"font-size:18px\">Trial summary</h1></span>"
            ],
            "text/plain": [
              "<IPython.core.display.HTML object>"
            ]
          },
          "metadata": {
            "tags": []
          }
        },
        {
          "output_type": "display_data",
          "data": {
            "text/html": [
              "<span style=\"color:cyan\"> |-Trial ID: bd4ea509626642ec17431d1c20543db8</span>"
            ],
            "text/plain": [
              "<IPython.core.display.HTML object>"
            ]
          },
          "metadata": {
            "tags": []
          }
        },
        {
          "output_type": "display_data",
          "data": {
            "text/html": [
              "<span style=\"color:cyan\"> |-Score: 0.9054054021835327</span>"
            ],
            "text/plain": [
              "<IPython.core.display.HTML object>"
            ]
          },
          "metadata": {
            "tags": []
          }
        },
        {
          "output_type": "display_data",
          "data": {
            "text/html": [
              "<span style=\"color:cyan\"> |-Best step: 0</span>"
            ],
            "text/plain": [
              "<IPython.core.display.HTML object>"
            ]
          },
          "metadata": {
            "tags": []
          }
        },
        {
          "output_type": "display_data",
          "data": {
            "text/html": [
              "<span style=\"color:#7E57C2\"><h2 style=\"font-size:16px\">Hyperparameters:</h2></span>"
            ],
            "text/plain": [
              "<IPython.core.display.HTML object>"
            ]
          },
          "metadata": {
            "tags": []
          }
        },
        {
          "output_type": "display_data",
          "data": {
            "text/html": [
              "<span style=\"color:cyan\"> |-learning_rate: 0.01</span>"
            ],
            "text/plain": [
              "<IPython.core.display.HTML object>"
            ]
          },
          "metadata": {
            "tags": []
          }
        },
        {
          "output_type": "display_data",
          "data": {
            "text/html": [
              "<span style=\"color:blue\"> |-tuner/bracket: 0</span>"
            ],
            "text/plain": [
              "<IPython.core.display.HTML object>"
            ]
          },
          "metadata": {
            "tags": []
          }
        },
        {
          "output_type": "display_data",
          "data": {
            "text/html": [
              "<span style=\"color:cyan\"> |-tuner/epochs: 10</span>"
            ],
            "text/plain": [
              "<IPython.core.display.HTML object>"
            ]
          },
          "metadata": {
            "tags": []
          }
        },
        {
          "output_type": "display_data",
          "data": {
            "text/html": [
              "<span style=\"color:blue\"> |-tuner/initial_epoch: 0</span>"
            ],
            "text/plain": [
              "<IPython.core.display.HTML object>"
            ]
          },
          "metadata": {
            "tags": []
          }
        },
        {
          "output_type": "display_data",
          "data": {
            "text/html": [
              "<span style=\"color:cyan\"> |-tuner/round: 0</span>"
            ],
            "text/plain": [
              "<IPython.core.display.HTML object>"
            ]
          },
          "metadata": {
            "tags": []
          }
        },
        {
          "output_type": "display_data",
          "data": {
            "text/html": [
              "<span style=\"color:blue\"> |-units: 224</span>"
            ],
            "text/plain": [
              "<IPython.core.display.HTML object>"
            ]
          },
          "metadata": {
            "tags": []
          }
        },
        {
          "output_type": "stream",
          "text": [
            "INFO:tensorflow:Oracle triggered exit\n",
            "\n",
            "The hyperparameter search is complete. The optimal number of units in the densely-connected\n",
            "layers is 176 and the optimal learning rate for the optimizer\n",
            "is 0.01.\n",
            "\n"
          ],
          "name": "stdout"
        }
      ]
    },
    {
      "cell_type": "markdown",
      "metadata": {
        "id": "cVPnf6mIJodT"
      },
      "source": [
        "Retrain the model with the optimal hyperparameters from the search."
      ]
    },
    {
      "cell_type": "code",
      "metadata": {
        "id": "LqLQQDGKJqkk",
        "colab": {
          "base_uri": "https://localhost:8080/"
        },
        "outputId": "a2718c47-509c-45b5-b556-9ab46329e9e4"
      },
      "source": [
        "# Build the model with the optimal hyperparameters and train it on the data\n",
        "model = tuner.hypermodel.build(best_hps)\n",
        "baseline_history = model.fit(train_features, train_labels,\n",
        "             epochs=50,\n",
        "             validation_data=(val_features, val_labels))"
      ],
      "execution_count": null,
      "outputs": [
        {
          "output_type": "stream",
          "text": [
            "Epoch 1/50\n",
            "3/3 [==============================] - 1s 389ms/step - loss: 0.4839 - tp: 0.0000e+00 - fp: 0.0000e+00 - tn: 109.0000 - fn: 18.0000 - accuracy: 0.8583 - precision: 0.0000e+00 - recall: 0.0000e+00 - auc: 0.6269 - val_loss: 0.1935 - val_tp: 0.0000e+00 - val_fp: 0.0000e+00 - val_tn: 37.0000 - val_fn: 2.0000 - val_accuracy: 0.9487 - val_precision: 0.0000e+00 - val_recall: 0.0000e+00 - val_auc: 0.8378\n",
            "Epoch 2/50\n",
            "3/3 [==============================] - 0s 17ms/step - loss: 0.4801 - tp: 0.0000e+00 - fp: 0.0000e+00 - tn: 72.0000 - fn: 16.0000 - accuracy: 0.8182 - precision: 0.0000e+00 - recall: 0.0000e+00 - auc: 0.5885 - val_loss: 0.2022 - val_tp: 0.0000e+00 - val_fp: 0.0000e+00 - val_tn: 37.0000 - val_fn: 2.0000 - val_accuracy: 0.9487 - val_precision: 0.0000e+00 - val_recall: 0.0000e+00 - val_auc: 0.9459\n",
            "Epoch 3/50\n",
            "3/3 [==============================] - 0s 16ms/step - loss: 0.4219 - tp: 0.0000e+00 - fp: 0.0000e+00 - tn: 72.0000 - fn: 16.0000 - accuracy: 0.8182 - precision: 0.0000e+00 - recall: 0.0000e+00 - auc: 0.7361 - val_loss: 0.7879 - val_tp: 0.0000e+00 - val_fp: 0.0000e+00 - val_tn: 37.0000 - val_fn: 2.0000 - val_accuracy: 0.9487 - val_precision: 0.0000e+00 - val_recall: 0.0000e+00 - val_auc: 0.5000\n",
            "Epoch 4/50\n",
            "3/3 [==============================] - 0s 15ms/step - loss: 0.4001 - tp: 0.0000e+00 - fp: 0.0000e+00 - tn: 72.0000 - fn: 16.0000 - accuracy: 0.8182 - precision: 0.0000e+00 - recall: 0.0000e+00 - auc: 0.7101 - val_loss: 1.9187 - val_tp: 0.0000e+00 - val_fp: 0.0000e+00 - val_tn: 37.0000 - val_fn: 2.0000 - val_accuracy: 0.9487 - val_precision: 0.0000e+00 - val_recall: 0.0000e+00 - val_auc: 0.5000\n",
            "Epoch 5/50\n",
            "3/3 [==============================] - 0s 21ms/step - loss: 0.3508 - tp: 2.0000 - fp: 2.0000 - tn: 70.0000 - fn: 14.0000 - accuracy: 0.8182 - precision: 0.5000 - recall: 0.1250 - auc: 0.8351 - val_loss: 2.1861 - val_tp: 0.0000e+00 - val_fp: 0.0000e+00 - val_tn: 37.0000 - val_fn: 2.0000 - val_accuracy: 0.9487 - val_precision: 0.0000e+00 - val_recall: 0.0000e+00 - val_auc: 0.5000\n",
            "Epoch 6/50\n",
            "3/3 [==============================] - 0s 14ms/step - loss: 0.4502 - tp: 4.0000 - fp: 7.0000 - tn: 65.0000 - fn: 12.0000 - accuracy: 0.7841 - precision: 0.3636 - recall: 0.2500 - auc: 0.7370 - val_loss: 5.7407 - val_tp: 0.0000e+00 - val_fp: 0.0000e+00 - val_tn: 37.0000 - val_fn: 2.0000 - val_accuracy: 0.9487 - val_precision: 0.0000e+00 - val_recall: 0.0000e+00 - val_auc: 0.5000\n",
            "Epoch 7/50\n",
            "3/3 [==============================] - 0s 14ms/step - loss: 0.3583 - tp: 0.0000e+00 - fp: 0.0000e+00 - tn: 72.0000 - fn: 16.0000 - accuracy: 0.8182 - precision: 0.0000e+00 - recall: 0.0000e+00 - auc: 0.7982 - val_loss: 3.7735 - val_tp: 0.0000e+00 - val_fp: 0.0000e+00 - val_tn: 37.0000 - val_fn: 2.0000 - val_accuracy: 0.9487 - val_precision: 0.0000e+00 - val_recall: 0.0000e+00 - val_auc: 0.5000\n",
            "Epoch 8/50\n",
            "3/3 [==============================] - 0s 15ms/step - loss: 0.3645 - tp: 3.0000 - fp: 2.0000 - tn: 70.0000 - fn: 13.0000 - accuracy: 0.8295 - precision: 0.6000 - recall: 0.1875 - auc: 0.8116 - val_loss: 3.0854 - val_tp: 0.0000e+00 - val_fp: 0.0000e+00 - val_tn: 37.0000 - val_fn: 2.0000 - val_accuracy: 0.9487 - val_precision: 0.0000e+00 - val_recall: 0.0000e+00 - val_auc: 0.5000\n",
            "Epoch 9/50\n",
            "3/3 [==============================] - 0s 14ms/step - loss: 0.3515 - tp: 4.0000 - fp: 0.0000e+00 - tn: 72.0000 - fn: 12.0000 - accuracy: 0.8636 - precision: 1.0000 - recall: 0.2500 - auc: 0.8190 - val_loss: 3.9533 - val_tp: 0.0000e+00 - val_fp: 0.0000e+00 - val_tn: 37.0000 - val_fn: 2.0000 - val_accuracy: 0.9487 - val_precision: 0.0000e+00 - val_recall: 0.0000e+00 - val_auc: 0.5000\n",
            "Epoch 10/50\n",
            "3/3 [==============================] - 0s 14ms/step - loss: 0.3356 - tp: 3.0000 - fp: 1.0000 - tn: 71.0000 - fn: 13.0000 - accuracy: 0.8409 - precision: 0.7500 - recall: 0.1875 - auc: 0.8390 - val_loss: 5.7452 - val_tp: 0.0000e+00 - val_fp: 0.0000e+00 - val_tn: 37.0000 - val_fn: 2.0000 - val_accuracy: 0.9487 - val_precision: 0.0000e+00 - val_recall: 0.0000e+00 - val_auc: 0.5000\n",
            "Epoch 11/50\n",
            "3/3 [==============================] - 0s 14ms/step - loss: 0.3650 - tp: 4.0000 - fp: 1.0000 - tn: 71.0000 - fn: 12.0000 - accuracy: 0.8523 - precision: 0.8000 - recall: 0.2500 - auc: 0.7496 - val_loss: 4.0952 - val_tp: 0.0000e+00 - val_fp: 0.0000e+00 - val_tn: 37.0000 - val_fn: 2.0000 - val_accuracy: 0.9487 - val_precision: 0.0000e+00 - val_recall: 0.0000e+00 - val_auc: 0.5000\n",
            "Epoch 12/50\n",
            "3/3 [==============================] - 0s 14ms/step - loss: 0.3966 - tp: 7.0000 - fp: 4.0000 - tn: 68.0000 - fn: 9.0000 - accuracy: 0.8523 - precision: 0.6364 - recall: 0.4375 - auc: 0.7817 - val_loss: 2.5655 - val_tp: 0.0000e+00 - val_fp: 0.0000e+00 - val_tn: 37.0000 - val_fn: 2.0000 - val_accuracy: 0.9487 - val_precision: 0.0000e+00 - val_recall: 0.0000e+00 - val_auc: 0.5000\n",
            "Epoch 13/50\n",
            "3/3 [==============================] - 0s 14ms/step - loss: 0.3846 - tp: 7.0000 - fp: 5.0000 - tn: 67.0000 - fn: 9.0000 - accuracy: 0.8409 - precision: 0.5833 - recall: 0.4375 - auc: 0.7817 - val_loss: 2.8883 - val_tp: 0.0000e+00 - val_fp: 0.0000e+00 - val_tn: 37.0000 - val_fn: 2.0000 - val_accuracy: 0.9487 - val_precision: 0.0000e+00 - val_recall: 0.0000e+00 - val_auc: 0.5000\n",
            "Epoch 14/50\n",
            "3/3 [==============================] - 0s 16ms/step - loss: 0.3789 - tp: 1.0000 - fp: 0.0000e+00 - tn: 72.0000 - fn: 15.0000 - accuracy: 0.8295 - precision: 1.0000 - recall: 0.0625 - auc: 0.7865 - val_loss: 3.7691 - val_tp: 0.0000e+00 - val_fp: 0.0000e+00 - val_tn: 37.0000 - val_fn: 2.0000 - val_accuracy: 0.9487 - val_precision: 0.0000e+00 - val_recall: 0.0000e+00 - val_auc: 0.5000\n",
            "Epoch 15/50\n",
            "3/3 [==============================] - 0s 15ms/step - loss: 0.3599 - tp: 0.0000e+00 - fp: 0.0000e+00 - tn: 72.0000 - fn: 16.0000 - accuracy: 0.8182 - precision: 0.0000e+00 - recall: 0.0000e+00 - auc: 0.8472 - val_loss: 4.7394 - val_tp: 0.0000e+00 - val_fp: 0.0000e+00 - val_tn: 37.0000 - val_fn: 2.0000 - val_accuracy: 0.9487 - val_precision: 0.0000e+00 - val_recall: 0.0000e+00 - val_auc: 0.5000\n",
            "Epoch 16/50\n",
            "3/3 [==============================] - 0s 20ms/step - loss: 0.3213 - tp: 2.0000 - fp: 0.0000e+00 - tn: 72.0000 - fn: 14.0000 - accuracy: 0.8409 - precision: 1.0000 - recall: 0.1250 - auc: 0.8893 - val_loss: 5.4140 - val_tp: 0.0000e+00 - val_fp: 0.0000e+00 - val_tn: 37.0000 - val_fn: 2.0000 - val_accuracy: 0.9487 - val_precision: 0.0000e+00 - val_recall: 0.0000e+00 - val_auc: 0.5000\n",
            "Epoch 17/50\n",
            "3/3 [==============================] - 0s 14ms/step - loss: 0.3324 - tp: 6.0000 - fp: 2.0000 - tn: 70.0000 - fn: 10.0000 - accuracy: 0.8636 - precision: 0.7500 - recall: 0.3750 - auc: 0.8060 - val_loss: 5.7077 - val_tp: 0.0000e+00 - val_fp: 0.0000e+00 - val_tn: 37.0000 - val_fn: 2.0000 - val_accuracy: 0.9487 - val_precision: 0.0000e+00 - val_recall: 0.0000e+00 - val_auc: 0.5000\n",
            "Epoch 18/50\n",
            "3/3 [==============================] - 0s 14ms/step - loss: 0.3037 - tp: 7.0000 - fp: 2.0000 - tn: 70.0000 - fn: 9.0000 - accuracy: 0.8750 - precision: 0.7778 - recall: 0.4375 - auc: 0.8424 - val_loss: 5.9253 - val_tp: 0.0000e+00 - val_fp: 0.0000e+00 - val_tn: 37.0000 - val_fn: 2.0000 - val_accuracy: 0.9487 - val_precision: 0.0000e+00 - val_recall: 0.0000e+00 - val_auc: 0.5000\n",
            "Epoch 19/50\n",
            "3/3 [==============================] - 0s 14ms/step - loss: 0.3483 - tp: 7.0000 - fp: 2.0000 - tn: 70.0000 - fn: 9.0000 - accuracy: 0.8750 - precision: 0.7778 - recall: 0.4375 - auc: 0.8542 - val_loss: 6.7603 - val_tp: 0.0000e+00 - val_fp: 0.0000e+00 - val_tn: 37.0000 - val_fn: 2.0000 - val_accuracy: 0.9487 - val_precision: 0.0000e+00 - val_recall: 0.0000e+00 - val_auc: 0.5000\n",
            "Epoch 20/50\n",
            "3/3 [==============================] - 0s 13ms/step - loss: 0.3222 - tp: 7.0000 - fp: 2.0000 - tn: 70.0000 - fn: 9.0000 - accuracy: 0.8750 - precision: 0.7778 - recall: 0.4375 - auc: 0.8160 - val_loss: 7.8574 - val_tp: 0.0000e+00 - val_fp: 0.0000e+00 - val_tn: 37.0000 - val_fn: 2.0000 - val_accuracy: 0.9487 - val_precision: 0.0000e+00 - val_recall: 0.0000e+00 - val_auc: 0.5000\n",
            "Epoch 21/50\n",
            "3/3 [==============================] - 0s 14ms/step - loss: 0.3201 - tp: 4.0000 - fp: 1.0000 - tn: 71.0000 - fn: 12.0000 - accuracy: 0.8523 - precision: 0.8000 - recall: 0.2500 - auc: 0.8533 - val_loss: 7.9504 - val_tp: 0.0000e+00 - val_fp: 0.0000e+00 - val_tn: 37.0000 - val_fn: 2.0000 - val_accuracy: 0.9487 - val_precision: 0.0000e+00 - val_recall: 0.0000e+00 - val_auc: 0.5000\n",
            "Epoch 22/50\n",
            "3/3 [==============================] - 0s 14ms/step - loss: 0.3270 - tp: 5.0000 - fp: 1.0000 - tn: 71.0000 - fn: 11.0000 - accuracy: 0.8636 - precision: 0.8333 - recall: 0.3125 - auc: 0.8485 - val_loss: 7.4887 - val_tp: 0.0000e+00 - val_fp: 0.0000e+00 - val_tn: 37.0000 - val_fn: 2.0000 - val_accuracy: 0.9487 - val_precision: 0.0000e+00 - val_recall: 0.0000e+00 - val_auc: 0.5000\n",
            "Epoch 23/50\n",
            "3/3 [==============================] - 0s 16ms/step - loss: 0.3084 - tp: 7.0000 - fp: 2.0000 - tn: 70.0000 - fn: 9.0000 - accuracy: 0.8750 - precision: 0.7778 - recall: 0.4375 - auc: 0.8733 - val_loss: 7.5623 - val_tp: 0.0000e+00 - val_fp: 0.0000e+00 - val_tn: 37.0000 - val_fn: 2.0000 - val_accuracy: 0.9487 - val_precision: 0.0000e+00 - val_recall: 0.0000e+00 - val_auc: 0.5000\n",
            "Epoch 24/50\n",
            "3/3 [==============================] - 0s 14ms/step - loss: 0.2818 - tp: 7.0000 - fp: 2.0000 - tn: 70.0000 - fn: 9.0000 - accuracy: 0.8750 - precision: 0.7778 - recall: 0.4375 - auc: 0.8867 - val_loss: 8.8217 - val_tp: 0.0000e+00 - val_fp: 0.0000e+00 - val_tn: 37.0000 - val_fn: 2.0000 - val_accuracy: 0.9487 - val_precision: 0.0000e+00 - val_recall: 0.0000e+00 - val_auc: 0.5000\n",
            "Epoch 25/50\n",
            "3/3 [==============================] - 0s 13ms/step - loss: 0.3406 - tp: 7.0000 - fp: 1.0000 - tn: 71.0000 - fn: 9.0000 - accuracy: 0.8864 - precision: 0.8750 - recall: 0.4375 - auc: 0.8234 - val_loss: 9.2315 - val_tp: 0.0000e+00 - val_fp: 0.0000e+00 - val_tn: 37.0000 - val_fn: 2.0000 - val_accuracy: 0.9487 - val_precision: 0.0000e+00 - val_recall: 0.0000e+00 - val_auc: 0.5000\n",
            "Epoch 26/50\n",
            "3/3 [==============================] - 0s 13ms/step - loss: 0.3136 - tp: 5.0000 - fp: 1.0000 - tn: 71.0000 - fn: 11.0000 - accuracy: 0.8636 - precision: 0.8333 - recall: 0.3125 - auc: 0.8455 - val_loss: 7.7162 - val_tp: 0.0000e+00 - val_fp: 0.0000e+00 - val_tn: 37.0000 - val_fn: 2.0000 - val_accuracy: 0.9487 - val_precision: 0.0000e+00 - val_recall: 0.0000e+00 - val_auc: 0.5000\n",
            "Epoch 27/50\n",
            "3/3 [==============================] - 0s 13ms/step - loss: 0.2981 - tp: 7.0000 - fp: 1.0000 - tn: 71.0000 - fn: 9.0000 - accuracy: 0.8864 - precision: 0.8750 - recall: 0.4375 - auc: 0.8620 - val_loss: 5.3932 - val_tp: 0.0000e+00 - val_fp: 0.0000e+00 - val_tn: 37.0000 - val_fn: 2.0000 - val_accuracy: 0.9487 - val_precision: 0.0000e+00 - val_recall: 0.0000e+00 - val_auc: 0.5000\n",
            "Epoch 28/50\n",
            "3/3 [==============================] - 0s 18ms/step - loss: 0.3433 - tp: 7.0000 - fp: 3.0000 - tn: 69.0000 - fn: 9.0000 - accuracy: 0.8636 - precision: 0.7000 - recall: 0.4375 - auc: 0.7704 - val_loss: 5.0593 - val_tp: 0.0000e+00 - val_fp: 0.0000e+00 - val_tn: 37.0000 - val_fn: 2.0000 - val_accuracy: 0.9487 - val_precision: 0.0000e+00 - val_recall: 0.0000e+00 - val_auc: 0.5000\n",
            "Epoch 29/50\n",
            "3/3 [==============================] - 0s 15ms/step - loss: 0.3090 - tp: 7.0000 - fp: 2.0000 - tn: 70.0000 - fn: 9.0000 - accuracy: 0.8750 - precision: 0.7778 - recall: 0.4375 - auc: 0.8581 - val_loss: 7.1808 - val_tp: 0.0000e+00 - val_fp: 0.0000e+00 - val_tn: 37.0000 - val_fn: 2.0000 - val_accuracy: 0.9487 - val_precision: 0.0000e+00 - val_recall: 0.0000e+00 - val_auc: 0.5000\n",
            "Epoch 30/50\n",
            "3/3 [==============================] - 0s 17ms/step - loss: 0.3318 - tp: 3.0000 - fp: 1.0000 - tn: 71.0000 - fn: 13.0000 - accuracy: 0.8409 - precision: 0.7500 - recall: 0.1875 - auc: 0.8385 - val_loss: 8.5601 - val_tp: 0.0000e+00 - val_fp: 0.0000e+00 - val_tn: 37.0000 - val_fn: 2.0000 - val_accuracy: 0.9487 - val_precision: 0.0000e+00 - val_recall: 0.0000e+00 - val_auc: 0.5000\n",
            "Epoch 31/50\n",
            "3/3 [==============================] - 0s 13ms/step - loss: 0.3482 - tp: 4.0000 - fp: 0.0000e+00 - tn: 72.0000 - fn: 12.0000 - accuracy: 0.8636 - precision: 1.0000 - recall: 0.2500 - auc: 0.7700 - val_loss: 4.8703 - val_tp: 0.0000e+00 - val_fp: 0.0000e+00 - val_tn: 37.0000 - val_fn: 2.0000 - val_accuracy: 0.9487 - val_precision: 0.0000e+00 - val_recall: 0.0000e+00 - val_auc: 0.5000\n",
            "Epoch 32/50\n",
            "3/3 [==============================] - 0s 14ms/step - loss: 0.3454 - tp: 7.0000 - fp: 3.0000 - tn: 69.0000 - fn: 9.0000 - accuracy: 0.8636 - precision: 0.7000 - recall: 0.4375 - auc: 0.8151 - val_loss: 2.5129 - val_tp: 0.0000e+00 - val_fp: 0.0000e+00 - val_tn: 37.0000 - val_fn: 2.0000 - val_accuracy: 0.9487 - val_precision: 0.0000e+00 - val_recall: 0.0000e+00 - val_auc: 0.5000\n",
            "Epoch 33/50\n",
            "3/3 [==============================] - 0s 17ms/step - loss: 0.4009 - tp: 5.0000 - fp: 5.0000 - tn: 67.0000 - fn: 11.0000 - accuracy: 0.8182 - precision: 0.5000 - recall: 0.3125 - auc: 0.7031 - val_loss: 3.0461 - val_tp: 0.0000e+00 - val_fp: 0.0000e+00 - val_tn: 37.0000 - val_fn: 2.0000 - val_accuracy: 0.9487 - val_precision: 0.0000e+00 - val_recall: 0.0000e+00 - val_auc: 0.5000\n",
            "Epoch 34/50\n",
            "3/3 [==============================] - 0s 15ms/step - loss: 0.3581 - tp: 0.0000e+00 - fp: 0.0000e+00 - tn: 72.0000 - fn: 16.0000 - accuracy: 0.8182 - precision: 0.0000e+00 - recall: 0.0000e+00 - auc: 0.8333 - val_loss: 4.7040 - val_tp: 0.0000e+00 - val_fp: 0.0000e+00 - val_tn: 37.0000 - val_fn: 2.0000 - val_accuracy: 0.9487 - val_precision: 0.0000e+00 - val_recall: 0.0000e+00 - val_auc: 0.5000\n",
            "Epoch 35/50\n",
            "3/3 [==============================] - 0s 14ms/step - loss: 0.3480 - tp: 0.0000e+00 - fp: 0.0000e+00 - tn: 72.0000 - fn: 16.0000 - accuracy: 0.8182 - precision: 0.0000e+00 - recall: 0.0000e+00 - auc: 0.8785 - val_loss: 6.5104 - val_tp: 0.0000e+00 - val_fp: 0.0000e+00 - val_tn: 37.0000 - val_fn: 2.0000 - val_accuracy: 0.9487 - val_precision: 0.0000e+00 - val_recall: 0.0000e+00 - val_auc: 0.5000\n",
            "Epoch 36/50\n",
            "3/3 [==============================] - 0s 15ms/step - loss: 0.3263 - tp: 4.0000 - fp: 3.0000 - tn: 69.0000 - fn: 12.0000 - accuracy: 0.8295 - precision: 0.5714 - recall: 0.2500 - auc: 0.8789 - val_loss: 7.8524 - val_tp: 0.0000e+00 - val_fp: 0.0000e+00 - val_tn: 37.0000 - val_fn: 2.0000 - val_accuracy: 0.9487 - val_precision: 0.0000e+00 - val_recall: 0.0000e+00 - val_auc: 0.5000\n",
            "Epoch 37/50\n",
            "3/3 [==============================] - 0s 14ms/step - loss: 0.2963 - tp: 6.0000 - fp: 1.0000 - tn: 71.0000 - fn: 10.0000 - accuracy: 0.8750 - precision: 0.8571 - recall: 0.3750 - auc: 0.9084 - val_loss: 9.0796 - val_tp: 0.0000e+00 - val_fp: 0.0000e+00 - val_tn: 37.0000 - val_fn: 2.0000 - val_accuracy: 0.9487 - val_precision: 0.0000e+00 - val_recall: 0.0000e+00 - val_auc: 0.5000\n",
            "Epoch 38/50\n",
            "3/3 [==============================] - 0s 13ms/step - loss: 0.3159 - tp: 7.0000 - fp: 1.0000 - tn: 71.0000 - fn: 9.0000 - accuracy: 0.8864 - precision: 0.8750 - recall: 0.4375 - auc: 0.8338 - val_loss: 10.4972 - val_tp: 0.0000e+00 - val_fp: 0.0000e+00 - val_tn: 37.0000 - val_fn: 2.0000 - val_accuracy: 0.9487 - val_precision: 0.0000e+00 - val_recall: 0.0000e+00 - val_auc: 0.5000\n",
            "Epoch 39/50\n",
            "3/3 [==============================] - 0s 15ms/step - loss: 0.3021 - tp: 7.0000 - fp: 1.0000 - tn: 71.0000 - fn: 9.0000 - accuracy: 0.8864 - precision: 0.8750 - recall: 0.4375 - auc: 0.8516 - val_loss: 11.7832 - val_tp: 0.0000e+00 - val_fp: 0.0000e+00 - val_tn: 37.0000 - val_fn: 2.0000 - val_accuracy: 0.9487 - val_precision: 0.0000e+00 - val_recall: 0.0000e+00 - val_auc: 0.5000\n",
            "Epoch 40/50\n",
            "3/3 [==============================] - 0s 14ms/step - loss: 0.2833 - tp: 7.0000 - fp: 1.0000 - tn: 71.0000 - fn: 9.0000 - accuracy: 0.8864 - precision: 0.8750 - recall: 0.4375 - auc: 0.8520 - val_loss: 13.3975 - val_tp: 0.0000e+00 - val_fp: 0.0000e+00 - val_tn: 37.0000 - val_fn: 2.0000 - val_accuracy: 0.9487 - val_precision: 0.0000e+00 - val_recall: 0.0000e+00 - val_auc: 0.5000\n",
            "Epoch 41/50\n",
            "3/3 [==============================] - 0s 14ms/step - loss: 0.2856 - tp: 7.0000 - fp: 1.0000 - tn: 71.0000 - fn: 9.0000 - accuracy: 0.8864 - precision: 0.8750 - recall: 0.4375 - auc: 0.8607 - val_loss: 14.4729 - val_tp: 0.0000e+00 - val_fp: 0.0000e+00 - val_tn: 37.0000 - val_fn: 2.0000 - val_accuracy: 0.9487 - val_precision: 0.0000e+00 - val_recall: 0.0000e+00 - val_auc: 0.5000\n",
            "Epoch 42/50\n",
            "3/3 [==============================] - 0s 14ms/step - loss: 0.2827 - tp: 7.0000 - fp: 1.0000 - tn: 71.0000 - fn: 9.0000 - accuracy: 0.8864 - precision: 0.8750 - recall: 0.4375 - auc: 0.8668 - val_loss: 15.3923 - val_tp: 0.0000e+00 - val_fp: 0.0000e+00 - val_tn: 37.0000 - val_fn: 2.0000 - val_accuracy: 0.9487 - val_precision: 0.0000e+00 - val_recall: 0.0000e+00 - val_auc: 0.5000\n",
            "Epoch 43/50\n",
            "3/3 [==============================] - 0s 18ms/step - loss: 0.2783 - tp: 7.0000 - fp: 1.0000 - tn: 71.0000 - fn: 9.0000 - accuracy: 0.8864 - precision: 0.8750 - recall: 0.4375 - auc: 0.8828 - val_loss: 17.1811 - val_tp: 0.0000e+00 - val_fp: 0.0000e+00 - val_tn: 37.0000 - val_fn: 2.0000 - val_accuracy: 0.9487 - val_precision: 0.0000e+00 - val_recall: 0.0000e+00 - val_auc: 0.5000\n",
            "Epoch 44/50\n",
            "3/3 [==============================] - 0s 20ms/step - loss: 0.2982 - tp: 7.0000 - fp: 1.0000 - tn: 71.0000 - fn: 9.0000 - accuracy: 0.8864 - precision: 0.8750 - recall: 0.4375 - auc: 0.8607 - val_loss: 18.5557 - val_tp: 0.0000e+00 - val_fp: 0.0000e+00 - val_tn: 37.0000 - val_fn: 2.0000 - val_accuracy: 0.9487 - val_precision: 0.0000e+00 - val_recall: 0.0000e+00 - val_auc: 0.5000\n",
            "Epoch 45/50\n",
            "3/3 [==============================] - 0s 15ms/step - loss: 0.2788 - tp: 7.0000 - fp: 1.0000 - tn: 71.0000 - fn: 9.0000 - accuracy: 0.8864 - precision: 0.8750 - recall: 0.4375 - auc: 0.8689 - val_loss: 20.6660 - val_tp: 0.0000e+00 - val_fp: 0.0000e+00 - val_tn: 37.0000 - val_fn: 2.0000 - val_accuracy: 0.9487 - val_precision: 0.0000e+00 - val_recall: 0.0000e+00 - val_auc: 0.5000\n",
            "Epoch 46/50\n",
            "3/3 [==============================] - 0s 17ms/step - loss: 0.2704 - tp: 7.0000 - fp: 1.0000 - tn: 71.0000 - fn: 9.0000 - accuracy: 0.8864 - precision: 0.8750 - recall: 0.4375 - auc: 0.8824 - val_loss: 22.5714 - val_tp: 0.0000e+00 - val_fp: 0.0000e+00 - val_tn: 37.0000 - val_fn: 2.0000 - val_accuracy: 0.9487 - val_precision: 0.0000e+00 - val_recall: 0.0000e+00 - val_auc: 0.5000\n",
            "Epoch 47/50\n",
            "3/3 [==============================] - 0s 16ms/step - loss: 0.2874 - tp: 7.0000 - fp: 1.0000 - tn: 71.0000 - fn: 9.0000 - accuracy: 0.8864 - precision: 0.8750 - recall: 0.4375 - auc: 0.8720 - val_loss: 23.4741 - val_tp: 0.0000e+00 - val_fp: 0.0000e+00 - val_tn: 37.0000 - val_fn: 2.0000 - val_accuracy: 0.9487 - val_precision: 0.0000e+00 - val_recall: 0.0000e+00 - val_auc: 0.5000\n",
            "Epoch 48/50\n",
            "3/3 [==============================] - 0s 14ms/step - loss: 0.2809 - tp: 7.0000 - fp: 1.0000 - tn: 71.0000 - fn: 9.0000 - accuracy: 0.8864 - precision: 0.8750 - recall: 0.4375 - auc: 0.8841 - val_loss: 24.7576 - val_tp: 0.0000e+00 - val_fp: 0.0000e+00 - val_tn: 37.0000 - val_fn: 2.0000 - val_accuracy: 0.9487 - val_precision: 0.0000e+00 - val_recall: 0.0000e+00 - val_auc: 0.5000\n",
            "Epoch 49/50\n",
            "3/3 [==============================] - 0s 16ms/step - loss: 0.2606 - tp: 7.0000 - fp: 1.0000 - tn: 71.0000 - fn: 9.0000 - accuracy: 0.8864 - precision: 0.8750 - recall: 0.4375 - auc: 0.9102 - val_loss: 27.8565 - val_tp: 0.0000e+00 - val_fp: 0.0000e+00 - val_tn: 37.0000 - val_fn: 2.0000 - val_accuracy: 0.9487 - val_precision: 0.0000e+00 - val_recall: 0.0000e+00 - val_auc: 0.5000\n",
            "Epoch 50/50\n",
            "3/3 [==============================] - 0s 16ms/step - loss: 0.2862 - tp: 7.0000 - fp: 1.0000 - tn: 71.0000 - fn: 9.0000 - accuracy: 0.8864 - precision: 0.8750 - recall: 0.4375 - auc: 0.8885 - val_loss: 28.8251 - val_tp: 0.0000e+00 - val_fp: 0.0000e+00 - val_tn: 37.0000 - val_fn: 2.0000 - val_accuracy: 0.9487 - val_precision: 0.0000e+00 - val_recall: 0.0000e+00 - val_auc: 0.5000\n"
          ],
          "name": "stdout"
        }
      ]
    },
    {
      "cell_type": "markdown",
      "metadata": {
        "id": "15V1uaAsM5bR"
      },
      "source": [
        "### Results"
      ]
    },
    {
      "cell_type": "markdown",
      "metadata": {
        "id": "SQez8dYQO4G2"
      },
      "source": [
        "#### Compare with NBER"
      ]
    },
    {
      "cell_type": "code",
      "metadata": {
        "id": "VXgYxb3vKE9F",
        "colab": {
          "base_uri": "https://localhost:8080/",
          "height": 592
        },
        "outputId": "9450a84e-2b97-460c-8c45-754305a0301d"
      },
      "source": [
        "USDL_model = model.predict(test_features)\n",
        "time_axis = range(0,test_labels.shape[0])\n",
        "plt.bar(time_axis, test_labels.T, width=1, linewidth=1, align='center', color=\"lightgray\", label='NBER') \n",
        "plt.plot(time_axis, USDL_model, 'b-', color=\"royalblue\", label='USDL_model')\n",
        "plt.legend()\n",
        "plt.show()"
      ],
      "execution_count": null,
      "outputs": [
        {
          "output_type": "display_data",
          "data": {
            "image/png": "[encoded data removed]",
            "text/plain": [
              "<Figure size 864x720 with 1 Axes>"
            ]
          },
          "metadata": {
            "tags": [],
            "needs_background": "light"
          }
        }
      ]
    },
    {
      "cell_type": "markdown",
      "metadata": {
        "id": "zjCmyIsVMuys"
      },
      "source": [
        "#### Confusion matrix\n",
        "\n",
        "We can use a [confusion matrix](https://developers.google.com/machine-learning/glossary/#confusion_matrix) to summarize the actual vs. predicted labels."
      ]
    },
    {
      "cell_type": "code",
      "metadata": {
        "id": "l5n43LqOM_vG"
      },
      "source": [
        "test_predictions_baseline = model.predict(test_features)"
      ],
      "execution_count": null,
      "outputs": []
    },
    {
      "cell_type": "code",
      "metadata": {
        "id": "4ugClbDuNNat"
      },
      "source": [
        "def plot_cm(labels, predictions, p=0.5):\n",
        "  cm = confusion_matrix(labels, predictions > p)\n",
        "  plt.figure(figsize=(5,5))\n",
        "  sns.heatmap(cm, annot=True, fmt=\"d\")\n",
        "  plt.title('Confusion matrix @{:.2f}'.format(p))\n",
        "  plt.ylabel('Actual label')\n",
        "  plt.xlabel('Predicted label')\n",
        "\n",
        "  print('Expansions Detected (True Negatives): ', cm[0][0])\n",
        "  print('Expansions Incorrectly Detected (False Positives): ', cm[0][1])\n",
        "  print('Recessions Missed (False Negatives): ', cm[1][0])\n",
        "  print('Recessions Detected (True Positives): ', cm[1][1])\n",
        "  print('Total Recessions: ', np.sum(cm[1]))"
      ],
      "execution_count": null,
      "outputs": []
    },
    {
      "cell_type": "markdown",
      "metadata": {
        "id": "6xKUhOdzNT6o"
      },
      "source": [
        "Evaluate the model on the TEST dataset and display the results for the metrics you created above."
      ]
    },
    {
      "cell_type": "code",
      "metadata": {
        "id": "ivZOj7SSNX69",
        "colab": {
          "base_uri": "https://localhost:8080/",
          "height": 605
        },
        "outputId": "24c8c31c-e258-443d-c77c-12c61918dfe2"
      },
      "source": [
        "baseline_results = model.evaluate(test_features, test_labels, verbose=0)\n",
        "for name, value in zip(model.metrics_names, baseline_results):\n",
        "  print(name, ': ', value)\n",
        "print()\n",
        "\n",
        "plot_cm(test_labels, test_predictions_baseline)"
      ],
      "execution_count": null,
      "outputs": [
        {
          "output_type": "stream",
          "text": [
            "loss :  165.8089599609375\n",
            "tp :  0.0\n",
            "fp :  0.0\n",
            "tn :  76.0\n",
            "fn :  9.0\n",
            "accuracy :  0.8941176533699036\n",
            "precision :  0.0\n",
            "recall :  0.0\n",
            "auc :  0.5\n",
            "\n",
            "Expansions Detected (True Negatives):  76\n",
            "Expansions Incorrectly Detected (False Positives):  0\n",
            "Recessions Missed (False Negatives):  9\n",
            "Recessions Detected (True Positives):  0\n",
            "Total Recessions:  9\n"
          ],
          "name": "stdout"
        },
        {
          "output_type": "display_data",
          "data": {
            "image/png": "[encoded data removed]",
            "text/plain": [
              "<Figure size 360x360 with 2 Axes>"
            ]
          },
          "metadata": {
            "tags": [],
            "needs_background": "light"
          }
        }
      ]
    }
  ]
}
